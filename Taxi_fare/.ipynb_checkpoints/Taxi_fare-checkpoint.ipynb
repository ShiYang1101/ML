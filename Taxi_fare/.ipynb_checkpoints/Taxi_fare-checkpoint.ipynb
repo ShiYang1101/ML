{
 "cells": [
  {
   "cell_type": "code",
   "execution_count": 1,
   "id": "b5586161-8162-4a8c-b7c8-b5b87cbbba5c",
   "metadata": {},
   "outputs": [],
   "source": [
    "import tensorflow as tf\n",
    "import pandas as pd\n",
    "from tensorflow.keras.models import Sequential\n",
    "from tensorflow.keras.layers import Dense, DenseFeatures\n",
    "from tensorflow.keras.callbacks import TensorBoard\n",
    "import shutil\n",
    "import os\n",
    "import datetime"
   ]
  },
  {
   "cell_type": "markdown",
   "id": "7d710393-4b66-4cb2-aef2-2181777ff039",
   "metadata": {},
   "source": [
    "# The purpose of this notebook is to practice on building neural netwrok for predicting the amount of taxi_fare based on distance traveled. The data used were from Google Cloud public dataset."
   ]
  },
  {
   "cell_type": "code",
   "execution_count": 2,
   "id": "d19bafd1-a5c8-441c-83c7-495d844cc46a",
   "metadata": {},
   "outputs": [
    {
     "name": "stdout",
     "output_type": "stream",
     "text": [
      "-rw-rw-r-- 1 shiya shiya 123590 Dec  5 19:36 ../data/taxi-test.csv\n",
      "-rw-rw-r-- 1 shiya shiya 579055 Dec  5 19:36 ../data/taxi-train.csv\n",
      "-rw-rw-r-- 1 shiya shiya 123114 Dec  5 19:36 ../data/taxi-valid.csv\n"
     ]
    }
   ],
   "source": [
    "!ls -l ../data/*.csv"
   ]
  },
  {
   "cell_type": "code",
   "execution_count": 3,
   "id": "45b91794-aa8d-4f31-8827-509ed8a38bce",
   "metadata": {},
   "outputs": [
    {
     "data": {
      "text/html": [
       "<div>\n",
       "<style scoped>\n",
       "    .dataframe tbody tr th:only-of-type {\n",
       "        vertical-align: middle;\n",
       "    }\n",
       "\n",
       "    .dataframe tbody tr th {\n",
       "        vertical-align: top;\n",
       "    }\n",
       "\n",
       "    .dataframe thead th {\n",
       "        text-align: right;\n",
       "    }\n",
       "</style>\n",
       "<table border=\"1\" class=\"dataframe\">\n",
       "  <thead>\n",
       "    <tr style=\"text-align: right;\">\n",
       "      <th></th>\n",
       "      <th>11.3</th>\n",
       "      <th>2011-01-28 20:42:59 UTC</th>\n",
       "      <th>-73.999022</th>\n",
       "      <th>40.739146</th>\n",
       "      <th>-73.990369</th>\n",
       "      <th>40.717866</th>\n",
       "      <th>1</th>\n",
       "      <th>0</th>\n",
       "    </tr>\n",
       "  </thead>\n",
       "  <tbody>\n",
       "    <tr>\n",
       "      <th>0</th>\n",
       "      <td>7.7</td>\n",
       "      <td>2011-06-27 04:28:06 UTC</td>\n",
       "      <td>-73.987443</td>\n",
       "      <td>40.729221</td>\n",
       "      <td>-73.979013</td>\n",
       "      <td>40.758641</td>\n",
       "      <td>1</td>\n",
       "      <td>1</td>\n",
       "    </tr>\n",
       "    <tr>\n",
       "      <th>1</th>\n",
       "      <td>10.5</td>\n",
       "      <td>2011-04-03 00:54:53 UTC</td>\n",
       "      <td>-73.982539</td>\n",
       "      <td>40.735725</td>\n",
       "      <td>-73.954797</td>\n",
       "      <td>40.778388</td>\n",
       "      <td>1</td>\n",
       "      <td>2</td>\n",
       "    </tr>\n",
       "    <tr>\n",
       "      <th>2</th>\n",
       "      <td>16.2</td>\n",
       "      <td>2009-04-10 04:11:56 UTC</td>\n",
       "      <td>-74.001945</td>\n",
       "      <td>40.740505</td>\n",
       "      <td>-73.913850</td>\n",
       "      <td>40.758559</td>\n",
       "      <td>1</td>\n",
       "      <td>3</td>\n",
       "    </tr>\n",
       "    <tr>\n",
       "      <th>3</th>\n",
       "      <td>33.5</td>\n",
       "      <td>2014-02-24 18:22:00 UTC</td>\n",
       "      <td>-73.993372</td>\n",
       "      <td>40.753382</td>\n",
       "      <td>-73.860900</td>\n",
       "      <td>40.732897</td>\n",
       "      <td>2</td>\n",
       "      <td>4</td>\n",
       "    </tr>\n",
       "    <tr>\n",
       "      <th>4</th>\n",
       "      <td>6.9</td>\n",
       "      <td>2011-12-10 00:25:23 UTC</td>\n",
       "      <td>-73.996237</td>\n",
       "      <td>40.721848</td>\n",
       "      <td>-73.989416</td>\n",
       "      <td>40.718052</td>\n",
       "      <td>1</td>\n",
       "      <td>5</td>\n",
       "    </tr>\n",
       "    <tr>\n",
       "      <th>...</th>\n",
       "      <td>...</td>\n",
       "      <td>...</td>\n",
       "      <td>...</td>\n",
       "      <td>...</td>\n",
       "      <td>...</td>\n",
       "      <td>...</td>\n",
       "      <td>...</td>\n",
       "      <td>...</td>\n",
       "    </tr>\n",
       "    <tr>\n",
       "      <th>7327</th>\n",
       "      <td>4.5</td>\n",
       "      <td>2014-10-06 15:16:00 UTC</td>\n",
       "      <td>-73.970435</td>\n",
       "      <td>40.764617</td>\n",
       "      <td>-73.962507</td>\n",
       "      <td>40.775907</td>\n",
       "      <td>1</td>\n",
       "      <td>7328</td>\n",
       "    </tr>\n",
       "    <tr>\n",
       "      <th>7328</th>\n",
       "      <td>16.9</td>\n",
       "      <td>2012-03-04 00:57:00 UTC</td>\n",
       "      <td>-73.985456</td>\n",
       "      <td>40.758156</td>\n",
       "      <td>-74.008113</td>\n",
       "      <td>40.704856</td>\n",
       "      <td>1</td>\n",
       "      <td>7329</td>\n",
       "    </tr>\n",
       "    <tr>\n",
       "      <th>7329</th>\n",
       "      <td>9.0</td>\n",
       "      <td>2013-04-01 08:10:33 UTC</td>\n",
       "      <td>-73.994211</td>\n",
       "      <td>40.750970</td>\n",
       "      <td>-73.971693</td>\n",
       "      <td>40.753818</td>\n",
       "      <td>1</td>\n",
       "      <td>7330</td>\n",
       "    </tr>\n",
       "    <tr>\n",
       "      <th>7330</th>\n",
       "      <td>11.0</td>\n",
       "      <td>2015-05-09 10:09:38 UTC</td>\n",
       "      <td>-73.963676</td>\n",
       "      <td>40.761753</td>\n",
       "      <td>-73.988770</td>\n",
       "      <td>40.727432</td>\n",
       "      <td>1</td>\n",
       "      <td>7331</td>\n",
       "    </tr>\n",
       "    <tr>\n",
       "      <th>7331</th>\n",
       "      <td>9.3</td>\n",
       "      <td>2012-02-21 11:53:00 UTC</td>\n",
       "      <td>-73.953513</td>\n",
       "      <td>40.784922</td>\n",
       "      <td>-73.977968</td>\n",
       "      <td>40.759852</td>\n",
       "      <td>2</td>\n",
       "      <td>7332</td>\n",
       "    </tr>\n",
       "  </tbody>\n",
       "</table>\n",
       "<p>7332 rows × 8 columns</p>\n",
       "</div>"
      ],
      "text/plain": [
       "      11.3  2011-01-28 20:42:59 UTC  -73.999022  40.739146  -73.990369  \\\n",
       "0      7.7  2011-06-27 04:28:06 UTC  -73.987443  40.729221  -73.979013   \n",
       "1     10.5  2011-04-03 00:54:53 UTC  -73.982539  40.735725  -73.954797   \n",
       "2     16.2  2009-04-10 04:11:56 UTC  -74.001945  40.740505  -73.913850   \n",
       "3     33.5  2014-02-24 18:22:00 UTC  -73.993372  40.753382  -73.860900   \n",
       "4      6.9  2011-12-10 00:25:23 UTC  -73.996237  40.721848  -73.989416   \n",
       "...    ...                      ...         ...        ...         ...   \n",
       "7327   4.5  2014-10-06 15:16:00 UTC  -73.970435  40.764617  -73.962507   \n",
       "7328  16.9  2012-03-04 00:57:00 UTC  -73.985456  40.758156  -74.008113   \n",
       "7329   9.0  2013-04-01 08:10:33 UTC  -73.994211  40.750970  -73.971693   \n",
       "7330  11.0  2015-05-09 10:09:38 UTC  -73.963676  40.761753  -73.988770   \n",
       "7331   9.3  2012-02-21 11:53:00 UTC  -73.953513  40.784922  -73.977968   \n",
       "\n",
       "      40.717866  1     0  \n",
       "0     40.758641  1     1  \n",
       "1     40.778388  1     2  \n",
       "2     40.758559  1     3  \n",
       "3     40.732897  2     4  \n",
       "4     40.718052  1     5  \n",
       "...         ... ..   ...  \n",
       "7327  40.775907  1  7328  \n",
       "7328  40.704856  1  7329  \n",
       "7329  40.753818  1  7330  \n",
       "7330  40.727432  1  7331  \n",
       "7331  40.759852  2  7332  \n",
       "\n",
       "[7332 rows x 8 columns]"
      ]
     },
     "execution_count": 3,
     "metadata": {},
     "output_type": "execute_result"
    }
   ],
   "source": [
    "train_pd = pd.read_csv('../data/taxi-train.csv')\n",
    "train_pd\n",
    "#Checking the format of data. Missing feature names!"
   ]
  },
  {
   "cell_type": "code",
   "execution_count": 4,
   "id": "fa395c58-3405-4953-92e8-bb39d742b281",
   "metadata": {},
   "outputs": [],
   "source": [
    "COLUMNS = ['fare_amount',\n",
    "    'pickup_datetime',\n",
    "    'pickup_longitude',\n",
    "    'pickup_latitude',\n",
    "    'dropoff_longitude',\n",
    "    'dropoff_latitude',\n",
    "    'passenger_count',\n",
    "    'key']\n",
    "\n",
    "#Label fare amount for prediction.\n",
    "LABELS = 'fare_amount'\n",
    "#Features to be removed\n",
    "UNWANTED_COLUMNS = ['pickup_datetime', 'key']\n",
    "DEFAULTS = [[0.0], ['na'],[0.0], [0.0], [0.0],[0.0],[0.0],['na']]"
   ]
  },
  {
   "cell_type": "code",
   "execution_count": 5,
   "id": "06fe3901-6d7e-49b6-8432-c6e471a44247",
   "metadata": {},
   "outputs": [],
   "source": [
    "#Function used to cleaning data, and seperating features and label.\n",
    "def dataClean(row_data):\n",
    "    label_column = row_data.pop(LABELS)\n",
    "    feature_columns = row_data\n",
    "    \n",
    "    for unwanted in UNWANTED_COLUMNS:\n",
    "        feature_columns.pop(unwanted)\n",
    "    \n",
    "    return feature_columns, label_column"
   ]
  },
  {
   "cell_type": "code",
   "execution_count": 6,
   "id": "2665d3dc-bfb5-4133-beab-1389a2d8bfa5",
   "metadata": {},
   "outputs": [],
   "source": [
    "#Creating a generator later used in model.fit() method\n",
    "def createDataset(pattern, batch_size, mode = 'eval'):\n",
    "    dataset = tf.data.experimental.make_csv_dataset(\n",
    "        pattern, batch_size, COLUMNS, DEFAULTS)\n",
    "    #Cleaning data\n",
    "    dataset = dataset.map(dataClean)\n",
    "    \n",
    "    #Shuffle training data, since we are gonna use batch size of 1000,\n",
    "    #the buffer size was set accordingly.\n",
    "    if mode == 'train':\n",
    "        dataset = dataset.shuffle(buffer_size=1000).repeat()\n",
    "    dataset = dataset.prefetch(1)\n",
    "    return dataset"
   ]
  },
  {
   "cell_type": "code",
   "execution_count": 7,
   "id": "0c24cc8d-0169-45da-81c5-3ba0a80a7e60",
   "metadata": {},
   "outputs": [
    {
     "data": {
      "text/plain": [
       "{'pickup_longitude': NumericColumn(key='pickup_longitude', shape=(1,), default_value=None, dtype=tf.float32, normalizer_fn=None),\n",
       " 'pickup_latitude': NumericColumn(key='pickup_latitude', shape=(1,), default_value=None, dtype=tf.float32, normalizer_fn=None),\n",
       " 'dropoff_latitude': NumericColumn(key='dropoff_latitude', shape=(1,), default_value=None, dtype=tf.float32, normalizer_fn=None),\n",
       " 'dropoff_longitude': NumericColumn(key='dropoff_longitude', shape=(1,), default_value=None, dtype=tf.float32, normalizer_fn=None)}"
      ]
     },
     "execution_count": 7,
     "metadata": {},
     "output_type": "execute_result"
    }
   ],
   "source": [
    "input_features = ['pickup_longitude', \\\n",
    "                  'pickup_latitude', \\\n",
    "                  'dropoff_latitude', \\\n",
    "                  'dropoff_longitude']\n",
    "feature_dict = { names: tf.feature_column.numeric_column(names) \\\n",
    "                for names in input_features}\n",
    "feature_dict"
   ]
  },
  {
   "cell_type": "code",
   "execution_count": 8,
   "id": "d6ae8b99-29f7-487e-bdc7-5bd54f074b94",
   "metadata": {},
   "outputs": [
    {
     "data": {
      "text/plain": [
       "keras.engine.sequential.Sequential"
      ]
     },
     "execution_count": 8,
     "metadata": {},
     "output_type": "execute_result"
    }
   ],
   "source": [
    "#Creating model of neural network\n",
    "Model = Sequential([DenseFeatures(feature_columns = feature_dict.values()), \\\n",
    "                    Dense(32, 'relu', 'h1'), \\\n",
    "                    Dense(8, 'relu', 'h2'), \\\n",
    "                    Dense(1, 'linear', 'output')])\n",
    "type(Model)"
   ]
  },
  {
   "cell_type": "code",
   "execution_count": 9,
   "id": "eaaf8827-5128-4854-8ab2-32d5be35c3b1",
   "metadata": {},
   "outputs": [],
   "source": [
    "#Custom metric used for testing the model\n",
    "def rmse(y_pred, y_true):\n",
    "    return tf.sqrt(tf.reduce_mean(tf.square(y_pred - y_true)))"
   ]
  },
  {
   "cell_type": "code",
   "execution_count": 10,
   "id": "be7c6ebf-7340-4938-b864-cd61d1b971d5",
   "metadata": {},
   "outputs": [],
   "source": [
    "Model.compile(optimizer='adam', loss='mse', metrics=[rmse, 'mse'])"
   ]
  },
  {
   "cell_type": "code",
   "execution_count": 11,
   "id": "23de4d4b-7aca-42fd-a6e3-b025d78772f2",
   "metadata": {},
   "outputs": [
    {
     "name": "stdout",
     "output_type": "stream",
     "text": [
      "CPU times: user 4 µs, sys: 0 ns, total: 4 µs\n",
      "Wall time: 8.34 µs\n"
     ]
    }
   ],
   "source": [
    "%time \n",
    "NUM_EPOCH = 50\n",
    "TRAIN_BATCH_SIZE = 1000\n",
    "NUM_TRAIN_EXAMPLES = 10000 * 5\n",
    "NUM_EVAL_EXAMPLES = 10000\n",
    "steps_per_epoch = NUM_TRAIN_EXAMPLES // (TRAIN_BATCH_SIZE * NUM_EPOCH)\n",
    "LOGDIR = \"./taxi_trained\"\n",
    "\n",
    "#Defining data generated\n",
    "train_data = createDataset('../data/taxi-train.csv', TRAIN_BATCH_SIZE, mode = 'train')\n",
    "#Validation data was set to take 10 set of data of batch size 1000\n",
    "eval_data = createDataset('../data/taxi-valid.csv', 1000).take(10)"
   ]
  },
  {
   "cell_type": "code",
   "execution_count": 12,
   "id": "0375025a-c992-427d-8698-ebda1e5137e9",
   "metadata": {},
   "outputs": [
    {
     "name": "stdout",
     "output_type": "stream",
     "text": [
      "Epoch 1/50\n",
      "WARNING:tensorflow:Layers in a Sequential model should only have a single input tensor, but we receive a <class 'collections.OrderedDict'> input: OrderedDict([('pickup_longitude', <tf.Tensor 'IteratorGetNext:4' shape=(1000,) dtype=float32>), ('pickup_latitude', <tf.Tensor 'IteratorGetNext:3' shape=(1000,) dtype=float32>), ('dropoff_longitude', <tf.Tensor 'IteratorGetNext:1' shape=(1000,) dtype=float32>), ('dropoff_latitude', <tf.Tensor 'IteratorGetNext:0' shape=(1000,) dtype=float32>), ('passenger_count', <tf.Tensor 'IteratorGetNext:2' shape=(1000,) dtype=float32>)])\n",
      "Consider rewriting this model with the Functional API.\n",
      "WARNING:tensorflow:Layers in a Sequential model should only have a single input tensor, but we receive a <class 'collections.OrderedDict'> input: OrderedDict([('pickup_longitude', <tf.Tensor 'IteratorGetNext:4' shape=(1000,) dtype=float32>), ('pickup_latitude', <tf.Tensor 'IteratorGetNext:3' shape=(1000,) dtype=float32>), ('dropoff_longitude', <tf.Tensor 'IteratorGetNext:1' shape=(1000,) dtype=float32>), ('dropoff_latitude', <tf.Tensor 'IteratorGetNext:0' shape=(1000,) dtype=float32>), ('passenger_count', <tf.Tensor 'IteratorGetNext:2' shape=(1000,) dtype=float32>)])\n",
      "Consider rewriting this model with the Functional API.\n",
      "1/1 [==============================] - ETA: 0s - loss: 379.6956 - rmse: 19.4858 - mse: 379.6956WARNING:tensorflow:Layers in a Sequential model should only have a single input tensor, but we receive a <class 'collections.OrderedDict'> input: OrderedDict([('pickup_longitude', <tf.Tensor 'IteratorGetNext:4' shape=(1000,) dtype=float32>), ('pickup_latitude', <tf.Tensor 'IteratorGetNext:3' shape=(1000,) dtype=float32>), ('dropoff_longitude', <tf.Tensor 'IteratorGetNext:1' shape=(1000,) dtype=float32>), ('dropoff_latitude', <tf.Tensor 'IteratorGetNext:0' shape=(1000,) dtype=float32>), ('passenger_count', <tf.Tensor 'IteratorGetNext:2' shape=(1000,) dtype=float32>)])\n",
      "Consider rewriting this model with the Functional API.\n",
      "1/1 [==============================] - 14s 14s/step - loss: 379.6956 - rmse: 19.4858 - mse: 379.6956 - val_loss: 402.0830 - val_rmse: 20.0447 - val_mse: 402.0830\n",
      "Epoch 2/50\n",
      "1/1 [==============================] - 0s 201ms/step - loss: 327.0617 - rmse: 18.0848 - mse: 327.0617 - val_loss: 382.3065 - val_rmse: 19.5453 - val_mse: 382.3065\n",
      "Epoch 3/50\n",
      "1/1 [==============================] - 0s 195ms/step - loss: 319.9818 - rmse: 17.8880 - mse: 319.9818 - val_loss: 365.2251 - val_rmse: 19.0989 - val_mse: 365.2251\n",
      "Epoch 4/50\n",
      "1/1 [==============================] - 0s 201ms/step - loss: 353.7236 - rmse: 18.8075 - mse: 353.7236 - val_loss: 344.1406 - val_rmse: 18.5439 - val_mse: 344.1406\n",
      "Epoch 5/50\n",
      "1/1 [==============================] - 0s 202ms/step - loss: 282.6554 - rmse: 16.8124 - mse: 282.6554 - val_loss: 334.0044 - val_rmse: 18.2684 - val_mse: 334.0044\n",
      "Epoch 6/50\n",
      "1/1 [==============================] - 0s 205ms/step - loss: 296.7422 - rmse: 17.2262 - mse: 296.7422 - val_loss: 313.6829 - val_rmse: 17.6873 - val_mse: 313.6828\n",
      "Epoch 7/50\n",
      "1/1 [==============================] - 0s 232ms/step - loss: 321.1385 - rmse: 17.9203 - mse: 321.1385 - val_loss: 302.2314 - val_rmse: 17.3703 - val_mse: 302.2314\n",
      "Epoch 8/50\n",
      "1/1 [==============================] - 0s 226ms/step - loss: 288.1766 - rmse: 16.9758 - mse: 288.1766 - val_loss: 288.3453 - val_rmse: 16.9775 - val_mse: 288.3453\n",
      "Epoch 9/50\n",
      "1/1 [==============================] - 0s 210ms/step - loss: 240.6983 - rmse: 15.5145 - mse: 240.6983 - val_loss: 274.3698 - val_rmse: 16.5548 - val_mse: 274.3698\n",
      "Epoch 10/50\n",
      "1/1 [==============================] - 0s 241ms/step - loss: 239.0205 - rmse: 15.4603 - mse: 239.0205 - val_loss: 263.6399 - val_rmse: 16.2268 - val_mse: 263.6399\n",
      "Epoch 11/50\n",
      "1/1 [==============================] - 0s 259ms/step - loss: 244.9408 - rmse: 15.6506 - mse: 244.9408 - val_loss: 249.5224 - val_rmse: 15.7907 - val_mse: 249.5224\n",
      "Epoch 12/50\n",
      "1/1 [==============================] - 0s 219ms/step - loss: 189.6210 - rmse: 13.7703 - mse: 189.6210 - val_loss: 249.3725 - val_rmse: 15.7836 - val_mse: 249.3725\n",
      "Epoch 13/50\n",
      "1/1 [==============================] - 0s 211ms/step - loss: 235.9622 - rmse: 15.3611 - mse: 235.9622 - val_loss: 245.8759 - val_rmse: 15.6750 - val_mse: 245.8759\n",
      "Epoch 14/50\n",
      "1/1 [==============================] - 0s 242ms/step - loss: 199.0264 - rmse: 14.1077 - mse: 199.0264 - val_loss: 248.4532 - val_rmse: 15.7431 - val_mse: 248.4532\n",
      "Epoch 15/50\n",
      "1/1 [==============================] - 0s 256ms/step - loss: 209.8525 - rmse: 14.4863 - mse: 209.8525 - val_loss: 248.1045 - val_rmse: 15.7396 - val_mse: 248.1045\n",
      "Epoch 16/50\n",
      "1/1 [==============================] - 0s 260ms/step - loss: 211.0165 - rmse: 14.5264 - mse: 211.0165 - val_loss: 247.3082 - val_rmse: 15.7219 - val_mse: 247.3082\n",
      "Epoch 17/50\n",
      "1/1 [==============================] - 0s 267ms/step - loss: 195.2552 - rmse: 13.9734 - mse: 195.2552 - val_loss: 249.5352 - val_rmse: 15.7769 - val_mse: 249.5352\n",
      "Epoch 18/50\n",
      "1/1 [==============================] - 0s 261ms/step - loss: 196.5914 - rmse: 14.0211 - mse: 196.5914 - val_loss: 250.8207 - val_rmse: 15.8232 - val_mse: 250.8207\n",
      "Epoch 19/50\n",
      "1/1 [==============================] - 0s 236ms/step - loss: 237.4607 - rmse: 15.4098 - mse: 237.4607 - val_loss: 249.7554 - val_rmse: 15.7948 - val_mse: 249.7554\n",
      "Epoch 20/50\n",
      "1/1 [==============================] - 0s 230ms/step - loss: 213.7217 - rmse: 14.6192 - mse: 213.7217 - val_loss: 247.2274 - val_rmse: 15.7175 - val_mse: 247.2274\n",
      "Epoch 21/50\n",
      "1/1 [==============================] - 0s 251ms/step - loss: 220.9911 - rmse: 14.8658 - mse: 220.9911 - val_loss: 250.2114 - val_rmse: 15.8091 - val_mse: 250.2114\n",
      "Epoch 22/50\n",
      "1/1 [==============================] - 0s 222ms/step - loss: 227.4425 - rmse: 15.0812 - mse: 227.4425 - val_loss: 248.1701 - val_rmse: 15.7445 - val_mse: 248.1701\n",
      "Epoch 23/50\n",
      "1/1 [==============================] - 0s 210ms/step - loss: 253.2048 - rmse: 15.9124 - mse: 253.2048 - val_loss: 249.1694 - val_rmse: 15.7743 - val_mse: 249.1694\n",
      "Epoch 24/50\n",
      "1/1 [==============================] - 0s 201ms/step - loss: 241.0304 - rmse: 15.5252 - mse: 241.0304 - val_loss: 248.6881 - val_rmse: 15.7650 - val_mse: 248.6881\n",
      "Epoch 25/50\n",
      "1/1 [==============================] - 0s 204ms/step - loss: 235.9445 - rmse: 15.3605 - mse: 235.9445 - val_loss: 248.3224 - val_rmse: 15.7530 - val_mse: 248.3224\n",
      "Epoch 26/50\n",
      "1/1 [==============================] - 0s 211ms/step - loss: 185.3421 - rmse: 13.6140 - mse: 185.3421 - val_loss: 246.2624 - val_rmse: 15.6871 - val_mse: 246.2624\n",
      "Epoch 27/50\n",
      "1/1 [==============================] - 0s 200ms/step - loss: 218.5479 - rmse: 14.7834 - mse: 218.5479 - val_loss: 247.9141 - val_rmse: 15.7381 - val_mse: 247.9141\n",
      "Epoch 28/50\n",
      "1/1 [==============================] - 0s 219ms/step - loss: 211.8731 - rmse: 14.5559 - mse: 211.8731 - val_loss: 246.7641 - val_rmse: 15.6920 - val_mse: 246.7641\n",
      "Epoch 29/50\n",
      "1/1 [==============================] - 0s 210ms/step - loss: 216.8511 - rmse: 14.7259 - mse: 216.8511 - val_loss: 249.3485 - val_rmse: 15.7749 - val_mse: 249.3485\n",
      "Epoch 30/50\n",
      "1/1 [==============================] - 0s 206ms/step - loss: 192.6555 - rmse: 13.8800 - mse: 192.6555 - val_loss: 246.2815 - val_rmse: 15.6777 - val_mse: 246.2815\n",
      "Epoch 31/50\n",
      "1/1 [==============================] - 0s 197ms/step - loss: 230.9979 - rmse: 15.1986 - mse: 230.9979 - val_loss: 248.9743 - val_rmse: 15.7698 - val_mse: 248.9743\n",
      "Epoch 32/50\n",
      "1/1 [==============================] - 0s 209ms/step - loss: 249.5073 - rmse: 15.7958 - mse: 249.5073 - val_loss: 246.8110 - val_rmse: 15.6968 - val_mse: 246.8110\n",
      "Epoch 33/50\n",
      "1/1 [==============================] - 0s 200ms/step - loss: 238.6651 - rmse: 15.4488 - mse: 238.6651 - val_loss: 246.3611 - val_rmse: 15.6795 - val_mse: 246.3611\n",
      "Epoch 34/50\n",
      "1/1 [==============================] - 0s 200ms/step - loss: 189.1686 - rmse: 13.7539 - mse: 189.1686 - val_loss: 247.1458 - val_rmse: 15.7164 - val_mse: 247.1458\n",
      "Epoch 35/50\n",
      "1/1 [==============================] - 0s 214ms/step - loss: 203.5748 - rmse: 14.2680 - mse: 203.5748 - val_loss: 249.8889 - val_rmse: 15.8016 - val_mse: 249.8889\n",
      "Epoch 36/50\n",
      "1/1 [==============================] - 0s 204ms/step - loss: 212.4824 - rmse: 14.5768 - mse: 212.4824 - val_loss: 248.2473 - val_rmse: 15.7486 - val_mse: 248.2473\n",
      "Epoch 37/50\n",
      "1/1 [==============================] - 0s 206ms/step - loss: 204.4568 - rmse: 14.2988 - mse: 204.4568 - val_loss: 248.9172 - val_rmse: 15.7692 - val_mse: 248.9172\n",
      "Epoch 38/50\n",
      "1/1 [==============================] - 0s 213ms/step - loss: 258.2842 - rmse: 16.0712 - mse: 258.2842 - val_loss: 250.7497 - val_rmse: 15.8230 - val_mse: 250.7497\n",
      "Epoch 39/50\n",
      "1/1 [==============================] - 0s 212ms/step - loss: 229.1359 - rmse: 15.1372 - mse: 229.1359 - val_loss: 246.2155 - val_rmse: 15.6785 - val_mse: 246.2155\n",
      "Epoch 40/50\n",
      "1/1 [==============================] - 0s 201ms/step - loss: 250.2032 - rmse: 15.8178 - mse: 250.2032 - val_loss: 249.6259 - val_rmse: 15.7887 - val_mse: 249.6259\n",
      "Epoch 41/50\n",
      "1/1 [==============================] - 0s 204ms/step - loss: 221.8069 - rmse: 14.8932 - mse: 221.8069 - val_loss: 249.7683 - val_rmse: 15.7986 - val_mse: 249.7684\n",
      "Epoch 42/50\n",
      "1/1 [==============================] - 0s 199ms/step - loss: 263.0515 - rmse: 16.2189 - mse: 263.0515 - val_loss: 245.8485 - val_rmse: 15.6709 - val_mse: 245.8485\n",
      "Epoch 43/50\n",
      "1/1 [==============================] - 0s 208ms/step - loss: 251.8661 - rmse: 15.8703 - mse: 251.8661 - val_loss: 248.5127 - val_rmse: 15.7456 - val_mse: 248.5127\n",
      "Epoch 44/50\n",
      "1/1 [==============================] - 0s 237ms/step - loss: 221.6337 - rmse: 14.8874 - mse: 221.6337 - val_loss: 246.3506 - val_rmse: 15.6834 - val_mse: 246.3506\n",
      "Epoch 45/50\n",
      "1/1 [==============================] - 0s 241ms/step - loss: 201.4524 - rmse: 14.1934 - mse: 201.4524 - val_loss: 246.1776 - val_rmse: 15.6820 - val_mse: 246.1776\n",
      "Epoch 46/50\n",
      "1/1 [==============================] - 0s 230ms/step - loss: 220.6667 - rmse: 14.8549 - mse: 220.6667 - val_loss: 246.5266 - val_rmse: 15.6906 - val_mse: 246.5266\n",
      "Epoch 47/50\n",
      "1/1 [==============================] - 0s 206ms/step - loss: 197.9227 - rmse: 14.0685 - mse: 197.9227 - val_loss: 245.3778 - val_rmse: 15.6584 - val_mse: 245.3778\n",
      "Epoch 48/50\n",
      "1/1 [==============================] - 0s 248ms/step - loss: 207.3810 - rmse: 14.4007 - mse: 207.3810 - val_loss: 246.2637 - val_rmse: 15.6850 - val_mse: 246.2637\n",
      "Epoch 49/50\n",
      "1/1 [==============================] - 0s 244ms/step - loss: 230.6679 - rmse: 15.1878 - mse: 230.6679 - val_loss: 246.6249 - val_rmse: 15.6995 - val_mse: 246.6249\n",
      "Epoch 50/50\n",
      "1/1 [==============================] - 0s 257ms/step - loss: 181.9212 - rmse: 13.4878 - mse: 181.9212 - val_loss: 250.0035 - val_rmse: 15.8087 - val_mse: 250.0035\n"
     ]
    }
   ],
   "source": [
    "#Model training\n",
    "history = Model.fit(steps_per_epoch = 1, \\\n",
    "          x = train_data, \\\n",
    "          validation_data = eval_data, \\\n",
    "          callbacks=[TensorBoard(LOGDIR)], \\\n",
    "          epochs = NUM_EPOCH) "
   ]
  },
  {
   "cell_type": "code",
   "execution_count": 13,
   "id": "5537f845-9096-4c49-b2a8-cec9da364b84",
   "metadata": {},
   "outputs": [
    {
     "name": "stdout",
     "output_type": "stream",
     "text": [
      "<TakeDataset shapes: (OrderedDict([(pickup_longitude, (1000,)), (pickup_latitude, (1000,)), (dropoff_longitude, (1000,)), (dropoff_latitude, (1000,)), (passenger_count, (1000,))]), (1000,)), types: (OrderedDict([(pickup_longitude, tf.float32), (pickup_latitude, tf.float32), (dropoff_longitude, tf.float32), (dropoff_latitude, tf.float32), (passenger_count, tf.float32)]), tf.float32)>\n"
     ]
    }
   ],
   "source": [
    "print(eval_data)"
   ]
  },
  {
   "cell_type": "code",
   "execution_count": 14,
   "id": "08267ed9-0241-4981-a751-c71f788db912",
   "metadata": {},
   "outputs": [
    {
     "name": "stdout",
     "output_type": "stream",
     "text": [
      "Model: \"sequential\"\n",
      "_________________________________________________________________\n",
      " Layer (type)                Output Shape              Param #   \n",
      "=================================================================\n",
      " dense_features (DenseFeatur  multiple                 0         \n",
      " es)                                                             \n",
      "                                                                 \n",
      " dense (Dense)               multiple                  160       \n",
      "                                                                 \n",
      " dense_1 (Dense)             multiple                  264       \n",
      "                                                                 \n",
      " dense_2 (Dense)             multiple                  9         \n",
      "                                                                 \n",
      "=================================================================\n",
      "Total params: 433\n",
      "Trainable params: 433\n",
      "Non-trainable params: 0\n",
      "_________________________________________________________________\n"
     ]
    }
   ],
   "source": [
    "Model.summary()"
   ]
  },
  {
   "cell_type": "code",
   "execution_count": 15,
   "id": "ecff86a9-0860-470b-98ba-1eeba2a42424",
   "metadata": {},
   "outputs": [
    {
     "name": "stdout",
     "output_type": "stream",
     "text": [
      "dict_keys(['loss', 'rmse', 'mse', 'val_loss', 'val_rmse', 'val_mse'])\n"
     ]
    }
   ],
   "source": [
    "print(history.history.keys())"
   ]
  },
  {
   "cell_type": "code",
   "execution_count": 16,
   "id": "e1befec7-e24c-433b-b0ce-c474ee0c9f4f",
   "metadata": {},
   "outputs": [
    {
     "data": {
      "text/html": [
       "<div>\n",
       "<style scoped>\n",
       "    .dataframe tbody tr th:only-of-type {\n",
       "        vertical-align: middle;\n",
       "    }\n",
       "\n",
       "    .dataframe tbody tr th {\n",
       "        vertical-align: top;\n",
       "    }\n",
       "\n",
       "    .dataframe thead th {\n",
       "        text-align: right;\n",
       "    }\n",
       "</style>\n",
       "<table border=\"1\" class=\"dataframe\">\n",
       "  <thead>\n",
       "    <tr style=\"text-align: right;\">\n",
       "      <th></th>\n",
       "      <th>loss</th>\n",
       "      <th>val_loss</th>\n",
       "    </tr>\n",
       "  </thead>\n",
       "  <tbody>\n",
       "    <tr>\n",
       "      <th>0</th>\n",
       "      <td>379.695648</td>\n",
       "      <td>402.083008</td>\n",
       "    </tr>\n",
       "    <tr>\n",
       "      <th>1</th>\n",
       "      <td>327.061676</td>\n",
       "      <td>382.306458</td>\n",
       "    </tr>\n",
       "    <tr>\n",
       "      <th>2</th>\n",
       "      <td>319.981812</td>\n",
       "      <td>365.225098</td>\n",
       "    </tr>\n",
       "    <tr>\n",
       "      <th>3</th>\n",
       "      <td>353.723633</td>\n",
       "      <td>344.140625</td>\n",
       "    </tr>\n",
       "    <tr>\n",
       "      <th>4</th>\n",
       "      <td>282.655426</td>\n",
       "      <td>334.004364</td>\n",
       "    </tr>\n",
       "    <tr>\n",
       "      <th>5</th>\n",
       "      <td>296.742249</td>\n",
       "      <td>313.682861</td>\n",
       "    </tr>\n",
       "    <tr>\n",
       "      <th>6</th>\n",
       "      <td>321.138550</td>\n",
       "      <td>302.231354</td>\n",
       "    </tr>\n",
       "    <tr>\n",
       "      <th>7</th>\n",
       "      <td>288.176605</td>\n",
       "      <td>288.345306</td>\n",
       "    </tr>\n",
       "    <tr>\n",
       "      <th>8</th>\n",
       "      <td>240.698257</td>\n",
       "      <td>274.369781</td>\n",
       "    </tr>\n",
       "    <tr>\n",
       "      <th>9</th>\n",
       "      <td>239.020538</td>\n",
       "      <td>263.639893</td>\n",
       "    </tr>\n",
       "  </tbody>\n",
       "</table>\n",
       "</div>"
      ],
      "text/plain": [
       "         loss    val_loss\n",
       "0  379.695648  402.083008\n",
       "1  327.061676  382.306458\n",
       "2  319.981812  365.225098\n",
       "3  353.723633  344.140625\n",
       "4  282.655426  334.004364\n",
       "5  296.742249  313.682861\n",
       "6  321.138550  302.231354\n",
       "7  288.176605  288.345306\n",
       "8  240.698257  274.369781\n",
       "9  239.020538  263.639893"
      ]
     },
     "execution_count": 16,
     "metadata": {},
     "output_type": "execute_result"
    }
   ],
   "source": [
    "#Actual loss vs predicted loss\n",
    "LOSS_PLT = pd.DataFrame(history.history)[['loss', 'val_loss']]\n",
    "LOSS_PLT.head(10)"
   ]
  },
  {
   "cell_type": "code",
   "execution_count": 17,
   "id": "71c6b028-a10f-4b65-bfe5-7831457ca6ed",
   "metadata": {},
   "outputs": [
    {
     "data": {
      "text/plain": [
       "<AxesSubplot:>"
      ]
     },
     "execution_count": 17,
     "metadata": {},
     "output_type": "execute_result"
    },
    {
     "data": {
      "image/png": "[encoded data removed]",
      "text/plain": [
       "<Figure size 432x288 with 1 Axes>"
      ]
     },
     "metadata": {
      "needs_background": "light"
     },
     "output_type": "display_data"
    }
   ],
   "source": [
    "#Visualization of loss vs predict loss\n",
    "LOSS_PLT.plot()"
   ]
  },
  {
   "cell_type": "code",
   "execution_count": 18,
   "id": "08ebb6f4-87fd-4adb-b151-508fcb5df462",
   "metadata": {},
   "outputs": [
    {
     "data": {
      "text/plain": [
       "<AxesSubplot:>"
      ]
     },
     "execution_count": 18,
     "metadata": {},
     "output_type": "execute_result"
    },
    {
     "data": {
      "image/png": "[encoded data removed]",
      "text/plain": [
       "<Figure size 432x288 with 1 Axes>"
      ]
     },
     "metadata": {
      "needs_background": "light"
     },
     "output_type": "display_data"
    }
   ],
   "source": [
    "pd.DataFrame(history.history)[['rmse', 'val_rmse']].plot()"
   ]
  },
  {
   "cell_type": "code",
   "execution_count": 19,
   "id": "abed6e50-de77-4768-9871-b80721557b1f",
   "metadata": {},
   "outputs": [
    {
     "name": "stdout",
     "output_type": "stream",
     "text": [
      "WARNING:tensorflow:Layers in a Sequential model should only have a single input tensor, but we receive a <class 'dict'> input: {'pickup_longitude': <tf.Tensor 'IteratorGetNext:4' shape=(1,) dtype=float32>, 'pickup_latitude': <tf.Tensor 'IteratorGetNext:3' shape=(1,) dtype=float32>, 'dropoff_longitude': <tf.Tensor 'IteratorGetNext:1' shape=(1,) dtype=float32>, 'dropoff_latitude': <tf.Tensor 'IteratorGetNext:0' shape=(1,) dtype=float32>, 'passenger_count': <tf.Tensor 'IteratorGetNext:2' shape=(1,) dtype=float32>}\n",
      "Consider rewriting this model with the Functional API.\n"
     ]
    },
    {
     "data": {
      "text/plain": [
       "array([[0.04705069]], dtype=float32)"
      ]
     },
     "execution_count": 19,
     "metadata": {},
     "output_type": "execute_result"
    }
   ],
   "source": [
    "#Testing prediction\n",
    "Model.predict(x={\"pickup_longitude\": tf.convert_to_tensor([-73.982683]),\n",
    "                 \"pickup_latitude\": tf.convert_to_tensor([40.742104]),\n",
    "                 \"dropoff_longitude\": tf.convert_to_tensor([-73.983766]),\n",
    "                 \"dropoff_latitude\": tf.convert_to_tensor([40.755174]),\n",
    "                 \"passenger_count\": tf.convert_to_tensor([3.0])},\n",
    "              steps=1)"
   ]
  },
  {
   "cell_type": "code",
   "execution_count": 20,
   "id": "ed44ca92-4399-44cd-b9c4-9431d78e7cdf",
   "metadata": {},
   "outputs": [
    {
     "name": "stdout",
     "output_type": "stream",
     "text": [
      "WARNING:tensorflow:Layers in a Sequential model should only have a single input tensor, but we receive a <class 'collections.OrderedDict'> input: OrderedDict([('pickup_longitude', <tf.Tensor 'pickup_longitude:0' shape=(None,) dtype=float32>), ('pickup_latitude', <tf.Tensor 'pickup_latitude:0' shape=(None,) dtype=float32>), ('dropoff_longitude', <tf.Tensor 'dropoff_longitude:0' shape=(None,) dtype=float32>), ('dropoff_latitude', <tf.Tensor 'dropoff_latitude:0' shape=(None,) dtype=float32>), ('passenger_count', <tf.Tensor 'passenger_count:0' shape=(None,) dtype=float32>)])\n",
      "Consider rewriting this model with the Functional API.\n",
      "WARNING:tensorflow:Layers in a Sequential model should only have a single input tensor, but we receive a <class 'collections.OrderedDict'> input: OrderedDict([('pickup_longitude', <tf.Tensor 'inputs_4:0' shape=(None,) dtype=float32>), ('pickup_latitude', <tf.Tensor 'inputs_3:0' shape=(None,) dtype=float32>), ('dropoff_longitude', <tf.Tensor 'inputs_1:0' shape=(None,) dtype=float32>), ('dropoff_latitude', <tf.Tensor 'inputs:0' shape=(None,) dtype=float32>), ('passenger_count', <tf.Tensor 'inputs_2:0' shape=(None,) dtype=float32>)])\n",
      "Consider rewriting this model with the Functional API.\n",
      "WARNING:tensorflow:Layers in a Sequential model should only have a single input tensor, but we receive a <class 'collections.OrderedDict'> input: OrderedDict([('pickup_longitude', <tf.Tensor 'inputs_4:0' shape=(None,) dtype=float32>), ('pickup_latitude', <tf.Tensor 'inputs_3:0' shape=(None,) dtype=float32>), ('dropoff_longitude', <tf.Tensor 'inputs_1:0' shape=(None,) dtype=float32>), ('dropoff_latitude', <tf.Tensor 'inputs:0' shape=(None,) dtype=float32>), ('passenger_count', <tf.Tensor 'inputs_2:0' shape=(None,) dtype=float32>)])\n",
      "Consider rewriting this model with the Functional API.\n",
      "WARNING:tensorflow:Layers in a Sequential model should only have a single input tensor, but we receive a <class 'collections.OrderedDict'> input: OrderedDict([('pickup_longitude', <tf.Tensor 'pickup_longitude:0' shape=(None,) dtype=float32>), ('pickup_latitude', <tf.Tensor 'pickup_latitude:0' shape=(None,) dtype=float32>), ('dropoff_longitude', <tf.Tensor 'dropoff_longitude:0' shape=(None,) dtype=float32>), ('dropoff_latitude', <tf.Tensor 'dropoff_latitude:0' shape=(None,) dtype=float32>), ('passenger_count', <tf.Tensor 'passenger_count:0' shape=(None,) dtype=float32>)])\n",
      "Consider rewriting this model with the Functional API.\n",
      "WARNING:tensorflow:Layers in a Sequential model should only have a single input tensor, but we receive a <class 'collections.OrderedDict'> input: OrderedDict([('pickup_longitude', <tf.Tensor 'pickup_longitude:0' shape=(None,) dtype=float32>), ('pickup_latitude', <tf.Tensor 'pickup_latitude:0' shape=(None,) dtype=float32>), ('dropoff_longitude', <tf.Tensor 'dropoff_longitude:0' shape=(None,) dtype=float32>), ('dropoff_latitude', <tf.Tensor 'dropoff_latitude:0' shape=(None,) dtype=float32>), ('passenger_count', <tf.Tensor 'passenger_count:0' shape=(None,) dtype=float32>)])\n",
      "Consider rewriting this model with the Functional API.\n",
      "WARNING:tensorflow:Layers in a Sequential model should only have a single input tensor, but we receive a <class 'collections.OrderedDict'> input: OrderedDict([('pickup_longitude', <tf.Tensor 'inputs/pickup_longitude:0' shape=(None,) dtype=float32>), ('pickup_latitude', <tf.Tensor 'inputs/pickup_latitude:0' shape=(None,) dtype=float32>), ('dropoff_longitude', <tf.Tensor 'inputs/dropoff_longitude:0' shape=(None,) dtype=float32>), ('dropoff_latitude', <tf.Tensor 'inputs/dropoff_latitude:0' shape=(None,) dtype=float32>), ('passenger_count', <tf.Tensor 'inputs/passenger_count:0' shape=(None,) dtype=float32>)])\n",
      "Consider rewriting this model with the Functional API.\n",
      "WARNING:tensorflow:Layers in a Sequential model should only have a single input tensor, but we receive a <class 'collections.OrderedDict'> input: OrderedDict([('pickup_longitude', <tf.Tensor 'inputs/pickup_longitude:0' shape=(None,) dtype=float32>), ('pickup_latitude', <tf.Tensor 'inputs/pickup_latitude:0' shape=(None,) dtype=float32>), ('dropoff_longitude', <tf.Tensor 'inputs/dropoff_longitude:0' shape=(None,) dtype=float32>), ('dropoff_latitude', <tf.Tensor 'inputs/dropoff_latitude:0' shape=(None,) dtype=float32>), ('passenger_count', <tf.Tensor 'inputs/passenger_count:0' shape=(None,) dtype=float32>)])\n",
      "Consider rewriting this model with the Functional API.\n",
      "INFO:tensorflow:Assets written to: ./export/savedmodels/taxi_fare/2021-12-13 15:32:43.104266/assets\n"
     ]
    }
   ],
   "source": [
    "#Saving model to external files\n",
    "output_dir = './export/savedmodels'\n",
    "shutil.rmtree(output_dir, ignore_errors = True)\n",
    "output_path = os.path.join(output_dir, 'taxi_fare', str(datetime.datetime.now()))\n",
    "tf.saved_model.save(Model, output_path)"
   ]
  },
  {
   "cell_type": "code",
   "execution_count": null,
   "id": "0d5c613a-f5e4-4b1f-987a-8226e899b70a",
   "metadata": {},
   "outputs": [],
   "source": []
  }
 ],
 "metadata": {
  "kernelspec": {
   "display_name": "Python 3",
   "language": "python",
   "name": "python3"
  },
  "language_info": {
   "codemirror_mode": {
    "name": "ipython",
    "version": 3
   },
   "file_extension": ".py",
   "mimetype": "text/x-python",
   "name": "python",
   "nbconvert_exporter": "python",
   "pygments_lexer": "ipython3",
   "version": "3.8.12"
  }
 },
 "nbformat": 4,
 "nbformat_minor": 5
}
