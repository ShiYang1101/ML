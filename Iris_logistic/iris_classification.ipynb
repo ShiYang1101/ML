{
 "cells": [
  {
   "cell_type": "markdown",
   "id": "3b4d1933-77e3-430d-854f-35bae0431cce",
   "metadata": {},
   "source": [
    "# Practice of logistic regression, using the famous classification problem of species of iris flowers"
   ]
  },
  {
   "cell_type": "markdown",
   "id": "a45064d2-7c0e-409a-bf63-7b227a061544",
   "metadata": {},
   "source": [
    "# Dataset acquired from public dataset on GCP, see link below for more information."
   ]
  },
  {
   "cell_type": "code",
   "execution_count": 32,
   "id": "3823dd5b-755d-4c29-bde0-99ec0bc96c84",
   "metadata": {},
   "outputs": [],
   "source": [
    "import tensorflow as tf\n",
    "import numpy as np\n",
    "import os\n",
    "import pandas as pd\n",
    "import matplotlib.pyplot as plt\n",
    "from tensorflow.keras.models import Sequential\n",
    "from tensorflow.keras.layers import Dense, DenseFeatures\n",
    "import seaborn as sb"
   ]
  },
  {
   "cell_type": "code",
   "execution_count": 2,
   "id": "399f9f09-a578-4cb2-8ffe-7969bc36212a",
   "metadata": {},
   "outputs": [],
   "source": [
    "iris_csv = tf.keras.utils.get_file(origin =\"https://storage.googleapis.com/download.tensorflow.org/data/iris_training.csv\")"
   ]
  },
  {
   "cell_type": "code",
   "execution_count": 34,
   "id": "6e8eb82e-d52a-4a9f-bb9b-245c54f0a9d7",
   "metadata": {},
   "outputs": [
    {
     "name": "stdout",
     "output_type": "stream",
     "text": [
      "120,4,setosa,versicolor,virginica\n",
      "6.4,2.8,5.6,2.2,2\n",
      "5.0,2.3,3.3,1.0,1\n",
      "4.9,2.5,4.5,1.7,2\n",
      "4.9,3.1,1.5,0.1,0\n",
      "5.7,3.8,1.7,0.3,0\n",
      "4.4,3.2,1.3,0.2,0\n",
      "5.4,3.4,1.5,0.4,0\n",
      "6.9,3.1,5.1,2.3,2\n",
      "6.7,3.1,4.4,1.4,1\n"
     ]
    }
   ],
   "source": [
    "!head {iris_csv}"
   ]
  },
  {
   "cell_type": "markdown",
   "id": "49a16619-614c-4cc0-9109-b75c89f2cbce",
   "metadata": {},
   "source": [
    "First row represents:\n",
    "120 examples, 4 features, label 0: setosa, label 1:versicolor, label 2: virginica.\n",
    "\n",
    "Second row and on are the real data."
   ]
  },
  {
   "cell_type": "code",
   "execution_count": 4,
   "id": "bebe4dfa-b8c8-40de-9b0f-ef48e70b25b8",
   "metadata": {},
   "outputs": [
    {
     "name": "stdout",
     "output_type": "stream",
     "text": [
      "<class 'pandas.core.frame.DataFrame'>\n",
      "RangeIndex: 120 entries, 0 to 119\n",
      "Data columns (total 5 columns):\n",
      " #   Column      Non-Null Count  Dtype  \n",
      "---  ------      --------------  -----  \n",
      " 0   120         120 non-null    float64\n",
      " 1   4           120 non-null    float64\n",
      " 2   setosa      120 non-null    float64\n",
      " 3   versicolor  120 non-null    float64\n",
      " 4   virginica   120 non-null    int64  \n",
      "dtypes: float64(4), int64(1)\n",
      "memory usage: 4.8 KB\n"
     ]
    }
   ],
   "source": [
    "iris_df = pd.read_csv(\"https://storage.googleapis.com/download.tensorflow.org/data/iris_training.csv\")\n",
    "iris_df.info()"
   ]
  },
  {
   "cell_type": "code",
   "execution_count": 5,
   "id": "e87ecffe-8ccf-4a67-8340-df76f130ae7a",
   "metadata": {},
   "outputs": [
    {
     "name": "stdout",
     "output_type": "stream",
     "text": [
      "<TakeDataset shapes: (OrderedDict([(sepal_length, (50,)), (sepal_width, (50,)), (petal_length, (50,)), (petal_width, (50,))]), (50,)), types: (OrderedDict([(sepal_length, tf.float32), (sepal_width, tf.float32), (petal_length, tf.float32), (petal_width, tf.float32)]), tf.int32)>\n"
     ]
    }
   ],
   "source": [
    "column_names = ['sepal_length', 'sepal_width', 'petal_length', \\\n",
    "                'petal_width', 'species']\n",
    "label_names = 'species'\n",
    "\n",
    "#Taking batch of 50 as generator of dataset.\n",
    "iris_data = tf.data.experimental.make_csv_dataset(iris_csv, column_names = column_names, \\\n",
    "                                                  label_name = label_names, \\\n",
    "                                                  batch_size = 50).repeat()\n",
    "print(iris_data.take(10))"
   ]
  },
  {
   "cell_type": "code",
   "execution_count": 6,
   "id": "252325f6-f7df-40a6-99ef-d1af3d4b3f06",
   "metadata": {},
   "outputs": [
    {
     "data": {
      "text/plain": [
       "[NumericColumn(key='sepal_length', shape=(1,), default_value=None, dtype=tf.float32, normalizer_fn=None),\n",
       " NumericColumn(key='sepal_width', shape=(1,), default_value=None, dtype=tf.float32, normalizer_fn=None),\n",
       " NumericColumn(key='petal_length', shape=(1,), default_value=None, dtype=tf.float32, normalizer_fn=None),\n",
       " NumericColumn(key='petal_width', shape=(1,), default_value=None, dtype=tf.float32, normalizer_fn=None)]"
      ]
     },
     "execution_count": 6,
     "metadata": {},
     "output_type": "execute_result"
    }
   ],
   "source": [
    "feature_columns = [tf.feature_column.numeric_column(x) for x in column_names[:-1]]\n",
    "feature_columns"
   ]
  },
  {
   "cell_type": "code",
   "execution_count": 7,
   "id": "0956f82e-a852-4126-9a42-125164e76bb5",
   "metadata": {},
   "outputs": [
    {
     "data": {
      "text/plain": [
       "<tf.Tensor: shape=(50,), dtype=float32, numpy=\n",
       "array([5.6, 4.9, 4.8, 5.1, 1.5, 4.5, 1.7, 1.3, 4.7, 1.6, 6.1, 5.1, 1.6,\n",
       "       4.1, 1.4, 1.6, 4.5, 6.4, 1.5, 5.7, 5.3, 1.4, 1.6, 4.2, 5.1, 4.2,\n",
       "       5. , 1.3, 4.7, 4.1, 4.4, 4.7, 3. , 5.1, 5.6, 5.6, 1.6, 4.2, 3.9,\n",
       "       1.4, 4.5, 4.8, 5.5, 5.1, 4.6, 1.5, 3.5, 5.5, 3.8, 1.5],\n",
       "      dtype=float32)>"
      ]
     },
     "execution_count": 7,
     "metadata": {},
     "output_type": "execute_result"
    }
   ],
   "source": [
    "features, labels = next(iter(iris_data))\n",
    "features['petal_length']"
   ]
  },
  {
   "cell_type": "code",
   "execution_count": 35,
   "id": "1bbeec7b-fa3c-4910-8dde-77390359f26e",
   "metadata": {},
   "outputs": [
    {
     "data": {
      "image/png": "[encoded data removed]",
      "text/plain": [
       "<Figure size 432x288 with 1 Axes>"
      ]
     },
     "metadata": {
      "needs_background": "light"
     },
     "output_type": "display_data"
    }
   ],
   "source": [
    "#Visualization of different species with sepal length and petal length\n",
    "plt.scatter(features['petal_length'], features['sepal_length'], \\\n",
    "            c=labels, cmap = 'plasma')\n",
    "plt.xlabel(\"Petal Length\")\n",
    "plt.ylabel(\"Sepal Length\")\n",
    "plt.show()"
   ]
  },
  {
   "cell_type": "code",
   "execution_count": 9,
   "id": "458e178b-63c5-4ffb-97b6-2639d438e7ef",
   "metadata": {},
   "outputs": [],
   "source": [
    "#Creating NN model for training\n",
    "model = Sequential([DenseFeatures(feature_columns = feature_columns), \\\n",
    "                    Dense(32, 'relu', 'h1'), \\\n",
    "                    Dense(8, 'relu', 'h2'), \\\n",
    "                    Dense(3, 'softmax')])\n",
    "#Softmax activation function was used to convert output to probabilities."
   ]
  },
  {
   "cell_type": "code",
   "execution_count": 10,
   "id": "74afe5c9-4eb7-46c5-a953-031656c4d7ce",
   "metadata": {},
   "outputs": [],
   "source": [
    "#We are using cross-entropy (or log loss) for classification loss function.\n",
    "def loss(y_pred, y_true):\n",
    "    scc = tf.keras.losses.SparseCategoricalCrossentropy()\n",
    "    return scc(y_pred, y_true)"
   ]
  },
  {
   "cell_type": "code",
   "execution_count": 11,
   "id": "e7e96bb8-4af3-4b6c-b9ad-7ad4e2cd957a",
   "metadata": {},
   "outputs": [],
   "source": [
    "#Stochastic gradient descent was used for optimization function.\n",
    "model.compile(optimizer=tf.keras.optimizers.SGD(learning_rate=0.01), \\\n",
    "              loss=loss, \\\n",
    "              metrics = ['accuracy'])"
   ]
  },
  {
   "cell_type": "code",
   "execution_count": 12,
   "id": "95855471-dece-4cdc-9010-3ab21d47fc8b",
   "metadata": {},
   "outputs": [
    {
     "name": "stdout",
     "output_type": "stream",
     "text": [
      "WARNING:tensorflow:Layers in a Sequential model should only have a single input tensor, but we receive a <class 'collections.OrderedDict'> input: OrderedDict([('sepal_length', <tf.Tensor: shape=(50,), dtype=float32, numpy=\n",
      "array([6.4, 6.1, 6.8, 5.8, 5.1, 6.4, 5.4, 4.5, 7. , 5. , 7.4, 6.9, 4.8,\n",
      "       5.8, 4.6, 4.7, 4.9, 7.9, 5.1, 6.7, 6.4, 4.4, 5.1, 5.7, 6.5, 5.7,\n",
      "       6.7, 4.4, 6.1, 5.7, 6.3, 6.1, 5.1, 5.8, 6.4, 6.7, 5. , 5.6, 5.6,\n",
      "       5. , 6.2, 6. , 6.5, 6. , 6.5, 5.7, 5. , 6.8, 5.5, 4.9],\n",
      "      dtype=float32)>), ('sepal_width', <tf.Tensor: shape=(50,), dtype=float32, numpy=\n",
      "array([2.8, 3. , 2.8, 2.8, 3.7, 3.2, 3.9, 2.3, 3.2, 3.5, 2.8, 3.1, 3.4,\n",
      "       2.7, 3.4, 3.2, 2.5, 3.8, 3.8, 3.3, 2.7, 2.9, 3.8, 3. , 3.2, 2.9,\n",
      "       3. , 3. , 2.8, 2.8, 2.3, 2.9, 2.5, 2.7, 2.8, 3.1, 3. , 2.7, 2.5,\n",
      "       3.6, 2.2, 3. , 3. , 2.7, 2.8, 4.4, 2. , 3. , 2.4, 3.1],\n",
      "      dtype=float32)>), ('petal_length', <tf.Tensor: shape=(50,), dtype=float32, numpy=\n",
      "array([5.6, 4.9, 4.8, 5.1, 1.5, 4.5, 1.7, 1.3, 4.7, 1.6, 6.1, 5.1, 1.6,\n",
      "       4.1, 1.4, 1.6, 4.5, 6.4, 1.5, 5.7, 5.3, 1.4, 1.6, 4.2, 5.1, 4.2,\n",
      "       5. , 1.3, 4.7, 4.1, 4.4, 4.7, 3. , 5.1, 5.6, 5.6, 1.6, 4.2, 3.9,\n",
      "       1.4, 4.5, 4.8, 5.5, 5.1, 4.6, 1.5, 3.5, 5.5, 3.8, 1.5],\n",
      "      dtype=float32)>), ('petal_width', <tf.Tensor: shape=(50,), dtype=float32, numpy=\n",
      "array([2.1, 1.8, 1.4, 2.4, 0.4, 1.5, 0.4, 0.3, 1.4, 0.6, 1.9, 2.3, 0.2,\n",
      "       1. , 0.3, 0.2, 1.7, 2. , 0.3, 2.1, 1.9, 0.2, 0.2, 1.2, 2. , 1.3,\n",
      "       1.7, 0.2, 1.2, 1.3, 1.3, 1.4, 1.1, 1.9, 2.2, 2.4, 0.2, 1.3, 1.1,\n",
      "       0.2, 1.5, 1.8, 1.8, 1.6, 1.5, 0.4, 1. , 2.1, 1.1, 0.1],\n",
      "      dtype=float32)>)])\n",
      "Consider rewriting this model with the Functional API.\n"
     ]
    },
    {
     "data": {
      "text/plain": [
       "<tf.Tensor: shape=(5, 3), dtype=float32, numpy=\n",
       "array([[0.56434643, 0.15443985, 0.28121373],\n",
       "       [0.5659556 , 0.14665407, 0.28739035],\n",
       "       [0.6040901 , 0.11831018, 0.27759966],\n",
       "       [0.5423285 , 0.17743444, 0.2802371 ],\n",
       "       [0.56842476, 0.1121882 , 0.31938702]], dtype=float32)>"
      ]
     },
     "execution_count": 12,
     "metadata": {},
     "output_type": "execute_result"
    }
   ],
   "source": [
    "#Testing of model output\n",
    "prediction = model(features)\n",
    "prediction[:5]"
   ]
  },
  {
   "cell_type": "code",
   "execution_count": 13,
   "id": "dbe33160-f193-4852-aa47-fb0817f1d62b",
   "metadata": {},
   "outputs": [
    {
     "name": "stdout",
     "output_type": "stream",
     "text": [
      "<class 'pandas.core.frame.DataFrame'>\n",
      "RangeIndex: 30 entries, 0 to 29\n",
      "Data columns (total 5 columns):\n",
      " #   Column      Non-Null Count  Dtype  \n",
      "---  ------      --------------  -----  \n",
      " 0   30          30 non-null     float64\n",
      " 1   4           30 non-null     float64\n",
      " 2   setosa      30 non-null     float64\n",
      " 3   versicolor  30 non-null     float64\n",
      " 4   virginica   30 non-null     int64  \n",
      "dtypes: float64(4), int64(1)\n",
      "memory usage: 1.3 KB\n"
     ]
    }
   ],
   "source": [
    "#Importing validation function\n",
    "test_url = \"https://storage.googleapis.com/download.tensorflow.org/data/iris_test.csv\"\n",
    "\n",
    "# The `tf.keras.utils.get_file` will downloads a file from a URL if it not already in the cache.\n",
    "test_fp = tf.keras.utils.get_file(fname=os.path.basename(test_url),\n",
    "                                  origin=test_url)\n",
    "test_df = pd.read_csv(test_fp)\n",
    "test_df.info()"
   ]
  },
  {
   "cell_type": "code",
   "execution_count": 14,
   "id": "ce058371-8ab2-49d2-96a9-6350e60bafef",
   "metadata": {},
   "outputs": [
    {
     "data": {
      "text/plain": [
       "<PrefetchDataset shapes: (OrderedDict([(sepal_length, (None,)), (sepal_width, (None,)), (petal_length, (None,)), (petal_width, (None,))]), (None,)), types: (OrderedDict([(sepal_length, tf.float32), (sepal_width, tf.float32), (petal_length, tf.float32), (petal_width, tf.float32)]), tf.int32)>"
      ]
     },
     "execution_count": 14,
     "metadata": {},
     "output_type": "execute_result"
    }
   ],
   "source": [
    "test_dataset = tf.data.experimental.make_csv_dataset(\n",
    "    test_fp,\n",
    "    batch_size = 32,\n",
    "    column_names=column_names,\n",
    "    label_name='species',\n",
    "    num_epochs=1,\n",
    "    shuffle=False)\n",
    "test_dataset"
   ]
  },
  {
   "cell_type": "code",
   "execution_count": null,
   "id": "f90756fc-8d05-43c5-8600-40e7163882f4",
   "metadata": {},
   "outputs": [],
   "source": [
    "#Training of models\n",
    "history = model.fit(iris_data, epochs = 500, steps_per_epoch = 3, \\\n",
    "                    batch_size = 32, shuffle = True, validation_data = test_dataset)"
   ]
  },
  {
   "cell_type": "code",
   "execution_count": 16,
   "id": "d94aa88a-7dc1-4c64-825d-0f2d6b5cbb1e",
   "metadata": {},
   "outputs": [
    {
     "data": {
      "text/plain": [
       "dict_keys(['loss', 'accuracy', 'val_loss', 'val_accuracy'])"
      ]
     },
     "execution_count": 16,
     "metadata": {},
     "output_type": "execute_result"
    }
   ],
   "source": [
    "history.history.keys()"
   ]
  },
  {
   "cell_type": "code",
   "execution_count": 17,
   "id": "7b8e118d-97c8-4aa4-9723-e803416a07af",
   "metadata": {},
   "outputs": [
    {
     "data": {
      "text/plain": [
       "0    1.132395\n",
       "1    0.991523\n",
       "2    0.956996\n",
       "3    0.928133\n",
       "4    0.918974\n",
       "5    0.886094\n",
       "6    0.906083\n",
       "7    0.880776\n",
       "8    0.867650\n",
       "9    0.872241\n",
       "Name: loss, dtype: float64"
      ]
     },
     "execution_count": 17,
     "metadata": {},
     "output_type": "execute_result"
    }
   ],
   "source": [
    "pd.DataFrame(history.history)['loss'].head(10)"
   ]
  },
  {
   "cell_type": "code",
   "execution_count": 18,
   "id": "d5d379f8-7cc0-45da-8399-2fde155c5ee7",
   "metadata": {},
   "outputs": [
    {
     "data": {
      "text/plain": [
       "<AxesSubplot:>"
      ]
     },
     "execution_count": 18,
     "metadata": {},
     "output_type": "execute_result"
    },
    {
     "data": {
      "image/png": "[encoded data removed]",
      "text/plain": [
       "<Figure size 432x288 with 1 Axes>"
      ]
     },
     "metadata": {
      "needs_background": "light"
     },
     "output_type": "display_data"
    }
   ],
   "source": [
    "#Plotting loss functions over epochs\n",
    "pd.DataFrame(history.history)[['loss', 'val_loss']].plot()"
   ]
  },
  {
   "cell_type": "code",
   "execution_count": 19,
   "id": "dbe67bc6-4d30-4145-a5fd-27763ed3e692",
   "metadata": {},
   "outputs": [
    {
     "data": {
      "text/plain": [
       "<AxesSubplot:>"
      ]
     },
     "execution_count": 19,
     "metadata": {},
     "output_type": "execute_result"
    },
    {
     "data": {
      "image/png": "[encoded data removed]",
      "text/plain": [
       "<Figure size 432x288 with 1 Axes>"
      ]
     },
     "metadata": {
      "needs_background": "light"
     },
     "output_type": "display_data"
    }
   ],
   "source": [
    "#Accuracy visualization\n",
    "pd.DataFrame(history.history)[['accuracy', 'val_accuracy']].plot()"
   ]
  },
  {
   "cell_type": "code",
   "execution_count": 20,
   "id": "de7fc11b-9c27-4a28-b495-52807a6d6e52",
   "metadata": {},
   "outputs": [
    {
     "data": {
      "text/plain": [
       "<PrefetchDataset shapes: (OrderedDict([(sepal_length, (None,)), (sepal_width, (None,)), (petal_length, (None,)), (petal_width, (None,))]), (None,)), types: (OrderedDict([(sepal_length, tf.float32), (sepal_width, tf.float32), (petal_length, tf.float32), (petal_width, tf.float32)]), tf.int32)>"
      ]
     },
     "execution_count": 20,
     "metadata": {},
     "output_type": "execute_result"
    }
   ],
   "source": [
    "test_dataset"
   ]
  },
  {
   "cell_type": "code",
   "execution_count": 24,
   "id": "71a146a1-457e-45a4-a321-218fb805acd4",
   "metadata": {},
   "outputs": [
    {
     "data": {
      "text/plain": [
       "<tf.Tensor: shape=(30,), dtype=int32, numpy=\n",
       "array([1, 2, 0, 1, 1, 1, 0, 2, 1, 2, 2, 0, 2, 1, 1, 0, 1, 0, 0, 2, 0, 1,\n",
       "       2, 1, 1, 1, 0, 1, 2, 1], dtype=int32)>"
      ]
     },
     "execution_count": 24,
     "metadata": {},
     "output_type": "execute_result"
    }
   ],
   "source": [
    "#Acquiring true labels from validation dataset\n",
    "feat, true_labels = next(iter(test_dataset))\n",
    "true_labels"
   ]
  },
  {
   "cell_type": "code",
   "execution_count": 29,
   "id": "b6e0e334-46aa-4400-b871-574532407133",
   "metadata": {},
   "outputs": [
    {
     "name": "stdout",
     "output_type": "stream",
     "text": [
      "WARNING:tensorflow:Layers in a Sequential model should only have a single input tensor, but we receive a <class 'collections.OrderedDict'> input: OrderedDict([('sepal_length', <tf.Tensor: shape=(30,), dtype=float32, numpy=\n",
      "array([5.9, 6.9, 5.1, 6. , 5.5, 6.2, 5.5, 6.3, 5.6, 6.7, 7.1, 4.3, 5.6,\n",
      "       5.5, 6. , 5.1, 5.7, 4.8, 5.1, 5.7, 5.4, 5.6, 6.3, 6.3, 5.8, 6.1,\n",
      "       5.2, 6.7, 6.7, 6.4], dtype=float32)>), ('sepal_width', <tf.Tensor: shape=(30,), dtype=float32, numpy=\n",
      "array([3. , 3.1, 3.3, 3.4, 2.5, 2.9, 4.2, 2.8, 3. , 2.5, 3. , 3. , 2.8,\n",
      "       2.3, 2.2, 3.5, 2.6, 3.4, 3.4, 2.5, 3.4, 3. , 2.9, 2.5, 2.7, 3. ,\n",
      "       4.1, 3.1, 3.3, 2.9], dtype=float32)>), ('petal_length', <tf.Tensor: shape=(30,), dtype=float32, numpy=\n",
      "array([4.2, 5.4, 1.7, 4.5, 4. , 4.3, 1.4, 5.1, 4.1, 5.8, 5.9, 1.1, 4.9,\n",
      "       4. , 4. , 1.4, 3.5, 1.9, 1.5, 5. , 1.7, 4.5, 5.6, 4.9, 3.9, 4.6,\n",
      "       1.5, 4.7, 5.7, 4.3], dtype=float32)>), ('petal_width', <tf.Tensor: shape=(30,), dtype=float32, numpy=\n",
      "array([1.5, 2.1, 0.5, 1.6, 1.3, 1.3, 0.2, 1.5, 1.3, 1.8, 2.1, 0.1, 2. ,\n",
      "       1.3, 1. , 0.2, 1. , 0.2, 0.2, 2. , 0.2, 1.5, 1.8, 1.5, 1.2, 1.4,\n",
      "       0.1, 1.5, 2.5, 1.3], dtype=float32)>)])\n",
      "Consider rewriting this model with the Functional API.\n"
     ]
    },
    {
     "data": {
      "text/plain": [
       "<tf.Tensor: shape=(30,), dtype=int64, numpy=\n",
       "array([1, 2, 0, 1, 1, 1, 0, 2, 1, 2, 2, 0, 2, 1, 1, 0, 1, 0, 0, 2, 0, 1,\n",
       "       2, 2, 1, 1, 0, 1, 2, 1])>"
      ]
     },
     "execution_count": 29,
     "metadata": {},
     "output_type": "execute_result"
    }
   ],
   "source": [
    "#Acquiring predctions (class{0,1,2}) from model on validation features.\n",
    "predictions = tf.argmax(model(feat), axis = 1)\n",
    "predictions"
   ]
  },
  {
   "cell_type": "code",
   "execution_count": 30,
   "id": "3b24a415-cba1-4d16-9f42-eae0b30317e9",
   "metadata": {},
   "outputs": [],
   "source": [
    "#Computing confusion matrix for validation dataset\n",
    "conf_matrix = tf.math.confusion_matrix(labels = true_labels, predictions = predictions)"
   ]
  },
  {
   "cell_type": "code",
   "execution_count": 31,
   "id": "31b66314-8ca2-4744-88dc-bc4680dda127",
   "metadata": {},
   "outputs": [
    {
     "data": {
      "text/plain": [
       "<tf.Tensor: shape=(3, 3), dtype=int32, numpy=\n",
       "array([[ 8,  0,  0],\n",
       "       [ 0, 13,  1],\n",
       "       [ 0,  0,  8]], dtype=int32)>"
      ]
     },
     "execution_count": 31,
     "metadata": {},
     "output_type": "execute_result"
    }
   ],
   "source": [
    "conf_matrix"
   ]
  },
  {
   "cell_type": "code",
   "execution_count": 36,
   "id": "c6401983-07ed-4f25-8f92-5dc2deaa541c",
   "metadata": {},
   "outputs": [
    {
     "data": {
      "text/plain": [
       "<AxesSubplot:>"
      ]
     },
     "execution_count": 36,
     "metadata": {},
     "output_type": "execute_result"
    },
    {
     "data": {
      "image/png": "[encoded data removed]",
      "text/plain": [
       "<Figure size 432x288 with 2 Axes>"
      ]
     },
     "metadata": {
      "needs_background": "light"
     },
     "output_type": "display_data"
    }
   ],
   "source": [
    "#Visualization of confusion matrix\n",
    "sb.heatmap(conf_matrix)"
   ]
  },
  {
   "cell_type": "code",
   "execution_count": null,
   "id": "75826e98-2b96-48d0-b73d-310499e65645",
   "metadata": {},
   "outputs": [],
   "source": []
  }
 ],
 "metadata": {
  "kernelspec": {
   "display_name": "Python 3",
   "language": "python",
   "name": "python3"
  },
  "language_info": {
   "codemirror_mode": {
    "name": "ipython",
    "version": 3
   },
   "file_extension": ".py",
   "mimetype": "text/x-python",
   "name": "python",
   "nbconvert_exporter": "python",
   "pygments_lexer": "ipython3",
   "version": "3.8.12"
  }
 },
 "nbformat": 4,
 "nbformat_minor": 5
}
