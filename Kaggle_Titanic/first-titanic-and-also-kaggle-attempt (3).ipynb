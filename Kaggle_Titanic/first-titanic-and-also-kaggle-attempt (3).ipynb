{
 "cells": [
  {
   "cell_type": "code",
   "execution_count": 1,
   "id": "a2703d7f",
   "metadata": {
    "_cell_guid": "b1076dfc-b9ad-4769-8c92-a6c4dae69d19",
    "_uuid": "8f2839f25d086af736a60e9eeb907d3b93b6e0e5",
    "execution": {
     "iopub.execute_input": "2021-10-18T22:53:41.544382Z",
     "iopub.status.busy": "2021-10-18T22:53:41.542546Z",
     "iopub.status.idle": "2021-10-18T22:53:41.556653Z",
     "shell.execute_reply": "2021-10-18T22:53:41.555883Z",
     "shell.execute_reply.started": "2021-10-18T22:52:33.545346Z"
    },
    "papermill": {
     "duration": 0.038114,
     "end_time": "2021-10-18T22:53:41.556815",
     "exception": false,
     "start_time": "2021-10-18T22:53:41.518701",
     "status": "completed"
    },
    "tags": []
   },
   "outputs": [
    {
     "name": "stdout",
     "output_type": "stream",
     "text": [
      "/kaggle/input/titanic/train.csv\n",
      "/kaggle/input/titanic/test.csv\n",
      "/kaggle/input/titanic/gender_submission.csv\n"
     ]
    }
   ],
   "source": [
    "# This Python 3 environment comes with many helpful analytics libraries installed\n",
    "# It is defined by the kaggle/python Docker image: https://github.com/kaggle/docker-python\n",
    "# For example, here's several helpful packages to load\n",
    "\n",
    "import numpy as np # linear algebra\n",
    "import pandas as pd # data processing, CSV file I/O (e.g. pd.read_csv)\n",
    "\n",
    "# Input data files are available in the read-only \"../input/\" directory\n",
    "# For example, running this (by clicking run or pressing Shift+Enter) will list all files under the input directory\n",
    "\n",
    "import os\n",
    "for dirname, _, filenames in os.walk('/kaggle/input'):\n",
    "    for filename in filenames:\n",
    "        print(os.path.join(dirname, filename))\n",
    "\n",
    "# You can write up to 20GB to the current directory (/kaggle/working/) that gets preserved as output when you create a version using \"Save & Run All\" \n",
    "# You can also write temporary files to /kaggle/temp/, but they won't be saved outside of the current session"
   ]
  },
  {
   "cell_type": "code",
   "execution_count": 2,
   "id": "f33b6607",
   "metadata": {
    "execution": {
     "iopub.execute_input": "2021-10-18T22:53:41.589649Z",
     "iopub.status.busy": "2021-10-18T22:53:41.588696Z",
     "iopub.status.idle": "2021-10-18T22:53:42.815441Z",
     "shell.execute_reply": "2021-10-18T22:53:42.816030Z",
     "shell.execute_reply.started": "2021-10-18T22:52:33.828769Z"
    },
    "papermill": {
     "duration": 1.244451,
     "end_time": "2021-10-18T22:53:42.816227",
     "exception": false,
     "start_time": "2021-10-18T22:53:41.571776",
     "status": "completed"
    },
    "tags": []
   },
   "outputs": [],
   "source": [
    "# imports \n",
    "import seaborn as sns\n",
    "from sklearn.metrics import accuracy_score\n",
    "from sklearn import preprocessing\n",
    "from sklearn.model_selection import train_test_split\n",
    "from sklearn.model_selection import cross_val_score\n",
    "\n",
    "from sklearn.ensemble import RandomForestClassifier\n",
    "from sklearn.ensemble import GradientBoostingClassifier\n",
    "from sklearn.linear_model import LogisticRegression\n",
    "from sklearn.linear_model import SGDClassifier\n",
    "from sklearn.svm import SVC"
   ]
  },
  {
   "cell_type": "markdown",
   "id": "129eac7c",
   "metadata": {
    "papermill": {
     "duration": 0.014049,
     "end_time": "2021-10-18T22:53:42.845931",
     "exception": false,
     "start_time": "2021-10-18T22:53:42.831882",
     "status": "completed"
    },
    "tags": []
   },
   "source": [
    "First we are going to charge the data and take a peek to guess what is the situation\n"
   ]
  },
  {
   "cell_type": "code",
   "execution_count": 3,
   "id": "d907ad71",
   "metadata": {
    "execution": {
     "iopub.execute_input": "2021-10-18T22:53:42.877198Z",
     "iopub.status.busy": "2021-10-18T22:53:42.876565Z",
     "iopub.status.idle": "2021-10-18T22:53:42.903778Z",
     "shell.execute_reply": "2021-10-18T22:53:42.904302Z",
     "shell.execute_reply.started": "2021-10-18T22:52:34.324209Z"
    },
    "papermill": {
     "duration": 0.044258,
     "end_time": "2021-10-18T22:53:42.904465",
     "exception": false,
     "start_time": "2021-10-18T22:53:42.860207",
     "status": "completed"
    },
    "tags": []
   },
   "outputs": [],
   "source": [
    "train_path = \"/kaggle/input/titanic/train.csv\"\n",
    "test_path  = \"/kaggle/input/titanic/test.csv\"\n",
    "\n",
    "train = pd.read_csv(train_path)\n",
    "test = pd.read_csv(test_path)"
   ]
  },
  {
   "cell_type": "code",
   "execution_count": 4,
   "id": "62fcf73e",
   "metadata": {
    "execution": {
     "iopub.execute_input": "2021-10-18T22:53:42.935749Z",
     "iopub.status.busy": "2021-10-18T22:53:42.935192Z",
     "iopub.status.idle": "2021-10-18T22:53:42.957704Z",
     "shell.execute_reply": "2021-10-18T22:53:42.958233Z",
     "shell.execute_reply.started": "2021-10-18T22:52:34.552536Z"
    },
    "papermill": {
     "duration": 0.039905,
     "end_time": "2021-10-18T22:53:42.958397",
     "exception": false,
     "start_time": "2021-10-18T22:53:42.918492",
     "status": "completed"
    },
    "tags": []
   },
   "outputs": [
    {
     "data": {
      "text/html": [
       "<div>\n",
       "<style scoped>\n",
       "    .dataframe tbody tr th:only-of-type {\n",
       "        vertical-align: middle;\n",
       "    }\n",
       "\n",
       "    .dataframe tbody tr th {\n",
       "        vertical-align: top;\n",
       "    }\n",
       "\n",
       "    .dataframe thead th {\n",
       "        text-align: right;\n",
       "    }\n",
       "</style>\n",
       "<table border=\"1\" class=\"dataframe\">\n",
       "  <thead>\n",
       "    <tr style=\"text-align: right;\">\n",
       "      <th></th>\n",
       "      <th>PassengerId</th>\n",
       "      <th>Survived</th>\n",
       "      <th>Pclass</th>\n",
       "      <th>Name</th>\n",
       "      <th>Sex</th>\n",
       "      <th>Age</th>\n",
       "      <th>SibSp</th>\n",
       "      <th>Parch</th>\n",
       "      <th>Ticket</th>\n",
       "      <th>Fare</th>\n",
       "      <th>Cabin</th>\n",
       "      <th>Embarked</th>\n",
       "    </tr>\n",
       "  </thead>\n",
       "  <tbody>\n",
       "    <tr>\n",
       "      <th>0</th>\n",
       "      <td>1</td>\n",
       "      <td>0</td>\n",
       "      <td>3</td>\n",
       "      <td>Braund, Mr. Owen Harris</td>\n",
       "      <td>male</td>\n",
       "      <td>22.0</td>\n",
       "      <td>1</td>\n",
       "      <td>0</td>\n",
       "      <td>A/5 21171</td>\n",
       "      <td>7.2500</td>\n",
       "      <td>NaN</td>\n",
       "      <td>S</td>\n",
       "    </tr>\n",
       "    <tr>\n",
       "      <th>1</th>\n",
       "      <td>2</td>\n",
       "      <td>1</td>\n",
       "      <td>1</td>\n",
       "      <td>Cumings, Mrs. John Bradley (Florence Briggs Th...</td>\n",
       "      <td>female</td>\n",
       "      <td>38.0</td>\n",
       "      <td>1</td>\n",
       "      <td>0</td>\n",
       "      <td>PC 17599</td>\n",
       "      <td>71.2833</td>\n",
       "      <td>C85</td>\n",
       "      <td>C</td>\n",
       "    </tr>\n",
       "    <tr>\n",
       "      <th>2</th>\n",
       "      <td>3</td>\n",
       "      <td>1</td>\n",
       "      <td>3</td>\n",
       "      <td>Heikkinen, Miss. Laina</td>\n",
       "      <td>female</td>\n",
       "      <td>26.0</td>\n",
       "      <td>0</td>\n",
       "      <td>0</td>\n",
       "      <td>STON/O2. 3101282</td>\n",
       "      <td>7.9250</td>\n",
       "      <td>NaN</td>\n",
       "      <td>S</td>\n",
       "    </tr>\n",
       "    <tr>\n",
       "      <th>3</th>\n",
       "      <td>4</td>\n",
       "      <td>1</td>\n",
       "      <td>1</td>\n",
       "      <td>Futrelle, Mrs. Jacques Heath (Lily May Peel)</td>\n",
       "      <td>female</td>\n",
       "      <td>35.0</td>\n",
       "      <td>1</td>\n",
       "      <td>0</td>\n",
       "      <td>113803</td>\n",
       "      <td>53.1000</td>\n",
       "      <td>C123</td>\n",
       "      <td>S</td>\n",
       "    </tr>\n",
       "    <tr>\n",
       "      <th>4</th>\n",
       "      <td>5</td>\n",
       "      <td>0</td>\n",
       "      <td>3</td>\n",
       "      <td>Allen, Mr. William Henry</td>\n",
       "      <td>male</td>\n",
       "      <td>35.0</td>\n",
       "      <td>0</td>\n",
       "      <td>0</td>\n",
       "      <td>373450</td>\n",
       "      <td>8.0500</td>\n",
       "      <td>NaN</td>\n",
       "      <td>S</td>\n",
       "    </tr>\n",
       "  </tbody>\n",
       "</table>\n",
       "</div>"
      ],
      "text/plain": [
       "   PassengerId  Survived  Pclass  \\\n",
       "0            1         0       3   \n",
       "1            2         1       1   \n",
       "2            3         1       3   \n",
       "3            4         1       1   \n",
       "4            5         0       3   \n",
       "\n",
       "                                                Name     Sex   Age  SibSp  \\\n",
       "0                            Braund, Mr. Owen Harris    male  22.0      1   \n",
       "1  Cumings, Mrs. John Bradley (Florence Briggs Th...  female  38.0      1   \n",
       "2                             Heikkinen, Miss. Laina  female  26.0      0   \n",
       "3       Futrelle, Mrs. Jacques Heath (Lily May Peel)  female  35.0      1   \n",
       "4                           Allen, Mr. William Henry    male  35.0      0   \n",
       "\n",
       "   Parch            Ticket     Fare Cabin Embarked  \n",
       "0      0         A/5 21171   7.2500   NaN        S  \n",
       "1      0          PC 17599  71.2833   C85        C  \n",
       "2      0  STON/O2. 3101282   7.9250   NaN        S  \n",
       "3      0            113803  53.1000  C123        S  \n",
       "4      0            373450   8.0500   NaN        S  "
      ]
     },
     "execution_count": 4,
     "metadata": {},
     "output_type": "execute_result"
    }
   ],
   "source": [
    "train.head(5)"
   ]
  },
  {
   "cell_type": "code",
   "execution_count": 5,
   "id": "5ec24366",
   "metadata": {
    "execution": {
     "iopub.execute_input": "2021-10-18T22:53:43.014826Z",
     "iopub.status.busy": "2021-10-18T22:53:43.011340Z",
     "iopub.status.idle": "2021-10-18T22:53:43.024301Z",
     "shell.execute_reply": "2021-10-18T22:53:43.023673Z",
     "shell.execute_reply.started": "2021-10-18T22:52:34.701511Z"
    },
    "papermill": {
     "duration": 0.050782,
     "end_time": "2021-10-18T22:53:43.024458",
     "exception": false,
     "start_time": "2021-10-18T22:53:42.973676",
     "status": "completed"
    },
    "tags": []
   },
   "outputs": [
    {
     "name": "stdout",
     "output_type": "stream",
     "text": [
      "<class 'pandas.core.frame.DataFrame'>\n",
      "RangeIndex: 891 entries, 0 to 890\n",
      "Data columns (total 12 columns):\n",
      " #   Column       Non-Null Count  Dtype  \n",
      "---  ------       --------------  -----  \n",
      " 0   PassengerId  891 non-null    int64  \n",
      " 1   Survived     891 non-null    int64  \n",
      " 2   Pclass       891 non-null    int64  \n",
      " 3   Name         891 non-null    object \n",
      " 4   Sex          891 non-null    object \n",
      " 5   Age          714 non-null    float64\n",
      " 6   SibSp        891 non-null    int64  \n",
      " 7   Parch        891 non-null    int64  \n",
      " 8   Ticket       891 non-null    object \n",
      " 9   Fare         891 non-null    float64\n",
      " 10  Cabin        204 non-null    object \n",
      " 11  Embarked     889 non-null    object \n",
      "dtypes: float64(2), int64(5), object(5)\n",
      "memory usage: 83.7+ KB\n",
      "--------\n",
      "Percentage of NA per property sorted\n",
      "--------\n",
      "Cabin          77.104377\n",
      "Age            19.865320\n",
      "Embarked        0.224467\n",
      "PassengerId     0.000000\n",
      "Survived        0.000000\n",
      "Pclass          0.000000\n",
      "Name            0.000000\n",
      "Sex             0.000000\n",
      "SibSp           0.000000\n",
      "Parch           0.000000\n",
      "Ticket          0.000000\n",
      "Fare            0.000000\n",
      "dtype: float64\n",
      "--------\n",
      "Unique values for duplications and other useful info\n",
      "--------\n",
      "Survived         2\n",
      "Sex              2\n",
      "Pclass           3\n",
      "Embarked         3\n",
      "SibSp            7\n",
      "Parch            7\n",
      "Age             88\n",
      "Cabin          147\n",
      "Fare           248\n",
      "Ticket         681\n",
      "PassengerId    891\n",
      "Name           891\n",
      "dtype: int64\n"
     ]
    }
   ],
   "source": [
    "#Some info about the data\n",
    "train.info()\n",
    "\n",
    "print('--------')\n",
    "print('Percentage of NA per property sorted')\n",
    "print('--------')\n",
    "p = (train.isna().sum()/len(train)*100).sort_values(ascending=False)\n",
    "print(p)\n",
    "print('--------')\n",
    "print('Unique values for duplications and other useful info')\n",
    "print('--------')\n",
    "u = train.nunique().sort_values()\n",
    "print(u)"
   ]
  },
  {
   "cell_type": "markdown",
   "id": "9e24655d",
   "metadata": {
    "execution": {
     "iopub.execute_input": "2021-10-18T10:08:19.190918Z",
     "iopub.status.busy": "2021-10-18T10:08:19.189900Z",
     "iopub.status.idle": "2021-10-18T10:08:19.198474Z",
     "shell.execute_reply": "2021-10-18T10:08:19.197699Z",
     "shell.execute_reply.started": "2021-10-18T10:08:19.190877Z"
    },
    "papermill": {
     "duration": 0.014774,
     "end_time": "2021-10-18T22:53:43.054358",
     "exception": false,
     "start_time": "2021-10-18T22:53:43.039584",
     "status": "completed"
    },
    "tags": []
   },
   "source": [
    "## Data cleaning\n",
    "\n",
    "So we have the following situation:\n",
    "\n",
    "#### Missing values:\n",
    "* Case 1: **'Cabin'** 77% of missing values. As long as there is 3/4 of the data missing if we would decide to mock the data it would not be trustable as long as we are are setting it by ourselves, so the most fair way to proceed is to drop this one\n",
    "\n",
    "* Case 2: **'Age'** with 20% of missing values. With a 20% of missing values we should try to fill following some strategy in order to apply the filling closer to what would be\n",
    "\n",
    "* Case 3: **'Embarked'** with 0.2% of missing values. Less than a 0.5% of missing values let us to take a different strategy as long as filling the missing values would affect nearly nothing to results. So in this case we will drop the cases where this property is not present\n",
    "\n",
    "#### Categorical values\n",
    "We also have categorical variables that need to be encoded or dropped\n",
    "* Case 1: **'Sex'** as long as it only has 2 possibles values we can do it manually or by a label encoder.\n",
    "\n",
    "* Case 2: **'Name'** This property doesn't give useful info so drop is the best option.\n",
    "\n",
    "* Case 3: **'Ticket'** This property doesn't give useful info. Dtrop is the best option too.\n",
    "\n",
    "* Case 4: **'Cabin'** drop by missing 70% of values, also not very useful info at first sight. Maybe with less missing could be useful as \"travellers on stern side of the boat survived more than travellers on bow side\", but 77.1% is too much missing.\n",
    "\n",
    "* Case 5: **'Embarked'** has 3 possible values. I could use one-hot but for now I feel more confident doing by hand (considering this is my first attemp on Kaggle)."
   ]
  },
  {
   "cell_type": "code",
   "execution_count": 6,
   "id": "f238ea98",
   "metadata": {
    "execution": {
     "iopub.execute_input": "2021-10-18T22:53:43.092289Z",
     "iopub.status.busy": "2021-10-18T22:53:43.091360Z",
     "iopub.status.idle": "2021-10-18T22:53:43.095455Z",
     "shell.execute_reply": "2021-10-18T22:53:43.094886Z",
     "shell.execute_reply.started": "2021-10-18T22:52:34.965404Z"
    },
    "papermill": {
     "duration": 0.025863,
     "end_time": "2021-10-18T22:53:43.095589",
     "exception": false,
     "start_time": "2021-10-18T22:53:43.069726",
     "status": "completed"
    },
    "tags": []
   },
   "outputs": [
    {
     "data": {
      "text/plain": [
       "S    644\n",
       "C    168\n",
       "Q     77\n",
       "Name: Embarked, dtype: int64"
      ]
     },
     "execution_count": 6,
     "metadata": {},
     "output_type": "execute_result"
    }
   ],
   "source": [
    "# Check the values of Embarked for manual replacement\n",
    "train['Embarked'].value_counts()"
   ]
  },
  {
   "cell_type": "code",
   "execution_count": 7,
   "id": "ca498e24",
   "metadata": {
    "execution": {
     "iopub.execute_input": "2021-10-18T22:53:43.136178Z",
     "iopub.status.busy": "2021-10-18T22:53:43.135236Z",
     "iopub.status.idle": "2021-10-18T22:53:43.137981Z",
     "shell.execute_reply": "2021-10-18T22:53:43.137454Z",
     "shell.execute_reply.started": "2021-10-18T22:52:35.092625Z"
    },
    "papermill": {
     "duration": 0.026846,
     "end_time": "2021-10-18T22:53:43.138132",
     "exception": false,
     "start_time": "2021-10-18T22:53:43.111286",
     "status": "completed"
    },
    "tags": []
   },
   "outputs": [],
   "source": [
    "def cleanData(data):\n",
    "    \n",
    "    # Data missing and categorical to drop\n",
    "    data.drop(['Cabin','Name','Ticket'], axis=1, inplace=True)\n",
    "\n",
    "    # Data missing Case2\n",
    "    data['Age'] = data.groupby(['Pclass','Sex'])['Age'].transform(lambda x: x.fillna(x.median()))\n",
    "    \n",
    "    # FARE Data missing in test\n",
    "    data['Fare'] = data.groupby(['Pclass','Sex'])['Fare'].transform(lambda x: x.fillna(x.median()))\n",
    "\n",
    "    # Data missing Case3\n",
    "    data.dropna(axis=0, subset=['Embarked'], inplace=True)\n",
    "    \n",
    "    # Categorical Data\n",
    "    le = preprocessing.LabelEncoder()\n",
    "    \n",
    "    # Sex\n",
    "    data['Sex'].replace({'male':0, 'female':1}, inplace=True)\n",
    "    \n",
    "    # Embarked\n",
    "    data['Embarked'].replace({'S':0, 'C':1, 'Q':2}, inplace=True)\n",
    "    \n",
    "    return data"
   ]
  },
  {
   "cell_type": "code",
   "execution_count": 8,
   "id": "08531c70",
   "metadata": {
    "execution": {
     "iopub.execute_input": "2021-10-18T22:53:43.180188Z",
     "iopub.status.busy": "2021-10-18T22:53:43.177883Z",
     "iopub.status.idle": "2021-10-18T22:53:43.207663Z",
     "shell.execute_reply": "2021-10-18T22:53:43.206883Z",
     "shell.execute_reply.started": "2021-10-18T22:52:35.236533Z"
    },
    "papermill": {
     "duration": 0.054335,
     "end_time": "2021-10-18T22:53:43.207813",
     "exception": false,
     "start_time": "2021-10-18T22:53:43.153478",
     "status": "completed"
    },
    "tags": []
   },
   "outputs": [],
   "source": [
    "clean_train = cleanData(train)\n",
    "clean_test = cleanData(test)"
   ]
  },
  {
   "cell_type": "markdown",
   "id": "26d5c27a",
   "metadata": {
    "papermill": {
     "duration": 0.014751,
     "end_time": "2021-10-18T22:53:43.238024",
     "exception": false,
     "start_time": "2021-10-18T22:53:43.223273",
     "status": "completed"
    },
    "tags": []
   },
   "source": [
    "#### Check cleaning\n",
    "\n",
    "After cleaning data we have to check that all is going well"
   ]
  },
  {
   "cell_type": "code",
   "execution_count": 9,
   "id": "f2bdad8e",
   "metadata": {
    "execution": {
     "iopub.execute_input": "2021-10-18T22:53:43.285880Z",
     "iopub.status.busy": "2021-10-18T22:53:43.285153Z",
     "iopub.status.idle": "2021-10-18T22:53:43.288360Z",
     "shell.execute_reply": "2021-10-18T22:53:43.288878Z",
     "shell.execute_reply.started": "2021-10-18T22:52:35.573644Z"
    },
    "papermill": {
     "duration": 0.035742,
     "end_time": "2021-10-18T22:53:43.289069",
     "exception": false,
     "start_time": "2021-10-18T22:53:43.253327",
     "status": "completed"
    },
    "tags": []
   },
   "outputs": [
    {
     "name": "stdout",
     "output_type": "stream",
     "text": [
      "<class 'pandas.core.frame.DataFrame'>\n",
      "Int64Index: 889 entries, 0 to 890\n",
      "Data columns (total 9 columns):\n",
      " #   Column       Non-Null Count  Dtype  \n",
      "---  ------       --------------  -----  \n",
      " 0   PassengerId  889 non-null    int64  \n",
      " 1   Survived     889 non-null    int64  \n",
      " 2   Pclass       889 non-null    int64  \n",
      " 3   Sex          889 non-null    int64  \n",
      " 4   Age          889 non-null    float64\n",
      " 5   SibSp        889 non-null    int64  \n",
      " 6   Parch        889 non-null    int64  \n",
      " 7   Fare         889 non-null    float64\n",
      " 8   Embarked     889 non-null    int64  \n",
      "dtypes: float64(2), int64(7)\n",
      "memory usage: 69.5 KB\n",
      "<class 'pandas.core.frame.DataFrame'>\n",
      "Int64Index: 418 entries, 0 to 417\n",
      "Data columns (total 8 columns):\n",
      " #   Column       Non-Null Count  Dtype  \n",
      "---  ------       --------------  -----  \n",
      " 0   PassengerId  418 non-null    int64  \n",
      " 1   Pclass       418 non-null    int64  \n",
      " 2   Sex          418 non-null    int64  \n",
      " 3   Age          418 non-null    float64\n",
      " 4   SibSp        418 non-null    int64  \n",
      " 5   Parch        418 non-null    int64  \n",
      " 6   Fare         418 non-null    float64\n",
      " 7   Embarked     418 non-null    int64  \n",
      "dtypes: float64(2), int64(6)\n",
      "memory usage: 29.4 KB\n"
     ]
    }
   ],
   "source": [
    "clean_train.info()\n",
    "clean_test.info()"
   ]
  },
  {
   "cell_type": "markdown",
   "id": "51da81c3",
   "metadata": {
    "papermill": {
     "duration": 0.015425,
     "end_time": "2021-10-18T22:53:43.320330",
     "exception": false,
     "start_time": "2021-10-18T22:53:43.304905",
     "status": "completed"
    },
    "tags": []
   },
   "source": [
    "#### Modeling\n",
    "\n",
    "With the data cleaned we proceed to train and test models."
   ]
  },
  {
   "cell_type": "code",
   "execution_count": 10,
   "id": "67e02db3",
   "metadata": {
    "execution": {
     "iopub.execute_input": "2021-10-18T22:53:43.361176Z",
     "iopub.status.busy": "2021-10-18T22:53:43.356489Z",
     "iopub.status.idle": "2021-10-18T22:53:43.367884Z",
     "shell.execute_reply": "2021-10-18T22:53:43.367352Z",
     "shell.execute_reply.started": "2021-10-18T22:52:35.916546Z"
    },
    "papermill": {
     "duration": 0.032428,
     "end_time": "2021-10-18T22:53:43.368025",
     "exception": false,
     "start_time": "2021-10-18T22:53:43.335597",
     "status": "completed"
    },
    "tags": []
   },
   "outputs": [],
   "source": [
    "# Set X and y\n",
    "y = train['Survived']\n",
    "X = pd.get_dummies(train.drop('Survived', axis=1))\n",
    "\n",
    "# Split model train test data\n",
    "X_train, X_val, y_train, y_val = train_test_split(X,y, test_size=0.2, random_state=42)\n"
   ]
  },
  {
   "cell_type": "code",
   "execution_count": 11,
   "id": "cec6c497",
   "metadata": {
    "execution": {
     "iopub.execute_input": "2021-10-18T22:53:43.405596Z",
     "iopub.status.busy": "2021-10-18T22:53:43.404719Z",
     "iopub.status.idle": "2021-10-18T22:53:43.407169Z",
     "shell.execute_reply": "2021-10-18T22:53:43.407618Z",
     "shell.execute_reply.started": "2021-10-18T22:52:36.094978Z"
    },
    "papermill": {
     "duration": 0.023859,
     "end_time": "2021-10-18T22:53:43.407770",
     "exception": false,
     "start_time": "2021-10-18T22:53:43.383911",
     "status": "completed"
    },
    "tags": []
   },
   "outputs": [],
   "source": [
    "def fitAndPredict(model):\n",
    "    \"\"\"The following code makes faster to evaluate a model \n",
    "    automating the fit and accuracy process\"\"\"\n",
    "    \n",
    "    model.fit(X_train, y_train)\n",
    "    prediction = model.predict(X_val)\n",
    "    return accuracy_score(y_val, prediction)"
   ]
  },
  {
   "cell_type": "code",
   "execution_count": 12,
   "id": "b4ecd9b0",
   "metadata": {
    "execution": {
     "iopub.execute_input": "2021-10-18T22:53:43.446697Z",
     "iopub.status.busy": "2021-10-18T22:53:43.445720Z",
     "iopub.status.idle": "2021-10-18T22:53:43.873226Z",
     "shell.execute_reply": "2021-10-18T22:53:43.872159Z",
     "shell.execute_reply.started": "2021-10-18T22:52:36.259977Z"
    },
    "papermill": {
     "duration": 0.449361,
     "end_time": "2021-10-18T22:53:43.873419",
     "exception": false,
     "start_time": "2021-10-18T22:53:43.424058",
     "status": "completed"
    },
    "tags": []
   },
   "outputs": [
    {
     "name": "stdout",
     "output_type": "stream",
     "text": [
      "Model  1 : LogisticRegression(random_state=42, solver='liblinear')\n",
      "ACC:  0.797752808988764\n",
      "Model  2 : GradientBoostingClassifier()\n",
      "ACC:  0.8202247191011236\n",
      "Model  3 : RandomForestClassifier()\n",
      "ACC:  0.7921348314606742\n",
      "Model  4 : SGDClassifier()\n",
      "ACC:  0.6292134831460674\n",
      "Model  5 : SVC()\n",
      "ACC:  0.6348314606741573\n"
     ]
    }
   ],
   "source": [
    "#Lets some models\n",
    "model1 = LogisticRegression(solver='liblinear', random_state=42)\n",
    "model2 = GradientBoostingClassifier()\n",
    "model3 = RandomForestClassifier()\n",
    "model4 = SGDClassifier()\n",
    "model5 = SVC()\n",
    "\n",
    "models = [model1, model2, model3, model4, model5]\n",
    "i = 0\n",
    "for model in models:\n",
    "    i +=1\n",
    "    print(\"Model \", i,\":\", model)\n",
    "    print(\"ACC: \", fitAndPredict(model))"
   ]
  },
  {
   "cell_type": "code",
   "execution_count": 13,
   "id": "d9a7ee95",
   "metadata": {
    "execution": {
     "iopub.execute_input": "2021-10-18T22:53:43.914560Z",
     "iopub.status.busy": "2021-10-18T22:53:43.913823Z",
     "iopub.status.idle": "2021-10-18T22:53:44.026760Z",
     "shell.execute_reply": "2021-10-18T22:53:44.026234Z",
     "shell.execute_reply.started": "2021-10-18T22:52:36.693735Z"
    },
    "papermill": {
     "duration": 0.136609,
     "end_time": "2021-10-18T22:53:44.026915",
     "exception": false,
     "start_time": "2021-10-18T22:53:43.890306",
     "status": "completed"
    },
    "tags": []
   },
   "outputs": [
    {
     "data": {
      "text/plain": [
       "0.8370786516853933"
      ]
     },
     "execution_count": 13,
     "metadata": {},
     "output_type": "execute_result"
    }
   ],
   "source": [
    "#As long as GradientBoost is the best of the tried ones lets tune it a bit\n",
    "model = GradientBoostingClassifier(min_samples_split=20, min_samples_leaf=60, max_depth=3, max_features=7)\n",
    "fitAndPredict(model)"
   ]
  },
  {
   "cell_type": "code",
   "execution_count": 14,
   "id": "16b3c3fb",
   "metadata": {
    "execution": {
     "iopub.execute_input": "2021-10-18T22:53:44.074673Z",
     "iopub.status.busy": "2021-10-18T22:53:44.072318Z",
     "iopub.status.idle": "2021-10-18T22:53:44.081294Z",
     "shell.execute_reply": "2021-10-18T22:53:44.081777Z",
     "shell.execute_reply.started": "2021-10-18T22:52:36.816484Z"
    },
    "papermill": {
     "duration": 0.03772,
     "end_time": "2021-10-18T22:53:44.081951",
     "exception": false,
     "start_time": "2021-10-18T22:53:44.044231",
     "status": "completed"
    },
    "tags": []
   },
   "outputs": [
    {
     "name": "stdout",
     "output_type": "stream",
     "text": [
      "Submission saved\n"
     ]
    }
   ],
   "source": [
    "#Deliver (After delivering tunned gradient it seems to have less punctuation than default 1)\n",
    "predict = model2.predict(pd.get_dummies(clean_test))\n",
    "\n",
    "output = pd.DataFrame({'PassengerId': clean_test.PassengerId, 'Survived': predict})\n",
    "output.to_csv('my_submission.csv', index=False)\n",
    "print(\"Submission saved\")"
   ]
  }
 ],
 "metadata": {
  "kernelspec": {
   "display_name": "Python 3",
   "language": "python",
   "name": "python3"
  },
  "language_info": {
   "codemirror_mode": {
    "name": "ipython",
    "version": 3
   },
   "file_extension": ".py",
   "mimetype": "text/x-python",
   "name": "python",
   "nbconvert_exporter": "python",
   "pygments_lexer": "ipython3",
   "version": "3.7.10"
  },
  "papermill": {
   "default_parameters": {},
   "duration": 11.756221,
   "end_time": "2021-10-18T22:53:44.708667",
   "environment_variables": {},
   "exception": null,
   "input_path": "__notebook__.ipynb",
   "output_path": "__notebook__.ipynb",
   "parameters": {},
   "start_time": "2021-10-18T22:53:32.952446",
   "version": "2.3.3"
  }
 },
 "nbformat": 4,
 "nbformat_minor": 5
}
