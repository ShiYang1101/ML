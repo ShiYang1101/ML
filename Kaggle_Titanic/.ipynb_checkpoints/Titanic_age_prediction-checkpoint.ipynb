{
 "cells": [
  {
   "cell_type": "code",
   "execution_count": 1,
   "id": "c49f8bda",
   "metadata": {
    "_cell_guid": "b1076dfc-b9ad-4769-8c92-a6c4dae69d19",
    "_uuid": "8f2839f25d086af736a60e9eeb907d3b93b6e0e5",
    "execution": {
     "iopub.execute_input": "2022-03-05T18:58:35.686902Z",
     "iopub.status.busy": "2022-03-05T18:58:35.685127Z",
     "iopub.status.idle": "2022-03-05T18:58:36.987924Z",
     "shell.execute_reply": "2022-03-05T18:58:36.988515Z",
     "shell.execute_reply.started": "2022-03-05T18:44:37.836980Z"
    },
    "papermill": {
     "duration": 1.342175,
     "end_time": "2022-03-05T18:58:36.988795",
     "exception": false,
     "start_time": "2022-03-05T18:58:35.646620",
     "status": "completed"
    },
    "tags": []
   },
   "outputs": [
    {
     "name": "stdout",
     "output_type": "stream",
     "text": [
      "/kaggle/input/titanic/train.csv\n",
      "/kaggle/input/titanic/test.csv\n",
      "/kaggle/input/titanic/gender_submission.csv\n"
     ]
    }
   ],
   "source": [
    "# This Python 3 environment comes with many helpful analytics libraries installed\n",
    "# It is defined by the kaggle/python Docker image: https://github.com/kaggle/docker-python\n",
    "# For example, here's several helpful packages to load\n",
    "\n",
    "import numpy as np # linear algebra\n",
    "import pandas as pd # data processing, CSV file I/O (e.g. pd.read_csv)\n",
    "import sklearn \n",
    "import re\n",
    "import matplotlib.pyplot as plt\n",
    "from sklearn import tree\n",
    "from sklearn.linear_model import LogisticRegression, LinearRegression\n",
    "from sklearn.model_selection import train_test_split\n",
    "from sklearn.metrics import accuracy_score, mean_squared_error\n",
    "from sklearn.preprocessing import OneHotEncoder\n",
    "# Input data files are available in the read-only \"../input/\" directory\n",
    "# For example, running this (by clicking run or pressing Shift+Enter) will list all files under the input directory\n",
    "\n",
    "import os\n",
    "for dirname, _, filenames in os.walk('/kaggle/input'):\n",
    "    for filename in filenames:\n",
    "        print(os.path.join(dirname, filename))\n",
    "\n",
    "# You can write up to 20GB to the current directory (/kaggle/working/) that gets preserved as output when you create a version using \"Save & Run All\" \n",
    "# You can also write temporary files to /kaggle/temp/, but they won't be saved outside of the current session"
   ]
  },
  {
   "cell_type": "code",
   "execution_count": 2,
   "id": "841263a1",
   "metadata": {
    "execution": {
     "iopub.execute_input": "2022-03-05T18:58:37.055668Z",
     "iopub.status.busy": "2022-03-05T18:58:37.054776Z",
     "iopub.status.idle": "2022-03-05T18:58:37.061848Z",
     "shell.execute_reply": "2022-03-05T18:58:37.062335Z",
     "shell.execute_reply.started": "2022-03-05T18:44:37.851431Z"
    },
    "papermill": {
     "duration": 0.041677,
     "end_time": "2022-03-05T18:58:37.062496",
     "exception": false,
     "start_time": "2022-03-05T18:58:37.020819",
     "status": "completed"
    },
    "tags": []
   },
   "outputs": [
    {
     "data": {
      "text/plain": [
       "'/kaggle/working'"
      ]
     },
     "execution_count": 2,
     "metadata": {},
     "output_type": "execute_result"
    }
   ],
   "source": [
    "os.getcwd()"
   ]
  },
  {
   "cell_type": "code",
   "execution_count": 3,
   "id": "68c60061",
   "metadata": {
    "execution": {
     "iopub.execute_input": "2022-03-05T18:58:37.132136Z",
     "iopub.status.busy": "2022-03-05T18:58:37.131273Z",
     "iopub.status.idle": "2022-03-05T18:58:37.948401Z",
     "shell.execute_reply": "2022-03-05T18:58:37.947821Z",
     "shell.execute_reply.started": "2022-03-05T18:44:37.867648Z"
    },
    "papermill": {
     "duration": 0.853541,
     "end_time": "2022-03-05T18:58:37.948547",
     "exception": false,
     "start_time": "2022-03-05T18:58:37.095006",
     "status": "completed"
    },
    "tags": []
   },
   "outputs": [
    {
     "name": "stdout",
     "output_type": "stream",
     "text": [
      "==> /kaggle/input/titanic/gender_submission.csv <==\r\n",
      "\r\n",
      "\r\n",
      "\r\n",
      "\r\n",
      "\r\n",
      "\r\n",
      "\r\n",
      "\r\n",
      "\r\n",
      "\r\n",
      "\r\n",
      "==> /kaggle/input/titanic/test.csv <==\r\n",
      "\r\n",
      "\r\n",
      "\r\n",
      "\r\n",
      "\r\n",
      "\r\n",
      "\r\n",
      "\r\n",
      "\r\n",
      "\r\n",
      "\r\n",
      "==> /kaggle/input/titanic/train.csv <==\r\n",
      "\r\n",
      "\r\n",
      "\r\n",
      "\r\n",
      "\r\n",
      "\r\n",
      "\r\n",
      "\r\n",
      "\r\n",
      "\r\n"
     ]
    }
   ],
   "source": [
    "! head /kaggle/input/titanic/*.csv"
   ]
  },
  {
   "cell_type": "code",
   "execution_count": 4,
   "id": "879ac7d8",
   "metadata": {
    "execution": {
     "iopub.execute_input": "2022-03-05T18:58:38.018304Z",
     "iopub.status.busy": "2022-03-05T18:58:38.017391Z",
     "iopub.status.idle": "2022-03-05T18:58:38.021512Z",
     "shell.execute_reply": "2022-03-05T18:58:38.021987Z",
     "shell.execute_reply.started": "2022-03-05T18:44:38.639459Z"
    },
    "papermill": {
     "duration": 0.040333,
     "end_time": "2022-03-05T18:58:38.022153",
     "exception": false,
     "start_time": "2022-03-05T18:58:37.981820",
     "status": "completed"
    },
    "tags": []
   },
   "outputs": [],
   "source": [
    "def to_dataset(data):\n",
    "    dataset = pd.read_csv(data)\n",
    "    return dataset"
   ]
  },
  {
   "cell_type": "code",
   "execution_count": 5,
   "id": "01aa3ca4",
   "metadata": {
    "execution": {
     "iopub.execute_input": "2022-03-05T18:58:38.093577Z",
     "iopub.status.busy": "2022-03-05T18:58:38.092893Z",
     "iopub.status.idle": "2022-03-05T18:58:38.128265Z",
     "shell.execute_reply": "2022-03-05T18:58:38.128712Z",
     "shell.execute_reply.started": "2022-03-05T18:44:38.646876Z"
    },
    "papermill": {
     "duration": 0.072907,
     "end_time": "2022-03-05T18:58:38.128884",
     "exception": false,
     "start_time": "2022-03-05T18:58:38.055977",
     "status": "completed"
    },
    "tags": []
   },
   "outputs": [
    {
     "data": {
      "text/html": [
       "<div>\n",
       "<style scoped>\n",
       "    .dataframe tbody tr th:only-of-type {\n",
       "        vertical-align: middle;\n",
       "    }\n",
       "\n",
       "    .dataframe tbody tr th {\n",
       "        vertical-align: top;\n",
       "    }\n",
       "\n",
       "    .dataframe thead th {\n",
       "        text-align: right;\n",
       "    }\n",
       "</style>\n",
       "<table border=\"1\" class=\"dataframe\">\n",
       "  <thead>\n",
       "    <tr style=\"text-align: right;\">\n",
       "      <th></th>\n",
       "      <th>PassengerId</th>\n",
       "      <th>Survived</th>\n",
       "      <th>Pclass</th>\n",
       "      <th>Name</th>\n",
       "      <th>Sex</th>\n",
       "      <th>Age</th>\n",
       "      <th>SibSp</th>\n",
       "      <th>Parch</th>\n",
       "      <th>Ticket</th>\n",
       "      <th>Fare</th>\n",
       "      <th>Cabin</th>\n",
       "      <th>Embarked</th>\n",
       "    </tr>\n",
       "  </thead>\n",
       "  <tbody>\n",
       "    <tr>\n",
       "      <th>0</th>\n",
       "      <td>1</td>\n",
       "      <td>0</td>\n",
       "      <td>3</td>\n",
       "      <td>Braund, Mr. Owen Harris</td>\n",
       "      <td>male</td>\n",
       "      <td>22.0</td>\n",
       "      <td>1</td>\n",
       "      <td>0</td>\n",
       "      <td>A/5 21171</td>\n",
       "      <td>7.2500</td>\n",
       "      <td>NaN</td>\n",
       "      <td>S</td>\n",
       "    </tr>\n",
       "    <tr>\n",
       "      <th>1</th>\n",
       "      <td>2</td>\n",
       "      <td>1</td>\n",
       "      <td>1</td>\n",
       "      <td>Cumings, Mrs. John Bradley (Florence Briggs Th...</td>\n",
       "      <td>female</td>\n",
       "      <td>38.0</td>\n",
       "      <td>1</td>\n",
       "      <td>0</td>\n",
       "      <td>PC 17599</td>\n",
       "      <td>71.2833</td>\n",
       "      <td>C85</td>\n",
       "      <td>C</td>\n",
       "    </tr>\n",
       "    <tr>\n",
       "      <th>2</th>\n",
       "      <td>3</td>\n",
       "      <td>1</td>\n",
       "      <td>3</td>\n",
       "      <td>Heikkinen, Miss. Laina</td>\n",
       "      <td>female</td>\n",
       "      <td>26.0</td>\n",
       "      <td>0</td>\n",
       "      <td>0</td>\n",
       "      <td>STON/O2. 3101282</td>\n",
       "      <td>7.9250</td>\n",
       "      <td>NaN</td>\n",
       "      <td>S</td>\n",
       "    </tr>\n",
       "    <tr>\n",
       "      <th>3</th>\n",
       "      <td>4</td>\n",
       "      <td>1</td>\n",
       "      <td>1</td>\n",
       "      <td>Futrelle, Mrs. Jacques Heath (Lily May Peel)</td>\n",
       "      <td>female</td>\n",
       "      <td>35.0</td>\n",
       "      <td>1</td>\n",
       "      <td>0</td>\n",
       "      <td>113803</td>\n",
       "      <td>53.1000</td>\n",
       "      <td>C123</td>\n",
       "      <td>S</td>\n",
       "    </tr>\n",
       "    <tr>\n",
       "      <th>4</th>\n",
       "      <td>5</td>\n",
       "      <td>0</td>\n",
       "      <td>3</td>\n",
       "      <td>Allen, Mr. William Henry</td>\n",
       "      <td>male</td>\n",
       "      <td>35.0</td>\n",
       "      <td>0</td>\n",
       "      <td>0</td>\n",
       "      <td>373450</td>\n",
       "      <td>8.0500</td>\n",
       "      <td>NaN</td>\n",
       "      <td>S</td>\n",
       "    </tr>\n",
       "  </tbody>\n",
       "</table>\n",
       "</div>"
      ],
      "text/plain": [
       "   PassengerId  Survived  Pclass  \\\n",
       "0            1         0       3   \n",
       "1            2         1       1   \n",
       "2            3         1       3   \n",
       "3            4         1       1   \n",
       "4            5         0       3   \n",
       "\n",
       "                                                Name     Sex   Age  SibSp  \\\n",
       "0                            Braund, Mr. Owen Harris    male  22.0      1   \n",
       "1  Cumings, Mrs. John Bradley (Florence Briggs Th...  female  38.0      1   \n",
       "2                             Heikkinen, Miss. Laina  female  26.0      0   \n",
       "3       Futrelle, Mrs. Jacques Heath (Lily May Peel)  female  35.0      1   \n",
       "4                           Allen, Mr. William Henry    male  35.0      0   \n",
       "\n",
       "   Parch            Ticket     Fare Cabin Embarked  \n",
       "0      0         A/5 21171   7.2500   NaN        S  \n",
       "1      0          PC 17599  71.2833   C85        C  \n",
       "2      0  STON/O2. 3101282   7.9250   NaN        S  \n",
       "3      0            113803  53.1000  C123        S  \n",
       "4      0            373450   8.0500   NaN        S  "
      ]
     },
     "execution_count": 5,
     "metadata": {},
     "output_type": "execute_result"
    }
   ],
   "source": [
    "train_dataset = to_dataset('/kaggle/input/titanic/train.csv')\n",
    "train_dataset.head()"
   ]
  },
  {
   "cell_type": "code",
   "execution_count": 6,
   "id": "08cbb7ef",
   "metadata": {
    "execution": {
     "iopub.execute_input": "2022-03-05T18:58:38.200945Z",
     "iopub.status.busy": "2022-03-05T18:58:38.200362Z",
     "iopub.status.idle": "2022-03-05T18:58:38.220568Z",
     "shell.execute_reply": "2022-03-05T18:58:38.221043Z",
     "shell.execute_reply.started": "2022-03-05T18:44:38.684206Z"
    },
    "papermill": {
     "duration": 0.059649,
     "end_time": "2022-03-05T18:58:38.221209",
     "exception": false,
     "start_time": "2022-03-05T18:58:38.161560",
     "status": "completed"
    },
    "tags": []
   },
   "outputs": [
    {
     "name": "stdout",
     "output_type": "stream",
     "text": [
      "<class 'pandas.core.frame.DataFrame'>\n",
      "RangeIndex: 891 entries, 0 to 890\n",
      "Data columns (total 12 columns):\n",
      " #   Column       Non-Null Count  Dtype  \n",
      "---  ------       --------------  -----  \n",
      " 0   PassengerId  891 non-null    int64  \n",
      " 1   Survived     891 non-null    int64  \n",
      " 2   Pclass       891 non-null    int64  \n",
      " 3   Name         891 non-null    object \n",
      " 4   Sex          891 non-null    object \n",
      " 5   Age          714 non-null    float64\n",
      " 6   SibSp        891 non-null    int64  \n",
      " 7   Parch        891 non-null    int64  \n",
      " 8   Ticket       891 non-null    object \n",
      " 9   Fare         891 non-null    float64\n",
      " 10  Cabin        204 non-null    object \n",
      " 11  Embarked     889 non-null    object \n",
      "dtypes: float64(2), int64(5), object(5)\n",
      "memory usage: 83.7+ KB\n"
     ]
    }
   ],
   "source": [
    "train_dataset.info()"
   ]
  },
  {
   "cell_type": "code",
   "execution_count": 7,
   "id": "6e9b3dd0",
   "metadata": {
    "execution": {
     "iopub.execute_input": "2022-03-05T18:58:38.290192Z",
     "iopub.status.busy": "2022-03-05T18:58:38.289624Z",
     "iopub.status.idle": "2022-03-05T18:58:38.297501Z",
     "shell.execute_reply": "2022-03-05T18:58:38.298030Z",
     "shell.execute_reply.started": "2022-03-05T18:44:38.704785Z"
    },
    "papermill": {
     "duration": 0.044008,
     "end_time": "2022-03-05T18:58:38.298188",
     "exception": false,
     "start_time": "2022-03-05T18:58:38.254180",
     "status": "completed"
    },
    "tags": []
   },
   "outputs": [
    {
     "data": {
      "text/plain": [
       "PassengerId     0.000000\n",
       "Survived        0.000000\n",
       "Pclass          0.000000\n",
       "Name            0.000000\n",
       "Sex             0.000000\n",
       "Age            19.865320\n",
       "SibSp           0.000000\n",
       "Parch           0.000000\n",
       "Ticket          0.000000\n",
       "Fare            0.000000\n",
       "Cabin          77.104377\n",
       "Embarked        0.224467\n",
       "dtype: float64"
      ]
     },
     "execution_count": 7,
     "metadata": {},
     "output_type": "execute_result"
    }
   ],
   "source": [
    "# Percentage of missing values\n",
    "train_dataset.isnull().sum()/len(train_dataset)*100"
   ]
  },
  {
   "cell_type": "code",
   "execution_count": 8,
   "id": "adcc7df8",
   "metadata": {
    "execution": {
     "iopub.execute_input": "2022-03-05T18:58:38.368575Z",
     "iopub.status.busy": "2022-03-05T18:58:38.367896Z",
     "iopub.status.idle": "2022-03-05T18:58:38.379956Z",
     "shell.execute_reply": "2022-03-05T18:58:38.379394Z",
     "shell.execute_reply.started": "2022-03-05T18:44:38.724225Z"
    },
    "papermill": {
     "duration": 0.048958,
     "end_time": "2022-03-05T18:58:38.380088",
     "exception": false,
     "start_time": "2022-03-05T18:58:38.331130",
     "status": "completed"
    },
    "tags": []
   },
   "outputs": [
    {
     "data": {
      "text/plain": [
       "PassengerId    0\n",
       "Survived       0\n",
       "Pclass         0\n",
       "Name           0\n",
       "Sex            0\n",
       "Age            0\n",
       "SibSp          0\n",
       "Parch          0\n",
       "Ticket         0\n",
       "Fare           0\n",
       "Cabin          0\n",
       "Embarked       0\n",
       "dtype: int64"
      ]
     },
     "execution_count": 8,
     "metadata": {},
     "output_type": "execute_result"
    }
   ],
   "source": [
    "train_dataset = train_dataset.dropna()\n",
    "train_dataset.isnull().sum()"
   ]
  },
  {
   "cell_type": "code",
   "execution_count": 9,
   "id": "9f35676b",
   "metadata": {
    "execution": {
     "iopub.execute_input": "2022-03-05T18:58:38.458011Z",
     "iopub.status.busy": "2022-03-05T18:58:38.457456Z",
     "iopub.status.idle": "2022-03-05T18:58:38.481548Z",
     "shell.execute_reply": "2022-03-05T18:58:38.480590Z",
     "shell.execute_reply.started": "2022-03-05T18:44:38.745621Z"
    },
    "papermill": {
     "duration": 0.067628,
     "end_time": "2022-03-05T18:58:38.481730",
     "exception": false,
     "start_time": "2022-03-05T18:58:38.414102",
     "status": "completed"
    },
    "tags": []
   },
   "outputs": [
    {
     "data": {
      "text/html": [
       "<div>\n",
       "<style scoped>\n",
       "    .dataframe tbody tr th:only-of-type {\n",
       "        vertical-align: middle;\n",
       "    }\n",
       "\n",
       "    .dataframe tbody tr th {\n",
       "        vertical-align: top;\n",
       "    }\n",
       "\n",
       "    .dataframe thead th {\n",
       "        text-align: right;\n",
       "    }\n",
       "</style>\n",
       "<table border=\"1\" class=\"dataframe\">\n",
       "  <thead>\n",
       "    <tr style=\"text-align: right;\">\n",
       "      <th></th>\n",
       "      <th>PassengerId</th>\n",
       "      <th>Survived</th>\n",
       "      <th>Pclass</th>\n",
       "      <th>Age</th>\n",
       "      <th>SibSp</th>\n",
       "      <th>Parch</th>\n",
       "      <th>Fare</th>\n",
       "    </tr>\n",
       "  </thead>\n",
       "  <tbody>\n",
       "    <tr>\n",
       "      <th>count</th>\n",
       "      <td>183.000000</td>\n",
       "      <td>183.000000</td>\n",
       "      <td>183.000000</td>\n",
       "      <td>183.000000</td>\n",
       "      <td>183.000000</td>\n",
       "      <td>183.000000</td>\n",
       "      <td>183.000000</td>\n",
       "    </tr>\n",
       "    <tr>\n",
       "      <th>mean</th>\n",
       "      <td>455.366120</td>\n",
       "      <td>0.672131</td>\n",
       "      <td>1.191257</td>\n",
       "      <td>35.674426</td>\n",
       "      <td>0.464481</td>\n",
       "      <td>0.475410</td>\n",
       "      <td>78.682469</td>\n",
       "    </tr>\n",
       "    <tr>\n",
       "      <th>std</th>\n",
       "      <td>247.052476</td>\n",
       "      <td>0.470725</td>\n",
       "      <td>0.515187</td>\n",
       "      <td>15.643866</td>\n",
       "      <td>0.644159</td>\n",
       "      <td>0.754617</td>\n",
       "      <td>76.347843</td>\n",
       "    </tr>\n",
       "    <tr>\n",
       "      <th>min</th>\n",
       "      <td>2.000000</td>\n",
       "      <td>0.000000</td>\n",
       "      <td>1.000000</td>\n",
       "      <td>0.920000</td>\n",
       "      <td>0.000000</td>\n",
       "      <td>0.000000</td>\n",
       "      <td>0.000000</td>\n",
       "    </tr>\n",
       "    <tr>\n",
       "      <th>25%</th>\n",
       "      <td>263.500000</td>\n",
       "      <td>0.000000</td>\n",
       "      <td>1.000000</td>\n",
       "      <td>24.000000</td>\n",
       "      <td>0.000000</td>\n",
       "      <td>0.000000</td>\n",
       "      <td>29.700000</td>\n",
       "    </tr>\n",
       "    <tr>\n",
       "      <th>50%</th>\n",
       "      <td>457.000000</td>\n",
       "      <td>1.000000</td>\n",
       "      <td>1.000000</td>\n",
       "      <td>36.000000</td>\n",
       "      <td>0.000000</td>\n",
       "      <td>0.000000</td>\n",
       "      <td>57.000000</td>\n",
       "    </tr>\n",
       "    <tr>\n",
       "      <th>75%</th>\n",
       "      <td>676.000000</td>\n",
       "      <td>1.000000</td>\n",
       "      <td>1.000000</td>\n",
       "      <td>47.500000</td>\n",
       "      <td>1.000000</td>\n",
       "      <td>1.000000</td>\n",
       "      <td>90.000000</td>\n",
       "    </tr>\n",
       "    <tr>\n",
       "      <th>max</th>\n",
       "      <td>890.000000</td>\n",
       "      <td>1.000000</td>\n",
       "      <td>3.000000</td>\n",
       "      <td>80.000000</td>\n",
       "      <td>3.000000</td>\n",
       "      <td>4.000000</td>\n",
       "      <td>512.329200</td>\n",
       "    </tr>\n",
       "  </tbody>\n",
       "</table>\n",
       "</div>"
      ],
      "text/plain": [
       "       PassengerId    Survived      Pclass         Age       SibSp  \\\n",
       "count   183.000000  183.000000  183.000000  183.000000  183.000000   \n",
       "mean    455.366120    0.672131    1.191257   35.674426    0.464481   \n",
       "std     247.052476    0.470725    0.515187   15.643866    0.644159   \n",
       "min       2.000000    0.000000    1.000000    0.920000    0.000000   \n",
       "25%     263.500000    0.000000    1.000000   24.000000    0.000000   \n",
       "50%     457.000000    1.000000    1.000000   36.000000    0.000000   \n",
       "75%     676.000000    1.000000    1.000000   47.500000    1.000000   \n",
       "max     890.000000    1.000000    3.000000   80.000000    3.000000   \n",
       "\n",
       "            Parch        Fare  \n",
       "count  183.000000  183.000000  \n",
       "mean     0.475410   78.682469  \n",
       "std      0.754617   76.347843  \n",
       "min      0.000000    0.000000  \n",
       "25%      0.000000   29.700000  \n",
       "50%      0.000000   57.000000  \n",
       "75%      1.000000   90.000000  \n",
       "max      4.000000  512.329200  "
      ]
     },
     "execution_count": 9,
     "metadata": {},
     "output_type": "execute_result"
    }
   ],
   "source": [
    "train_dataset.describe()"
   ]
  },
  {
   "cell_type": "code",
   "execution_count": 10,
   "id": "eefb7236",
   "metadata": {
    "execution": {
     "iopub.execute_input": "2022-03-05T18:58:38.556611Z",
     "iopub.status.busy": "2022-03-05T18:58:38.555704Z",
     "iopub.status.idle": "2022-03-05T18:58:38.561595Z",
     "shell.execute_reply": "2022-03-05T18:58:38.562104Z",
     "shell.execute_reply.started": "2022-03-05T18:44:38.789933Z"
    },
    "papermill": {
     "duration": 0.043896,
     "end_time": "2022-03-05T18:58:38.562312",
     "exception": false,
     "start_time": "2022-03-05T18:58:38.518416",
     "status": "completed"
    },
    "tags": []
   },
   "outputs": [],
   "source": [
    "UNWANTED_COL = ['PassengerId', 'Name', 'Ticket', 'Fare', 'Cabin', 'Embarked']\n",
    "def data_prep(data, unwanted = UNWANTED_COL):\n",
    "    gender_dict = {'female':0, 'male':1}\n",
    "    for col in UNWANTED_COL:\n",
    "        try:\n",
    "            data = data.drop(columns = unwanted)\n",
    "        except KeyError:\n",
    "            continue\n",
    "    label = data['Survived']\n",
    "    data['Sex'].replace(gender_dict, inplace = True)\n",
    "    data = data.drop(columns = 'Survived')\n",
    "    return data, label"
   ]
  },
  {
   "cell_type": "code",
   "execution_count": 11,
   "id": "4d3be0d3",
   "metadata": {
    "execution": {
     "iopub.execute_input": "2022-03-05T18:58:38.634066Z",
     "iopub.status.busy": "2022-03-05T18:58:38.633165Z",
     "iopub.status.idle": "2022-03-05T18:58:38.642174Z",
     "shell.execute_reply": "2022-03-05T18:58:38.642710Z",
     "shell.execute_reply.started": "2022-03-05T18:44:38.799231Z"
    },
    "papermill": {
     "duration": 0.046493,
     "end_time": "2022-03-05T18:58:38.642873",
     "exception": false,
     "start_time": "2022-03-05T18:58:38.596380",
     "status": "completed"
    },
    "tags": []
   },
   "outputs": [],
   "source": [
    "train_dataset, eval_dataset = train_test_split(train_dataset, train_size = 0.8)\n",
    "train, train_label = data_prep(train_dataset)"
   ]
  },
  {
   "cell_type": "code",
   "execution_count": 12,
   "id": "18929ef0",
   "metadata": {
    "execution": {
     "iopub.execute_input": "2022-03-05T18:58:38.719342Z",
     "iopub.status.busy": "2022-03-05T18:58:38.718585Z",
     "iopub.status.idle": "2022-03-05T18:58:38.736868Z",
     "shell.execute_reply": "2022-03-05T18:58:38.737388Z",
     "shell.execute_reply.started": "2022-03-05T18:44:38.828962Z"
    },
    "papermill": {
     "duration": 0.060094,
     "end_time": "2022-03-05T18:58:38.737554",
     "exception": false,
     "start_time": "2022-03-05T18:58:38.677460",
     "status": "completed"
    },
    "tags": []
   },
   "outputs": [
    {
     "data": {
      "text/plain": [
       "LogisticRegression()"
      ]
     },
     "execution_count": 12,
     "metadata": {},
     "output_type": "execute_result"
    }
   ],
   "source": [
    "model = LogisticRegression()\n",
    "model.fit(train, train_label)"
   ]
  },
  {
   "cell_type": "code",
   "execution_count": 13,
   "id": "47c18ede",
   "metadata": {
    "execution": {
     "iopub.execute_input": "2022-03-05T18:58:38.809977Z",
     "iopub.status.busy": "2022-03-05T18:58:38.809072Z",
     "iopub.status.idle": "2022-03-05T18:58:38.816650Z",
     "shell.execute_reply": "2022-03-05T18:58:38.817159Z",
     "shell.execute_reply.started": "2022-03-05T18:44:38.860972Z"
    },
    "papermill": {
     "duration": 0.044962,
     "end_time": "2022-03-05T18:58:38.817332",
     "exception": false,
     "start_time": "2022-03-05T18:58:38.772370",
     "status": "completed"
    },
    "tags": []
   },
   "outputs": [],
   "source": [
    "eval_dataset, eval_label = data_prep(eval_dataset)"
   ]
  },
  {
   "cell_type": "code",
   "execution_count": 14,
   "id": "527192ae",
   "metadata": {
    "execution": {
     "iopub.execute_input": "2022-03-05T18:58:38.889178Z",
     "iopub.status.busy": "2022-03-05T18:58:38.888273Z",
     "iopub.status.idle": "2022-03-05T18:58:38.896767Z",
     "shell.execute_reply": "2022-03-05T18:58:38.897453Z",
     "shell.execute_reply.started": "2022-03-05T18:44:38.873922Z"
    },
    "papermill": {
     "duration": 0.04616,
     "end_time": "2022-03-05T18:58:38.897673",
     "exception": false,
     "start_time": "2022-03-05T18:58:38.851513",
     "status": "completed"
    },
    "tags": []
   },
   "outputs": [
    {
     "name": "stdout",
     "output_type": "stream",
     "text": [
      "0.7837837837837838\n"
     ]
    }
   ],
   "source": [
    "def model_acc(model, eval_dataset, eval_label):\n",
    "    model_predict = model.predict(eval_dataset)\n",
    "    return accuracy_score(eval_label, model_predict)\n",
    "print(model_acc(model, eval_dataset, eval_label))"
   ]
  },
  {
   "cell_type": "code",
   "execution_count": 15,
   "id": "c3b0da51",
   "metadata": {
    "execution": {
     "iopub.execute_input": "2022-03-05T18:58:38.972427Z",
     "iopub.status.busy": "2022-03-05T18:58:38.971762Z",
     "iopub.status.idle": "2022-03-05T18:58:38.986147Z",
     "shell.execute_reply": "2022-03-05T18:58:38.985546Z",
     "shell.execute_reply.started": "2022-03-05T18:44:38.890383Z"
    },
    "papermill": {
     "duration": 0.053819,
     "end_time": "2022-03-05T18:58:38.986335",
     "exception": false,
     "start_time": "2022-03-05T18:58:38.932516",
     "status": "completed"
    },
    "tags": []
   },
   "outputs": [
    {
     "name": "stdout",
     "output_type": "stream",
     "text": [
      "   PassengerId  Pclass                                          Name     Sex  \\\n",
      "0          892       3                              Kelly, Mr. James    male   \n",
      "1          893       3              Wilkes, Mrs. James (Ellen Needs)  female   \n",
      "2          894       2                     Myles, Mr. Thomas Francis    male   \n",
      "3          895       3                              Wirz, Mr. Albert    male   \n",
      "4          896       3  Hirvonen, Mrs. Alexander (Helga E Lindqvist)  female   \n",
      "\n",
      "    Age  SibSp  Parch   Ticket     Fare Cabin Embarked  \n",
      "0  34.5      0      0   330911   7.8292   NaN        Q  \n",
      "1  47.0      1      0   363272   7.0000   NaN        S  \n",
      "2  62.0      0      0   240276   9.6875   NaN        Q  \n",
      "3  27.0      0      0   315154   8.6625   NaN        S  \n",
      "4  22.0      1      1  3101298  12.2875   NaN        S  \n"
     ]
    }
   ],
   "source": [
    "test_data = pd.read_csv('/kaggle/input/titanic/test.csv')\n",
    "print(test_data.head())"
   ]
  },
  {
   "cell_type": "code",
   "execution_count": 16,
   "id": "15846722",
   "metadata": {
    "execution": {
     "iopub.execute_input": "2022-03-05T18:58:39.061268Z",
     "iopub.status.busy": "2022-03-05T18:58:39.060672Z",
     "iopub.status.idle": "2022-03-05T18:58:39.078593Z",
     "shell.execute_reply": "2022-03-05T18:58:39.078068Z",
     "shell.execute_reply.started": "2022-03-05T18:44:38.909329Z"
    },
    "papermill": {
     "duration": 0.056834,
     "end_time": "2022-03-05T18:58:39.078730",
     "exception": false,
     "start_time": "2022-03-05T18:58:39.021896",
     "status": "completed"
    },
    "tags": []
   },
   "outputs": [
    {
     "data": {
      "text/html": [
       "<div>\n",
       "<style scoped>\n",
       "    .dataframe tbody tr th:only-of-type {\n",
       "        vertical-align: middle;\n",
       "    }\n",
       "\n",
       "    .dataframe tbody tr th {\n",
       "        vertical-align: top;\n",
       "    }\n",
       "\n",
       "    .dataframe thead th {\n",
       "        text-align: right;\n",
       "    }\n",
       "</style>\n",
       "<table border=\"1\" class=\"dataframe\">\n",
       "  <thead>\n",
       "    <tr style=\"text-align: right;\">\n",
       "      <th></th>\n",
       "      <th>PassengerId</th>\n",
       "      <th>Survived</th>\n",
       "      <th>Pclass</th>\n",
       "      <th>Name</th>\n",
       "      <th>Sex</th>\n",
       "      <th>Age</th>\n",
       "      <th>SibSp</th>\n",
       "      <th>Parch</th>\n",
       "      <th>Ticket</th>\n",
       "      <th>Fare</th>\n",
       "      <th>Cabin</th>\n",
       "      <th>Embarked</th>\n",
       "    </tr>\n",
       "  </thead>\n",
       "  <tbody>\n",
       "    <tr>\n",
       "      <th>0</th>\n",
       "      <td>1</td>\n",
       "      <td>0</td>\n",
       "      <td>3</td>\n",
       "      <td>Braund, Mr. Owen Harris</td>\n",
       "      <td>male</td>\n",
       "      <td>22.0</td>\n",
       "      <td>1</td>\n",
       "      <td>0</td>\n",
       "      <td>A/5 21171</td>\n",
       "      <td>7.2500</td>\n",
       "      <td>NaN</td>\n",
       "      <td>S</td>\n",
       "    </tr>\n",
       "    <tr>\n",
       "      <th>1</th>\n",
       "      <td>2</td>\n",
       "      <td>1</td>\n",
       "      <td>1</td>\n",
       "      <td>Cumings, Mrs. John Bradley (Florence Briggs Th...</td>\n",
       "      <td>female</td>\n",
       "      <td>38.0</td>\n",
       "      <td>1</td>\n",
       "      <td>0</td>\n",
       "      <td>PC 17599</td>\n",
       "      <td>71.2833</td>\n",
       "      <td>C85</td>\n",
       "      <td>C</td>\n",
       "    </tr>\n",
       "    <tr>\n",
       "      <th>2</th>\n",
       "      <td>3</td>\n",
       "      <td>1</td>\n",
       "      <td>3</td>\n",
       "      <td>Heikkinen, Miss. Laina</td>\n",
       "      <td>female</td>\n",
       "      <td>26.0</td>\n",
       "      <td>0</td>\n",
       "      <td>0</td>\n",
       "      <td>STON/O2. 3101282</td>\n",
       "      <td>7.9250</td>\n",
       "      <td>NaN</td>\n",
       "      <td>S</td>\n",
       "    </tr>\n",
       "    <tr>\n",
       "      <th>3</th>\n",
       "      <td>4</td>\n",
       "      <td>1</td>\n",
       "      <td>1</td>\n",
       "      <td>Futrelle, Mrs. Jacques Heath (Lily May Peel)</td>\n",
       "      <td>female</td>\n",
       "      <td>35.0</td>\n",
       "      <td>1</td>\n",
       "      <td>0</td>\n",
       "      <td>113803</td>\n",
       "      <td>53.1000</td>\n",
       "      <td>C123</td>\n",
       "      <td>S</td>\n",
       "    </tr>\n",
       "    <tr>\n",
       "      <th>4</th>\n",
       "      <td>5</td>\n",
       "      <td>0</td>\n",
       "      <td>3</td>\n",
       "      <td>Allen, Mr. William Henry</td>\n",
       "      <td>male</td>\n",
       "      <td>35.0</td>\n",
       "      <td>0</td>\n",
       "      <td>0</td>\n",
       "      <td>373450</td>\n",
       "      <td>8.0500</td>\n",
       "      <td>NaN</td>\n",
       "      <td>S</td>\n",
       "    </tr>\n",
       "  </tbody>\n",
       "</table>\n",
       "</div>"
      ],
      "text/plain": [
       "   PassengerId  Survived  Pclass  \\\n",
       "0            1         0       3   \n",
       "1            2         1       1   \n",
       "2            3         1       3   \n",
       "3            4         1       1   \n",
       "4            5         0       3   \n",
       "\n",
       "                                                Name     Sex   Age  SibSp  \\\n",
       "0                            Braund, Mr. Owen Harris    male  22.0      1   \n",
       "1  Cumings, Mrs. John Bradley (Florence Briggs Th...  female  38.0      1   \n",
       "2                             Heikkinen, Miss. Laina  female  26.0      0   \n",
       "3       Futrelle, Mrs. Jacques Heath (Lily May Peel)  female  35.0      1   \n",
       "4                           Allen, Mr. William Henry    male  35.0      0   \n",
       "\n",
       "   Parch            Ticket     Fare Cabin Embarked  \n",
       "0      0         A/5 21171   7.2500   NaN        S  \n",
       "1      0          PC 17599  71.2833   C85        C  \n",
       "2      0  STON/O2. 3101282   7.9250   NaN        S  \n",
       "3      0            113803  53.1000  C123        S  \n",
       "4      0            373450   8.0500   NaN        S  "
      ]
     },
     "execution_count": 16,
     "metadata": {},
     "output_type": "execute_result"
    }
   ],
   "source": [
    "data_raw = pd.read_csv('/kaggle/input/titanic/train.csv')\n",
    "data_raw.head()"
   ]
  },
  {
   "cell_type": "code",
   "execution_count": 17,
   "id": "82126313",
   "metadata": {
    "execution": {
     "iopub.execute_input": "2022-03-05T18:58:39.152198Z",
     "iopub.status.busy": "2022-03-05T18:58:39.151593Z",
     "iopub.status.idle": "2022-03-05T18:58:39.162055Z",
     "shell.execute_reply": "2022-03-05T18:58:39.162503Z",
     "shell.execute_reply.started": "2022-03-05T18:44:38.935979Z"
    },
    "papermill": {
     "duration": 0.048637,
     "end_time": "2022-03-05T18:58:39.162679",
     "exception": false,
     "start_time": "2022-03-05T18:58:39.114042",
     "status": "completed"
    },
    "tags": []
   },
   "outputs": [],
   "source": [
    "UNWANTED_AGE_TRAINING = ['PassengerId', 'Survived', 'Sex', 'Ticket', 'Cabin', 'Embarked' ]\n",
    "def get_prefix(data, mode = 'train'):\n",
    "    data['Prefix'] = data['Name'].astype('str').apply(lambda x : re.split('[,.]', x)[1])\n",
    "    dum_df = pd.get_dummies(data['Prefix'])\n",
    "    data = data.join(dum_df)\n",
    "    pref_list = data['Prefix'].unique()\n",
    "    print(data['Prefix'].value_counts())\n",
    "    print('--------------------\\n')\n",
    "    print(\"Unique values of prefixs are: \\n\")\n",
    "    print(data['Prefix'].unique(), '\\n')\n",
    "    print('--------------------\\n')\n",
    "    threshold = len(data) / 100\n",
    "    prefix_drop_list = [col for col in pref_list if data['Prefix'].value_counts()[col] < threshold]\n",
    "    if mode == 'train':\n",
    "        for col in prefix_drop_list:\n",
    "            data = data[data[col] != 1].reset_index(drop = True)\n",
    "            data = data.drop(columns = col)\n",
    "    elif mode == 'predict':\n",
    "        filler = data['Prefix'].value_counts().idxmax()\n",
    "        data['convert'] = data[prefix_drop_list].values.tolist()\n",
    "        data['convert'] = data['convert'].apply(lambda x : all(x))\n",
    "        print(data['convert'])\n",
    "        data[filler] = data['convert'] | data[filler]\n",
    "        data = data.drop(columns =  'convert')\n",
    "    data = data.drop(columns = 'Prefix')\n",
    "    return data, pref_list\n",
    "\n",
    "def data_prep_age_fill(data, unwanted = UNWANTED_AGE_TRAINING):\n",
    "    data = data.drop(columns = unwanted)\n",
    "    data = data.drop(columns = ['Name'])\n",
    "    data = data.dropna()\n",
    "    label = data['Age']\n",
    "    data = data.drop(columns = 'Age')\n",
    "    return data, label"
   ]
  },
  {
   "cell_type": "code",
   "execution_count": 18,
   "id": "eefe5f02",
   "metadata": {
    "execution": {
     "iopub.execute_input": "2022-03-05T18:58:39.244866Z",
     "iopub.status.busy": "2022-03-05T18:58:39.244240Z",
     "iopub.status.idle": "2022-03-05T18:58:39.289951Z",
     "shell.execute_reply": "2022-03-05T18:58:39.290414Z",
     "shell.execute_reply.started": "2022-03-05T18:44:38.955381Z"
    },
    "papermill": {
     "duration": 0.09292,
     "end_time": "2022-03-05T18:58:39.290576",
     "exception": false,
     "start_time": "2022-03-05T18:58:39.197656",
     "status": "completed"
    },
    "tags": []
   },
   "outputs": [
    {
     "name": "stdout",
     "output_type": "stream",
     "text": [
      " Mr              517\n",
      " Miss            182\n",
      " Mrs             125\n",
      " Master           40\n",
      " Dr                7\n",
      " Rev               6\n",
      " Mlle              2\n",
      " Major             2\n",
      " Col               2\n",
      " the Countess      1\n",
      " Capt              1\n",
      " Ms                1\n",
      " Sir               1\n",
      " Lady              1\n",
      " Mme               1\n",
      " Don               1\n",
      " Jonkheer          1\n",
      "Name: Prefix, dtype: int64\n",
      "--------------------\n",
      "\n",
      "Unique values of prefixs are: \n",
      "\n",
      "[' Mr' ' Mrs' ' Miss' ' Master' ' Don' ' Rev' ' Dr' ' Mme' ' Ms' ' Major'\n",
      " ' Lady' ' Sir' ' Mlle' ' Col' ' Capt' ' the Countess' ' Jonkheer'] \n",
      "\n",
      "--------------------\n",
      "\n"
     ]
    },
    {
     "data": {
      "text/html": [
       "<div>\n",
       "<style scoped>\n",
       "    .dataframe tbody tr th:only-of-type {\n",
       "        vertical-align: middle;\n",
       "    }\n",
       "\n",
       "    .dataframe tbody tr th {\n",
       "        vertical-align: top;\n",
       "    }\n",
       "\n",
       "    .dataframe thead th {\n",
       "        text-align: right;\n",
       "    }\n",
       "</style>\n",
       "<table border=\"1\" class=\"dataframe\">\n",
       "  <thead>\n",
       "    <tr style=\"text-align: right;\">\n",
       "      <th></th>\n",
       "      <th>PassengerId</th>\n",
       "      <th>Survived</th>\n",
       "      <th>Pclass</th>\n",
       "      <th>Name</th>\n",
       "      <th>Sex</th>\n",
       "      <th>Age</th>\n",
       "      <th>SibSp</th>\n",
       "      <th>Parch</th>\n",
       "      <th>Ticket</th>\n",
       "      <th>Fare</th>\n",
       "      <th>Cabin</th>\n",
       "      <th>Embarked</th>\n",
       "      <th>Master</th>\n",
       "      <th>Miss</th>\n",
       "      <th>Mr</th>\n",
       "      <th>Mrs</th>\n",
       "    </tr>\n",
       "  </thead>\n",
       "  <tbody>\n",
       "    <tr>\n",
       "      <th>0</th>\n",
       "      <td>1</td>\n",
       "      <td>0</td>\n",
       "      <td>3</td>\n",
       "      <td>Braund, Mr. Owen Harris</td>\n",
       "      <td>male</td>\n",
       "      <td>22.0</td>\n",
       "      <td>1</td>\n",
       "      <td>0</td>\n",
       "      <td>A/5 21171</td>\n",
       "      <td>7.2500</td>\n",
       "      <td>NaN</td>\n",
       "      <td>S</td>\n",
       "      <td>0</td>\n",
       "      <td>0</td>\n",
       "      <td>1</td>\n",
       "      <td>0</td>\n",
       "    </tr>\n",
       "    <tr>\n",
       "      <th>1</th>\n",
       "      <td>2</td>\n",
       "      <td>1</td>\n",
       "      <td>1</td>\n",
       "      <td>Cumings, Mrs. John Bradley (Florence Briggs Th...</td>\n",
       "      <td>female</td>\n",
       "      <td>38.0</td>\n",
       "      <td>1</td>\n",
       "      <td>0</td>\n",
       "      <td>PC 17599</td>\n",
       "      <td>71.2833</td>\n",
       "      <td>C85</td>\n",
       "      <td>C</td>\n",
       "      <td>0</td>\n",
       "      <td>0</td>\n",
       "      <td>0</td>\n",
       "      <td>1</td>\n",
       "    </tr>\n",
       "    <tr>\n",
       "      <th>2</th>\n",
       "      <td>3</td>\n",
       "      <td>1</td>\n",
       "      <td>3</td>\n",
       "      <td>Heikkinen, Miss. Laina</td>\n",
       "      <td>female</td>\n",
       "      <td>26.0</td>\n",
       "      <td>0</td>\n",
       "      <td>0</td>\n",
       "      <td>STON/O2. 3101282</td>\n",
       "      <td>7.9250</td>\n",
       "      <td>NaN</td>\n",
       "      <td>S</td>\n",
       "      <td>0</td>\n",
       "      <td>1</td>\n",
       "      <td>0</td>\n",
       "      <td>0</td>\n",
       "    </tr>\n",
       "    <tr>\n",
       "      <th>3</th>\n",
       "      <td>4</td>\n",
       "      <td>1</td>\n",
       "      <td>1</td>\n",
       "      <td>Futrelle, Mrs. Jacques Heath (Lily May Peel)</td>\n",
       "      <td>female</td>\n",
       "      <td>35.0</td>\n",
       "      <td>1</td>\n",
       "      <td>0</td>\n",
       "      <td>113803</td>\n",
       "      <td>53.1000</td>\n",
       "      <td>C123</td>\n",
       "      <td>S</td>\n",
       "      <td>0</td>\n",
       "      <td>0</td>\n",
       "      <td>0</td>\n",
       "      <td>1</td>\n",
       "    </tr>\n",
       "    <tr>\n",
       "      <th>4</th>\n",
       "      <td>5</td>\n",
       "      <td>0</td>\n",
       "      <td>3</td>\n",
       "      <td>Allen, Mr. William Henry</td>\n",
       "      <td>male</td>\n",
       "      <td>35.0</td>\n",
       "      <td>0</td>\n",
       "      <td>0</td>\n",
       "      <td>373450</td>\n",
       "      <td>8.0500</td>\n",
       "      <td>NaN</td>\n",
       "      <td>S</td>\n",
       "      <td>0</td>\n",
       "      <td>0</td>\n",
       "      <td>1</td>\n",
       "      <td>0</td>\n",
       "    </tr>\n",
       "  </tbody>\n",
       "</table>\n",
       "</div>"
      ],
      "text/plain": [
       "   PassengerId  Survived  Pclass  \\\n",
       "0            1         0       3   \n",
       "1            2         1       1   \n",
       "2            3         1       3   \n",
       "3            4         1       1   \n",
       "4            5         0       3   \n",
       "\n",
       "                                                Name     Sex   Age  SibSp  \\\n",
       "0                            Braund, Mr. Owen Harris    male  22.0      1   \n",
       "1  Cumings, Mrs. John Bradley (Florence Briggs Th...  female  38.0      1   \n",
       "2                             Heikkinen, Miss. Laina  female  26.0      0   \n",
       "3       Futrelle, Mrs. Jacques Heath (Lily May Peel)  female  35.0      1   \n",
       "4                           Allen, Mr. William Henry    male  35.0      0   \n",
       "\n",
       "   Parch            Ticket     Fare Cabin Embarked   Master   Miss   Mr   Mrs  \n",
       "0      0         A/5 21171   7.2500   NaN        S        0      0    1     0  \n",
       "1      0          PC 17599  71.2833   C85        C        0      0    0     1  \n",
       "2      0  STON/O2. 3101282   7.9250   NaN        S        0      1    0     0  \n",
       "3      0            113803  53.1000  C123        S        0      0    0     1  \n",
       "4      0            373450   8.0500   NaN        S        0      0    1     0  "
      ]
     },
     "execution_count": 18,
     "metadata": {},
     "output_type": "execute_result"
    }
   ],
   "source": [
    "data, pref_list = get_prefix(data_raw)\n",
    "data.head()"
   ]
  },
  {
   "cell_type": "code",
   "execution_count": 19,
   "id": "a3f72fe5",
   "metadata": {
    "execution": {
     "iopub.execute_input": "2022-03-05T18:58:39.369429Z",
     "iopub.status.busy": "2022-03-05T18:58:39.368764Z",
     "iopub.status.idle": "2022-03-05T18:58:39.386199Z",
     "shell.execute_reply": "2022-03-05T18:58:39.385722Z",
     "shell.execute_reply.started": "2022-03-05T18:44:39.035599Z"
    },
    "papermill": {
     "duration": 0.059355,
     "end_time": "2022-03-05T18:58:39.386378",
     "exception": false,
     "start_time": "2022-03-05T18:58:39.327023",
     "status": "completed"
    },
    "tags": []
   },
   "outputs": [
    {
     "name": "stdout",
     "output_type": "stream",
     "text": [
      "     Pclass  SibSp  Parch     Fare   Master   Miss   Mr   Mrs\n",
      "262       3      1      0    7.775        0      0    1     0\n",
      "190       2      1      1   26.000        1      0    0     0\n",
      "7         3      3      1   21.075        1      0    0     0\n",
      "611       3      0      0   16.100        0      0    1     0\n",
      "488       1      1      2  151.550        0      0    0     1\n",
      "Pclass     0\n",
      "SibSp      0\n",
      "Parch      0\n",
      "Fare       0\n",
      " Master    0\n",
      " Miss      0\n",
      " Mr        0\n",
      " Mrs       0\n",
      "dtype: int64\n"
     ]
    }
   ],
   "source": [
    "data, eval_data = train_test_split(data, train_size = 0.8)\n",
    "age_data, label = data_prep_age_fill(data)\n",
    "eval_age_data, eval_age_label = data_prep_age_fill(eval_data)\n",
    "print(age_data.head())\n",
    "print(age_data.isnull().sum())"
   ]
  },
  {
   "cell_type": "code",
   "execution_count": 20,
   "id": "91dcc2a6",
   "metadata": {
    "execution": {
     "iopub.execute_input": "2022-03-05T18:58:39.461971Z",
     "iopub.status.busy": "2022-03-05T18:58:39.461401Z",
     "iopub.status.idle": "2022-03-05T18:58:39.466652Z",
     "shell.execute_reply": "2022-03-05T18:58:39.467162Z",
     "shell.execute_reply.started": "2022-03-05T18:44:39.064654Z"
    },
    "papermill": {
     "duration": 0.044826,
     "end_time": "2022-03-05T18:58:39.467347",
     "exception": false,
     "start_time": "2022-03-05T18:58:39.422521",
     "status": "completed"
    },
    "tags": []
   },
   "outputs": [
    {
     "data": {
      "text/plain": [
       "0"
      ]
     },
     "execution_count": 20,
     "metadata": {},
     "output_type": "execute_result"
    }
   ],
   "source": [
    "label.isnull().sum()"
   ]
  },
  {
   "cell_type": "code",
   "execution_count": 21,
   "id": "e7dec8ab",
   "metadata": {
    "execution": {
     "iopub.execute_input": "2022-03-05T18:58:39.542717Z",
     "iopub.status.busy": "2022-03-05T18:58:39.542160Z",
     "iopub.status.idle": "2022-03-05T18:58:39.551295Z",
     "shell.execute_reply": "2022-03-05T18:58:39.551755Z",
     "shell.execute_reply.started": "2022-03-05T18:44:39.073755Z"
    },
    "papermill": {
     "duration": 0.048118,
     "end_time": "2022-03-05T18:58:39.551957",
     "exception": false,
     "start_time": "2022-03-05T18:58:39.503839",
     "status": "completed"
    },
    "tags": []
   },
   "outputs": [
    {
     "data": {
      "text/plain": [
       "DecisionTreeRegressor()"
      ]
     },
     "execution_count": 21,
     "metadata": {},
     "output_type": "execute_result"
    }
   ],
   "source": [
    "age_model = tree.DecisionTreeRegressor()\n",
    "age_model.fit(age_data, label)"
   ]
  },
  {
   "cell_type": "code",
   "execution_count": 22,
   "id": "2ab61603",
   "metadata": {
    "execution": {
     "iopub.execute_input": "2022-03-05T18:58:39.627880Z",
     "iopub.status.busy": "2022-03-05T18:58:39.627299Z",
     "iopub.status.idle": "2022-03-05T18:58:39.854638Z",
     "shell.execute_reply": "2022-03-05T18:58:39.854148Z",
     "shell.execute_reply.started": "2022-03-05T18:44:39.094062Z"
    },
    "papermill": {
     "duration": 0.266254,
     "end_time": "2022-03-05T18:58:39.854766",
     "exception": false,
     "start_time": "2022-03-05T18:58:39.588512",
     "status": "completed"
    },
    "tags": []
   },
   "outputs": [
    {
     "data": {
      "image/png": "[encoded data removed]",
      "text/plain": [
       "<Figure size 432x288 with 1 Axes>"
      ]
     },
     "metadata": {
      "needs_background": "light"
     },
     "output_type": "display_data"
    }
   ],
   "source": [
    "def model_mse(model, eval_dataset, eval_label):\n",
    "    model_predict = model.predict(eval_dataset)\n",
    "    return mean_squared_error(eval_label, model_predict)\n",
    "predict = age_model.predict(eval_age_data)\n",
    "x = np.linspace(0, 80, 100)\n",
    "y = x\n",
    "plt.plot(x, y)\n",
    "plt.scatter(predict, eval_age_label)\n",
    "plt.xlabel('Prediction Age')\n",
    "plt.ylabel('True Age')\n",
    "plt.xlim([0,80])\n",
    "plt.ylim([0,80])\n",
    "plt.show()"
   ]
  },
  {
   "cell_type": "code",
   "execution_count": 23,
   "id": "7d2295ba",
   "metadata": {
    "execution": {
     "iopub.execute_input": "2022-03-05T18:58:39.947912Z",
     "iopub.status.busy": "2022-03-05T18:58:39.947312Z",
     "iopub.status.idle": "2022-03-05T18:58:39.949990Z",
     "shell.execute_reply": "2022-03-05T18:58:39.950467Z",
     "shell.execute_reply.started": "2022-03-05T18:44:39.331994Z"
    },
    "papermill": {
     "duration": 0.0579,
     "end_time": "2022-03-05T18:58:39.950623",
     "exception": false,
     "start_time": "2022-03-05T18:58:39.892723",
     "status": "completed"
    },
    "tags": []
   },
   "outputs": [
    {
     "data": {
      "text/html": [
       "<div>\n",
       "<style scoped>\n",
       "    .dataframe tbody tr th:only-of-type {\n",
       "        vertical-align: middle;\n",
       "    }\n",
       "\n",
       "    .dataframe tbody tr th {\n",
       "        vertical-align: top;\n",
       "    }\n",
       "\n",
       "    .dataframe thead th {\n",
       "        text-align: right;\n",
       "    }\n",
       "</style>\n",
       "<table border=\"1\" class=\"dataframe\">\n",
       "  <thead>\n",
       "    <tr style=\"text-align: right;\">\n",
       "      <th></th>\n",
       "      <th>PassengerId</th>\n",
       "      <th>Survived</th>\n",
       "      <th>Pclass</th>\n",
       "      <th>Name</th>\n",
       "      <th>Sex</th>\n",
       "      <th>Age</th>\n",
       "      <th>SibSp</th>\n",
       "      <th>Parch</th>\n",
       "      <th>Ticket</th>\n",
       "      <th>Fare</th>\n",
       "      <th>Cabin</th>\n",
       "      <th>Embarked</th>\n",
       "      <th>Prefix</th>\n",
       "    </tr>\n",
       "  </thead>\n",
       "  <tbody>\n",
       "    <tr>\n",
       "      <th>0</th>\n",
       "      <td>1</td>\n",
       "      <td>0</td>\n",
       "      <td>3</td>\n",
       "      <td>Braund, Mr. Owen Harris</td>\n",
       "      <td>male</td>\n",
       "      <td>22.0</td>\n",
       "      <td>1</td>\n",
       "      <td>0</td>\n",
       "      <td>A/5 21171</td>\n",
       "      <td>7.2500</td>\n",
       "      <td>NaN</td>\n",
       "      <td>S</td>\n",
       "      <td>Mr</td>\n",
       "    </tr>\n",
       "    <tr>\n",
       "      <th>1</th>\n",
       "      <td>2</td>\n",
       "      <td>1</td>\n",
       "      <td>1</td>\n",
       "      <td>Cumings, Mrs. John Bradley (Florence Briggs Th...</td>\n",
       "      <td>female</td>\n",
       "      <td>38.0</td>\n",
       "      <td>1</td>\n",
       "      <td>0</td>\n",
       "      <td>PC 17599</td>\n",
       "      <td>71.2833</td>\n",
       "      <td>C85</td>\n",
       "      <td>C</td>\n",
       "      <td>Mrs</td>\n",
       "    </tr>\n",
       "    <tr>\n",
       "      <th>2</th>\n",
       "      <td>3</td>\n",
       "      <td>1</td>\n",
       "      <td>3</td>\n",
       "      <td>Heikkinen, Miss. Laina</td>\n",
       "      <td>female</td>\n",
       "      <td>26.0</td>\n",
       "      <td>0</td>\n",
       "      <td>0</td>\n",
       "      <td>STON/O2. 3101282</td>\n",
       "      <td>7.9250</td>\n",
       "      <td>NaN</td>\n",
       "      <td>S</td>\n",
       "      <td>Miss</td>\n",
       "    </tr>\n",
       "    <tr>\n",
       "      <th>3</th>\n",
       "      <td>4</td>\n",
       "      <td>1</td>\n",
       "      <td>1</td>\n",
       "      <td>Futrelle, Mrs. Jacques Heath (Lily May Peel)</td>\n",
       "      <td>female</td>\n",
       "      <td>35.0</td>\n",
       "      <td>1</td>\n",
       "      <td>0</td>\n",
       "      <td>113803</td>\n",
       "      <td>53.1000</td>\n",
       "      <td>C123</td>\n",
       "      <td>S</td>\n",
       "      <td>Mrs</td>\n",
       "    </tr>\n",
       "    <tr>\n",
       "      <th>4</th>\n",
       "      <td>5</td>\n",
       "      <td>0</td>\n",
       "      <td>3</td>\n",
       "      <td>Allen, Mr. William Henry</td>\n",
       "      <td>male</td>\n",
       "      <td>35.0</td>\n",
       "      <td>0</td>\n",
       "      <td>0</td>\n",
       "      <td>373450</td>\n",
       "      <td>8.0500</td>\n",
       "      <td>NaN</td>\n",
       "      <td>S</td>\n",
       "      <td>Mr</td>\n",
       "    </tr>\n",
       "  </tbody>\n",
       "</table>\n",
       "</div>"
      ],
      "text/plain": [
       "   PassengerId  Survived  Pclass  \\\n",
       "0            1         0       3   \n",
       "1            2         1       1   \n",
       "2            3         1       3   \n",
       "3            4         1       1   \n",
       "4            5         0       3   \n",
       "\n",
       "                                                Name     Sex   Age  SibSp  \\\n",
       "0                            Braund, Mr. Owen Harris    male  22.0      1   \n",
       "1  Cumings, Mrs. John Bradley (Florence Briggs Th...  female  38.0      1   \n",
       "2                             Heikkinen, Miss. Laina  female  26.0      0   \n",
       "3       Futrelle, Mrs. Jacques Heath (Lily May Peel)  female  35.0      1   \n",
       "4                           Allen, Mr. William Henry    male  35.0      0   \n",
       "\n",
       "   Parch            Ticket     Fare Cabin Embarked Prefix  \n",
       "0      0         A/5 21171   7.2500   NaN        S     Mr  \n",
       "1      0          PC 17599  71.2833   C85        C    Mrs  \n",
       "2      0  STON/O2. 3101282   7.9250   NaN        S   Miss  \n",
       "3      0            113803  53.1000  C123        S    Mrs  \n",
       "4      0            373450   8.0500   NaN        S     Mr  "
      ]
     },
     "execution_count": 23,
     "metadata": {},
     "output_type": "execute_result"
    }
   ],
   "source": [
    "data_raw.head()"
   ]
  },
  {
   "cell_type": "code",
   "execution_count": 24,
   "id": "02854d9c",
   "metadata": {
    "execution": {
     "iopub.execute_input": "2022-03-05T18:58:40.031404Z",
     "iopub.status.busy": "2022-03-05T18:58:40.030536Z",
     "iopub.status.idle": "2022-03-05T18:58:40.088031Z",
     "shell.execute_reply": "2022-03-05T18:58:40.087554Z",
     "shell.execute_reply.started": "2022-03-05T18:44:39.353778Z"
    },
    "papermill": {
     "duration": 0.098662,
     "end_time": "2022-03-05T18:58:40.088160",
     "exception": false,
     "start_time": "2022-03-05T18:58:39.989498",
     "status": "completed"
    },
    "tags": []
   },
   "outputs": [
    {
     "name": "stdout",
     "output_type": "stream",
     "text": [
      " Mr              517\n",
      " Miss            182\n",
      " Mrs             125\n",
      " Master           40\n",
      " Dr                7\n",
      " Rev               6\n",
      " Mlle              2\n",
      " Major             2\n",
      " Col               2\n",
      " the Countess      1\n",
      " Capt              1\n",
      " Ms                1\n",
      " Sir               1\n",
      " Lady              1\n",
      " Mme               1\n",
      " Don               1\n",
      " Jonkheer          1\n",
      "Name: Prefix, dtype: int64\n",
      "--------------------\n",
      "\n",
      "Unique values of prefixs are: \n",
      "\n",
      "[' Mr' ' Mrs' ' Miss' ' Master' ' Don' ' Rev' ' Dr' ' Mme' ' Ms' ' Major'\n",
      " ' Lady' ' Sir' ' Mlle' ' Col' ' Capt' ' the Countess' ' Jonkheer'] \n",
      "\n",
      "--------------------\n",
      "\n"
     ]
    },
    {
     "data": {
      "text/html": [
       "<div>\n",
       "<style scoped>\n",
       "    .dataframe tbody tr th:only-of-type {\n",
       "        vertical-align: middle;\n",
       "    }\n",
       "\n",
       "    .dataframe tbody tr th {\n",
       "        vertical-align: top;\n",
       "    }\n",
       "\n",
       "    .dataframe thead th {\n",
       "        text-align: right;\n",
       "    }\n",
       "</style>\n",
       "<table border=\"1\" class=\"dataframe\">\n",
       "  <thead>\n",
       "    <tr style=\"text-align: right;\">\n",
       "      <th></th>\n",
       "      <th>PassengerId</th>\n",
       "      <th>Survived</th>\n",
       "      <th>Pclass</th>\n",
       "      <th>Name</th>\n",
       "      <th>Sex</th>\n",
       "      <th>Age</th>\n",
       "      <th>SibSp</th>\n",
       "      <th>Parch</th>\n",
       "      <th>Ticket</th>\n",
       "      <th>Fare</th>\n",
       "      <th>Cabin</th>\n",
       "      <th>Embarked</th>\n",
       "      <th>Master</th>\n",
       "      <th>Miss</th>\n",
       "      <th>Mr</th>\n",
       "      <th>Mrs</th>\n",
       "    </tr>\n",
       "  </thead>\n",
       "  <tbody>\n",
       "    <tr>\n",
       "      <th>0</th>\n",
       "      <td>1</td>\n",
       "      <td>0</td>\n",
       "      <td>3</td>\n",
       "      <td>Braund, Mr. Owen Harris</td>\n",
       "      <td>male</td>\n",
       "      <td>22.0</td>\n",
       "      <td>1</td>\n",
       "      <td>0</td>\n",
       "      <td>A/5 21171</td>\n",
       "      <td>7.2500</td>\n",
       "      <td>NaN</td>\n",
       "      <td>S</td>\n",
       "      <td>0</td>\n",
       "      <td>0</td>\n",
       "      <td>1</td>\n",
       "      <td>0</td>\n",
       "    </tr>\n",
       "    <tr>\n",
       "      <th>1</th>\n",
       "      <td>2</td>\n",
       "      <td>1</td>\n",
       "      <td>1</td>\n",
       "      <td>Cumings, Mrs. John Bradley (Florence Briggs Th...</td>\n",
       "      <td>female</td>\n",
       "      <td>38.0</td>\n",
       "      <td>1</td>\n",
       "      <td>0</td>\n",
       "      <td>PC 17599</td>\n",
       "      <td>71.2833</td>\n",
       "      <td>C85</td>\n",
       "      <td>C</td>\n",
       "      <td>0</td>\n",
       "      <td>0</td>\n",
       "      <td>0</td>\n",
       "      <td>1</td>\n",
       "    </tr>\n",
       "    <tr>\n",
       "      <th>2</th>\n",
       "      <td>3</td>\n",
       "      <td>1</td>\n",
       "      <td>3</td>\n",
       "      <td>Heikkinen, Miss. Laina</td>\n",
       "      <td>female</td>\n",
       "      <td>26.0</td>\n",
       "      <td>0</td>\n",
       "      <td>0</td>\n",
       "      <td>STON/O2. 3101282</td>\n",
       "      <td>7.9250</td>\n",
       "      <td>NaN</td>\n",
       "      <td>S</td>\n",
       "      <td>0</td>\n",
       "      <td>1</td>\n",
       "      <td>0</td>\n",
       "      <td>0</td>\n",
       "    </tr>\n",
       "    <tr>\n",
       "      <th>3</th>\n",
       "      <td>4</td>\n",
       "      <td>1</td>\n",
       "      <td>1</td>\n",
       "      <td>Futrelle, Mrs. Jacques Heath (Lily May Peel)</td>\n",
       "      <td>female</td>\n",
       "      <td>35.0</td>\n",
       "      <td>1</td>\n",
       "      <td>0</td>\n",
       "      <td>113803</td>\n",
       "      <td>53.1000</td>\n",
       "      <td>C123</td>\n",
       "      <td>S</td>\n",
       "      <td>0</td>\n",
       "      <td>0</td>\n",
       "      <td>0</td>\n",
       "      <td>1</td>\n",
       "    </tr>\n",
       "    <tr>\n",
       "      <th>4</th>\n",
       "      <td>5</td>\n",
       "      <td>0</td>\n",
       "      <td>3</td>\n",
       "      <td>Allen, Mr. William Henry</td>\n",
       "      <td>male</td>\n",
       "      <td>35.0</td>\n",
       "      <td>0</td>\n",
       "      <td>0</td>\n",
       "      <td>373450</td>\n",
       "      <td>8.0500</td>\n",
       "      <td>NaN</td>\n",
       "      <td>S</td>\n",
       "      <td>0</td>\n",
       "      <td>0</td>\n",
       "      <td>1</td>\n",
       "      <td>0</td>\n",
       "    </tr>\n",
       "    <tr>\n",
       "      <th>...</th>\n",
       "      <td>...</td>\n",
       "      <td>...</td>\n",
       "      <td>...</td>\n",
       "      <td>...</td>\n",
       "      <td>...</td>\n",
       "      <td>...</td>\n",
       "      <td>...</td>\n",
       "      <td>...</td>\n",
       "      <td>...</td>\n",
       "      <td>...</td>\n",
       "      <td>...</td>\n",
       "      <td>...</td>\n",
       "      <td>...</td>\n",
       "      <td>...</td>\n",
       "      <td>...</td>\n",
       "      <td>...</td>\n",
       "    </tr>\n",
       "    <tr>\n",
       "      <th>859</th>\n",
       "      <td>886</td>\n",
       "      <td>0</td>\n",
       "      <td>3</td>\n",
       "      <td>Rice, Mrs. William (Margaret Norton)</td>\n",
       "      <td>female</td>\n",
       "      <td>39.0</td>\n",
       "      <td>0</td>\n",
       "      <td>5</td>\n",
       "      <td>382652</td>\n",
       "      <td>29.1250</td>\n",
       "      <td>NaN</td>\n",
       "      <td>Q</td>\n",
       "      <td>0</td>\n",
       "      <td>0</td>\n",
       "      <td>0</td>\n",
       "      <td>1</td>\n",
       "    </tr>\n",
       "    <tr>\n",
       "      <th>860</th>\n",
       "      <td>888</td>\n",
       "      <td>1</td>\n",
       "      <td>1</td>\n",
       "      <td>Graham, Miss. Margaret Edith</td>\n",
       "      <td>female</td>\n",
       "      <td>19.0</td>\n",
       "      <td>0</td>\n",
       "      <td>0</td>\n",
       "      <td>112053</td>\n",
       "      <td>30.0000</td>\n",
       "      <td>B42</td>\n",
       "      <td>S</td>\n",
       "      <td>0</td>\n",
       "      <td>1</td>\n",
       "      <td>0</td>\n",
       "      <td>0</td>\n",
       "    </tr>\n",
       "    <tr>\n",
       "      <th>861</th>\n",
       "      <td>889</td>\n",
       "      <td>0</td>\n",
       "      <td>3</td>\n",
       "      <td>Johnston, Miss. Catherine Helen \"Carrie\"</td>\n",
       "      <td>female</td>\n",
       "      <td>NaN</td>\n",
       "      <td>1</td>\n",
       "      <td>2</td>\n",
       "      <td>W./C. 6607</td>\n",
       "      <td>23.4500</td>\n",
       "      <td>NaN</td>\n",
       "      <td>S</td>\n",
       "      <td>0</td>\n",
       "      <td>1</td>\n",
       "      <td>0</td>\n",
       "      <td>0</td>\n",
       "    </tr>\n",
       "    <tr>\n",
       "      <th>862</th>\n",
       "      <td>890</td>\n",
       "      <td>1</td>\n",
       "      <td>1</td>\n",
       "      <td>Behr, Mr. Karl Howell</td>\n",
       "      <td>male</td>\n",
       "      <td>26.0</td>\n",
       "      <td>0</td>\n",
       "      <td>0</td>\n",
       "      <td>111369</td>\n",
       "      <td>30.0000</td>\n",
       "      <td>C148</td>\n",
       "      <td>C</td>\n",
       "      <td>0</td>\n",
       "      <td>0</td>\n",
       "      <td>1</td>\n",
       "      <td>0</td>\n",
       "    </tr>\n",
       "    <tr>\n",
       "      <th>863</th>\n",
       "      <td>891</td>\n",
       "      <td>0</td>\n",
       "      <td>3</td>\n",
       "      <td>Dooley, Mr. Patrick</td>\n",
       "      <td>male</td>\n",
       "      <td>32.0</td>\n",
       "      <td>0</td>\n",
       "      <td>0</td>\n",
       "      <td>370376</td>\n",
       "      <td>7.7500</td>\n",
       "      <td>NaN</td>\n",
       "      <td>Q</td>\n",
       "      <td>0</td>\n",
       "      <td>0</td>\n",
       "      <td>1</td>\n",
       "      <td>0</td>\n",
       "    </tr>\n",
       "  </tbody>\n",
       "</table>\n",
       "<p>864 rows × 16 columns</p>\n",
       "</div>"
      ],
      "text/plain": [
       "     PassengerId  Survived  Pclass  \\\n",
       "0              1         0       3   \n",
       "1              2         1       1   \n",
       "2              3         1       3   \n",
       "3              4         1       1   \n",
       "4              5         0       3   \n",
       "..           ...       ...     ...   \n",
       "859          886         0       3   \n",
       "860          888         1       1   \n",
       "861          889         0       3   \n",
       "862          890         1       1   \n",
       "863          891         0       3   \n",
       "\n",
       "                                                  Name     Sex   Age  SibSp  \\\n",
       "0                              Braund, Mr. Owen Harris    male  22.0      1   \n",
       "1    Cumings, Mrs. John Bradley (Florence Briggs Th...  female  38.0      1   \n",
       "2                               Heikkinen, Miss. Laina  female  26.0      0   \n",
       "3         Futrelle, Mrs. Jacques Heath (Lily May Peel)  female  35.0      1   \n",
       "4                             Allen, Mr. William Henry    male  35.0      0   \n",
       "..                                                 ...     ...   ...    ...   \n",
       "859               Rice, Mrs. William (Margaret Norton)  female  39.0      0   \n",
       "860                       Graham, Miss. Margaret Edith  female  19.0      0   \n",
       "861           Johnston, Miss. Catherine Helen \"Carrie\"  female   NaN      1   \n",
       "862                              Behr, Mr. Karl Howell    male  26.0      0   \n",
       "863                                Dooley, Mr. Patrick    male  32.0      0   \n",
       "\n",
       "     Parch            Ticket     Fare Cabin Embarked   Master   Miss   Mr  \\\n",
       "0        0         A/5 21171   7.2500   NaN        S        0      0    1   \n",
       "1        0          PC 17599  71.2833   C85        C        0      0    0   \n",
       "2        0  STON/O2. 3101282   7.9250   NaN        S        0      1    0   \n",
       "3        0            113803  53.1000  C123        S        0      0    0   \n",
       "4        0            373450   8.0500   NaN        S        0      0    1   \n",
       "..     ...               ...      ...   ...      ...      ...    ...  ...   \n",
       "859      5            382652  29.1250   NaN        Q        0      0    0   \n",
       "860      0            112053  30.0000   B42        S        0      1    0   \n",
       "861      2        W./C. 6607  23.4500   NaN        S        0      1    0   \n",
       "862      0            111369  30.0000  C148        C        0      0    1   \n",
       "863      0            370376   7.7500   NaN        Q        0      0    1   \n",
       "\n",
       "      Mrs  \n",
       "0       0  \n",
       "1       1  \n",
       "2       0  \n",
       "3       1  \n",
       "4       0  \n",
       "..    ...  \n",
       "859     1  \n",
       "860     0  \n",
       "861     0  \n",
       "862     0  \n",
       "863     0  \n",
       "\n",
       "[864 rows x 16 columns]"
      ]
     },
     "execution_count": 24,
     "metadata": {},
     "output_type": "execute_result"
    }
   ],
   "source": [
    "final_data, temp = get_prefix(data_raw)\n",
    "final_data"
   ]
  },
  {
   "cell_type": "code",
   "execution_count": 25,
   "id": "b7c52501",
   "metadata": {
    "execution": {
     "iopub.execute_input": "2022-03-05T18:58:40.171840Z",
     "iopub.status.busy": "2022-03-05T18:58:40.171191Z",
     "iopub.status.idle": "2022-03-05T18:58:40.176356Z",
     "shell.execute_reply": "2022-03-05T18:58:40.176877Z",
     "shell.execute_reply.started": "2022-03-05T18:44:39.443701Z"
    },
    "papermill": {
     "duration": 0.04974,
     "end_time": "2022-03-05T18:58:40.177039",
     "exception": false,
     "start_time": "2022-03-05T18:58:40.127299",
     "status": "completed"
    },
    "tags": []
   },
   "outputs": [],
   "source": [
    "def age_fill(data):\n",
    "    age_prediction = pd.Series(age_model.predict(data[age_data.columns]))\n",
    "    data['Age'] = data['Age'].fillna(age_prediction)\n",
    "    return data\n",
    "final_data = age_fill(final_data)"
   ]
  },
  {
   "cell_type": "code",
   "execution_count": 26,
   "id": "165d96ec",
   "metadata": {
    "execution": {
     "iopub.execute_input": "2022-03-05T18:58:40.259500Z",
     "iopub.status.busy": "2022-03-05T18:58:40.258589Z",
     "iopub.status.idle": "2022-03-05T18:58:40.263869Z",
     "shell.execute_reply": "2022-03-05T18:58:40.264376Z",
     "shell.execute_reply.started": "2022-03-05T18:44:39.458813Z"
    },
    "papermill": {
     "duration": 0.047865,
     "end_time": "2022-03-05T18:58:40.264537",
     "exception": false,
     "start_time": "2022-03-05T18:58:40.216672",
     "status": "completed"
    },
    "tags": []
   },
   "outputs": [],
   "source": [
    "final_data['Embarked'] = final_data['Embarked'].fillna(max(final_data['Embarked'].value_counts()))"
   ]
  },
  {
   "cell_type": "code",
   "execution_count": 27,
   "id": "9f941c87",
   "metadata": {
    "execution": {
     "iopub.execute_input": "2022-03-05T18:58:40.347464Z",
     "iopub.status.busy": "2022-03-05T18:58:40.346547Z",
     "iopub.status.idle": "2022-03-05T18:58:40.353245Z",
     "shell.execute_reply": "2022-03-05T18:58:40.353767Z",
     "shell.execute_reply.started": "2022-03-05T18:44:39.470582Z"
    },
    "papermill": {
     "duration": 0.049648,
     "end_time": "2022-03-05T18:58:40.353937",
     "exception": false,
     "start_time": "2022-03-05T18:58:40.304289",
     "status": "completed"
    },
    "tags": []
   },
   "outputs": [
    {
     "data": {
      "text/plain": [
       "S      628\n",
       "C      159\n",
       "Q       75\n",
       "628      2\n",
       "Name: Embarked, dtype: int64"
      ]
     },
     "execution_count": 27,
     "metadata": {},
     "output_type": "execute_result"
    }
   ],
   "source": [
    "final_data['Embarked'].value_counts()"
   ]
  },
  {
   "cell_type": "code",
   "execution_count": 28,
   "id": "028b10f6",
   "metadata": {
    "execution": {
     "iopub.execute_input": "2022-03-05T18:58:40.439993Z",
     "iopub.status.busy": "2022-03-05T18:58:40.439361Z",
     "iopub.status.idle": "2022-03-05T18:58:40.442211Z",
     "shell.execute_reply": "2022-03-05T18:58:40.442685Z",
     "shell.execute_reply.started": "2022-03-05T18:44:39.489131Z"
    },
    "papermill": {
     "duration": 0.048326,
     "end_time": "2022-03-05T18:58:40.442851",
     "exception": false,
     "start_time": "2022-03-05T18:58:40.394525",
     "status": "completed"
    },
    "tags": []
   },
   "outputs": [
    {
     "name": "stdout",
     "output_type": "stream",
     "text": [
      "Index(['PassengerId', 'Survived', 'Pclass', 'Name', 'Sex', 'Age', 'SibSp',\n",
      "       'Parch', 'Ticket', 'Fare', 'Cabin', 'Embarked', ' Master', ' Miss',\n",
      "       ' Mr', ' Mrs'],\n",
      "      dtype='object')\n"
     ]
    }
   ],
   "source": [
    "print(final_data.columns)"
   ]
  },
  {
   "cell_type": "code",
   "execution_count": 29,
   "id": "02dbfdfa",
   "metadata": {
    "execution": {
     "iopub.execute_input": "2022-03-05T18:58:40.526708Z",
     "iopub.status.busy": "2022-03-05T18:58:40.525797Z",
     "iopub.status.idle": "2022-03-05T18:58:40.530349Z",
     "shell.execute_reply": "2022-03-05T18:58:40.530736Z",
     "shell.execute_reply.started": "2022-03-05T18:44:39.501917Z"
    },
    "papermill": {
     "duration": 0.047737,
     "end_time": "2022-03-05T18:58:40.530907",
     "exception": false,
     "start_time": "2022-03-05T18:58:40.483170",
     "status": "completed"
    },
    "tags": []
   },
   "outputs": [
    {
     "name": "stdout",
     "output_type": "stream",
     "text": [
      "['PassengerId', 'Name', 'Ticket', 'Fare', 'Cabin', 'Embarked', ' Mr', ' Mrs', ' Miss', ' Master', ' Don', ' Rev', ' Dr', ' Mme', ' Ms', ' Major', ' Lady', ' Sir', ' Mlle', ' Col', ' Capt', ' the Countess', ' Jonkheer']\n"
     ]
    }
   ],
   "source": [
    "UNWANTED_COL_FINAL = UNWANTED_COL + pref_list.tolist()\n",
    "print(UNWANTED_COL_FINAL)"
   ]
  },
  {
   "cell_type": "code",
   "execution_count": 30,
   "id": "bafd5ee7",
   "metadata": {
    "execution": {
     "iopub.execute_input": "2022-03-05T18:58:40.615427Z",
     "iopub.status.busy": "2022-03-05T18:58:40.614524Z",
     "iopub.status.idle": "2022-03-05T18:58:40.629156Z",
     "shell.execute_reply": "2022-03-05T18:58:40.628649Z",
     "shell.execute_reply.started": "2022-03-05T18:44:39.517889Z"
    },
    "papermill": {
     "duration": 0.057779,
     "end_time": "2022-03-05T18:58:40.629336",
     "exception": false,
     "start_time": "2022-03-05T18:58:40.571557",
     "status": "completed"
    },
    "tags": []
   },
   "outputs": [],
   "source": [
    "for col in UNWANTED_COL_FINAL:\n",
    "    try:\n",
    "        final_data = final_data.drop(columns = col)\n",
    "    except KeyError:\n",
    "        continue"
   ]
  },
  {
   "cell_type": "code",
   "execution_count": 31,
   "id": "d0a51f81",
   "metadata": {
    "execution": {
     "iopub.execute_input": "2022-03-05T18:58:40.714779Z",
     "iopub.status.busy": "2022-03-05T18:58:40.713864Z",
     "iopub.status.idle": "2022-03-05T18:58:40.725149Z",
     "shell.execute_reply": "2022-03-05T18:58:40.725629Z",
     "shell.execute_reply.started": "2022-03-05T18:44:39.544421Z"
    },
    "papermill": {
     "duration": 0.055335,
     "end_time": "2022-03-05T18:58:40.725791",
     "exception": false,
     "start_time": "2022-03-05T18:58:40.670456",
     "status": "completed"
    },
    "tags": []
   },
   "outputs": [
    {
     "data": {
      "text/html": [
       "<div>\n",
       "<style scoped>\n",
       "    .dataframe tbody tr th:only-of-type {\n",
       "        vertical-align: middle;\n",
       "    }\n",
       "\n",
       "    .dataframe tbody tr th {\n",
       "        vertical-align: top;\n",
       "    }\n",
       "\n",
       "    .dataframe thead th {\n",
       "        text-align: right;\n",
       "    }\n",
       "</style>\n",
       "<table border=\"1\" class=\"dataframe\">\n",
       "  <thead>\n",
       "    <tr style=\"text-align: right;\">\n",
       "      <th></th>\n",
       "      <th>Survived</th>\n",
       "      <th>Pclass</th>\n",
       "      <th>Sex</th>\n",
       "      <th>Age</th>\n",
       "      <th>SibSp</th>\n",
       "      <th>Parch</th>\n",
       "    </tr>\n",
       "  </thead>\n",
       "  <tbody>\n",
       "    <tr>\n",
       "      <th>0</th>\n",
       "      <td>0</td>\n",
       "      <td>3</td>\n",
       "      <td>male</td>\n",
       "      <td>22.0</td>\n",
       "      <td>1</td>\n",
       "      <td>0</td>\n",
       "    </tr>\n",
       "    <tr>\n",
       "      <th>1</th>\n",
       "      <td>1</td>\n",
       "      <td>1</td>\n",
       "      <td>female</td>\n",
       "      <td>38.0</td>\n",
       "      <td>1</td>\n",
       "      <td>0</td>\n",
       "    </tr>\n",
       "    <tr>\n",
       "      <th>2</th>\n",
       "      <td>1</td>\n",
       "      <td>3</td>\n",
       "      <td>female</td>\n",
       "      <td>26.0</td>\n",
       "      <td>0</td>\n",
       "      <td>0</td>\n",
       "    </tr>\n",
       "    <tr>\n",
       "      <th>3</th>\n",
       "      <td>1</td>\n",
       "      <td>1</td>\n",
       "      <td>female</td>\n",
       "      <td>35.0</td>\n",
       "      <td>1</td>\n",
       "      <td>0</td>\n",
       "    </tr>\n",
       "    <tr>\n",
       "      <th>4</th>\n",
       "      <td>0</td>\n",
       "      <td>3</td>\n",
       "      <td>male</td>\n",
       "      <td>35.0</td>\n",
       "      <td>0</td>\n",
       "      <td>0</td>\n",
       "    </tr>\n",
       "  </tbody>\n",
       "</table>\n",
       "</div>"
      ],
      "text/plain": [
       "   Survived  Pclass     Sex   Age  SibSp  Parch\n",
       "0         0       3    male  22.0      1      0\n",
       "1         1       1  female  38.0      1      0\n",
       "2         1       3  female  26.0      0      0\n",
       "3         1       1  female  35.0      1      0\n",
       "4         0       3    male  35.0      0      0"
      ]
     },
     "execution_count": 31,
     "metadata": {},
     "output_type": "execute_result"
    }
   ],
   "source": [
    "final_data.head()"
   ]
  },
  {
   "cell_type": "code",
   "execution_count": 32,
   "id": "8cd22572",
   "metadata": {
    "execution": {
     "iopub.execute_input": "2022-03-05T18:58:40.812326Z",
     "iopub.status.busy": "2022-03-05T18:58:40.811695Z",
     "iopub.status.idle": "2022-03-05T18:58:40.816334Z",
     "shell.execute_reply": "2022-03-05T18:58:40.816774Z",
     "shell.execute_reply.started": "2022-03-05T18:44:39.564701Z"
    },
    "papermill": {
     "duration": 0.049144,
     "end_time": "2022-03-05T18:58:40.816933",
     "exception": false,
     "start_time": "2022-03-05T18:58:40.767789",
     "status": "completed"
    },
    "tags": []
   },
   "outputs": [],
   "source": [
    "final_train_data, final_eval_data = train_test_split(final_data, train_size = 0.8)"
   ]
  },
  {
   "cell_type": "code",
   "execution_count": 33,
   "id": "507add73",
   "metadata": {
    "execution": {
     "iopub.execute_input": "2022-03-05T18:58:40.902314Z",
     "iopub.status.busy": "2022-03-05T18:58:40.901663Z",
     "iopub.status.idle": "2022-03-05T18:58:40.908910Z",
     "shell.execute_reply": "2022-03-05T18:58:40.909506Z",
     "shell.execute_reply.started": "2022-03-05T18:44:39.580503Z"
    },
    "papermill": {
     "duration": 0.051731,
     "end_time": "2022-03-05T18:58:40.909676",
     "exception": false,
     "start_time": "2022-03-05T18:58:40.857945",
     "status": "completed"
    },
    "tags": []
   },
   "outputs": [
    {
     "data": {
      "text/plain": [
       "Survived    0\n",
       "Pclass      0\n",
       "Sex         0\n",
       "Age         0\n",
       "SibSp       0\n",
       "Parch       0\n",
       "dtype: int64"
      ]
     },
     "execution_count": 33,
     "metadata": {},
     "output_type": "execute_result"
    }
   ],
   "source": [
    "final_train_data.isnull().sum()"
   ]
  },
  {
   "cell_type": "code",
   "execution_count": 34,
   "id": "d5c34361",
   "metadata": {
    "execution": {
     "iopub.execute_input": "2022-03-05T18:58:40.995649Z",
     "iopub.status.busy": "2022-03-05T18:58:40.995015Z",
     "iopub.status.idle": "2022-03-05T18:58:41.008629Z",
     "shell.execute_reply": "2022-03-05T18:58:41.009094Z",
     "shell.execute_reply.started": "2022-03-05T18:44:39.597628Z"
    },
    "papermill": {
     "duration": 0.058656,
     "end_time": "2022-03-05T18:58:41.009279",
     "exception": false,
     "start_time": "2022-03-05T18:58:40.950623",
     "status": "completed"
    },
    "tags": []
   },
   "outputs": [
    {
     "name": "stderr",
     "output_type": "stream",
     "text": [
      "/opt/conda/lib/python3.7/site-packages/pandas/core/generic.py:6619: SettingWithCopyWarning: \n",
      "A value is trying to be set on a copy of a slice from a DataFrame\n",
      "\n",
      "See the caveats in the documentation: https://pandas.pydata.org/pandas-docs/stable/user_guide/indexing.html#returning-a-view-versus-a-copy\n",
      "  return self._update_inplace(result)\n"
     ]
    }
   ],
   "source": [
    "final_train_data, final_train_label = data_prep(final_train_data, UNWANTED_COL_FINAL)"
   ]
  },
  {
   "cell_type": "code",
   "execution_count": 35,
   "id": "292779b5",
   "metadata": {
    "execution": {
     "iopub.execute_input": "2022-03-05T18:58:41.096445Z",
     "iopub.status.busy": "2022-03-05T18:58:41.095799Z",
     "iopub.status.idle": "2022-03-05T18:58:41.113958Z",
     "shell.execute_reply": "2022-03-05T18:58:41.114545Z",
     "shell.execute_reply.started": "2022-03-05T18:44:39.616136Z"
    },
    "papermill": {
     "duration": 0.063782,
     "end_time": "2022-03-05T18:58:41.114715",
     "exception": false,
     "start_time": "2022-03-05T18:58:41.050933",
     "status": "completed"
    },
    "tags": []
   },
   "outputs": [
    {
     "data": {
      "text/plain": [
       "LogisticRegression(solver='newton-cg')"
      ]
     },
     "execution_count": 35,
     "metadata": {},
     "output_type": "execute_result"
    }
   ],
   "source": [
    "final_model = LogisticRegression(solver = 'newton-cg')\n",
    "final_model.fit(final_train_data, final_train_label)"
   ]
  },
  {
   "cell_type": "code",
   "execution_count": 36,
   "id": "e96c5b43",
   "metadata": {
    "execution": {
     "iopub.execute_input": "2022-03-05T18:58:41.200485Z",
     "iopub.status.busy": "2022-03-05T18:58:41.199931Z",
     "iopub.status.idle": "2022-03-05T18:58:41.207622Z",
     "shell.execute_reply": "2022-03-05T18:58:41.206764Z",
     "shell.execute_reply.started": "2022-03-05T18:44:39.646117Z"
    },
    "papermill": {
     "duration": 0.051789,
     "end_time": "2022-03-05T18:58:41.207806",
     "exception": false,
     "start_time": "2022-03-05T18:58:41.156017",
     "status": "completed"
    },
    "tags": []
   },
   "outputs": [
    {
     "name": "stdout",
     "output_type": "stream",
     "text": [
      "0.8378378378378378\n"
     ]
    }
   ],
   "source": [
    "print(model_acc(final_model, eval_dataset, eval_label))"
   ]
  },
  {
   "cell_type": "code",
   "execution_count": 37,
   "id": "83fa7089",
   "metadata": {
    "execution": {
     "iopub.execute_input": "2022-03-05T18:58:41.296062Z",
     "iopub.status.busy": "2022-03-05T18:58:41.295493Z",
     "iopub.status.idle": "2022-03-05T18:58:41.342029Z",
     "shell.execute_reply": "2022-03-05T18:58:41.342506Z",
     "shell.execute_reply.started": "2022-03-05T18:44:39.663687Z"
    },
    "papermill": {
     "duration": 0.091315,
     "end_time": "2022-03-05T18:58:41.342692",
     "exception": false,
     "start_time": "2022-03-05T18:58:41.251377",
     "status": "completed"
    },
    "tags": []
   },
   "outputs": [
    {
     "name": "stdout",
     "output_type": "stream",
     "text": [
      " Mr        240\n",
      " Miss       78\n",
      " Mrs        72\n",
      " Master     21\n",
      " Col         2\n",
      " Rev         2\n",
      " Ms          1\n",
      " Dr          1\n",
      " Dona        1\n",
      "Name: Prefix, dtype: int64\n",
      "--------------------\n",
      "\n",
      "Unique values of prefixs are: \n",
      "\n",
      "[' Mr' ' Mrs' ' Miss' ' Master' ' Ms' ' Col' ' Rev' ' Dr' ' Dona'] \n",
      "\n",
      "--------------------\n",
      "\n",
      "0      False\n",
      "1      False\n",
      "2      False\n",
      "3      False\n",
      "4      False\n",
      "       ...  \n",
      "413    False\n",
      "414    False\n",
      "415    False\n",
      "416    False\n",
      "417    False\n",
      "Name: convert, Length: 418, dtype: bool\n",
      "   PassengerId  Pclass                                          Name     Sex  \\\n",
      "0          892       3                              Kelly, Mr. James    male   \n",
      "1          893       3              Wilkes, Mrs. James (Ellen Needs)  female   \n",
      "2          894       2                     Myles, Mr. Thomas Francis    male   \n",
      "3          895       3                              Wirz, Mr. Albert    male   \n",
      "4          896       3  Hirvonen, Mrs. Alexander (Helga E Lindqvist)  female   \n",
      "\n",
      "    Age  SibSp  Parch   Ticket     Fare Cabin Embarked   Col   Dona   Dr  \\\n",
      "0  34.5      0      0   330911   7.8292   NaN        Q     0      0    0   \n",
      "1  47.0      1      0   363272   7.0000   NaN        S     0      0    0   \n",
      "2  62.0      0      0   240276   9.6875   NaN        Q     0      0    0   \n",
      "3  27.0      0      0   315154   8.6625   NaN        S     0      0    0   \n",
      "4  22.0      1      1  3101298  12.2875   NaN        S     0      0    0   \n",
      "\n",
      "    Master   Miss     Mr   Mrs   Ms   Rev  \n",
      "0        0      0   True     0    0     0  \n",
      "1        0      0  False     1    0     0  \n",
      "2        0      0   True     0    0     0  \n",
      "3        0      0   True     0    0     0  \n",
      "4        0      0  False     1    0     0  \n",
      "     PassengerId  Pclass                                          Name  \\\n",
      "0            892       3                              Kelly, Mr. James   \n",
      "1            893       3              Wilkes, Mrs. James (Ellen Needs)   \n",
      "2            894       2                     Myles, Mr. Thomas Francis   \n",
      "3            895       3                              Wirz, Mr. Albert   \n",
      "4            896       3  Hirvonen, Mrs. Alexander (Helga E Lindqvist)   \n",
      "..           ...     ...                                           ...   \n",
      "413         1305       3                            Spector, Mr. Woolf   \n",
      "414         1306       1                  Oliva y Ocana, Dona. Fermina   \n",
      "415         1307       3                  Saether, Mr. Simon Sivertsen   \n",
      "416         1308       3                           Ware, Mr. Frederick   \n",
      "417         1309       3                      Peter, Master. Michael J   \n",
      "\n",
      "        Sex        Age  SibSp  Parch              Ticket      Fare Cabin  \\\n",
      "0      male  34.500000      0      0              330911    7.8292   NaN   \n",
      "1    female  47.000000      1      0              363272    7.0000   NaN   \n",
      "2      male  62.000000      0      0              240276    9.6875   NaN   \n",
      "3      male  27.000000      0      0              315154    8.6625   NaN   \n",
      "4    female  22.000000      1      1             3101298   12.2875   NaN   \n",
      "..      ...        ...    ...    ...                 ...       ...   ...   \n",
      "413    male  31.333333      0      0           A.5. 3236    8.0500   NaN   \n",
      "414  female  39.000000      0      0            PC 17758  108.9000  C105   \n",
      "415    male  38.500000      0      0  SOTON/O.Q. 3101262    7.2500   NaN   \n",
      "416    male  31.333333      0      0              359309    8.0500   NaN   \n",
      "417    male   6.000000      1      1                2668   22.3583   NaN   \n",
      "\n",
      "    Embarked   Col   Dona   Dr   Master   Miss     Mr   Mrs   Ms   Rev  \n",
      "0          Q     0      0    0        0      0   True     0    0     0  \n",
      "1          S     0      0    0        0      0  False     1    0     0  \n",
      "2          Q     0      0    0        0      0   True     0    0     0  \n",
      "3          S     0      0    0        0      0   True     0    0     0  \n",
      "4          S     0      0    0        0      0  False     1    0     0  \n",
      "..       ...   ...    ...  ...      ...    ...    ...   ...  ...   ...  \n",
      "413        S     0      0    0        0      0   True     0    0     0  \n",
      "414        C     0      1    0        0      0  False     0    0     0  \n",
      "415        S     0      0    0        0      0   True     0    0     0  \n",
      "416        S     0      0    0        0      0   True     0    0     0  \n",
      "417        C     0      0    0        1      0  False     0    0     0  \n",
      "\n",
      "[418 rows x 20 columns]\n"
     ]
    }
   ],
   "source": [
    "test_raw = pd.read_csv('/kaggle/input/titanic/test.csv')\n",
    "test_raw['Fare'] = test_raw['Fare'].fillna(test_raw['Fare'].mean())\n",
    "test_data, tmp = get_prefix(test_raw, mode = 'predict')\n",
    "print(test_data.head())\n",
    "test_data = age_fill(test_data)\n",
    "print(test_data)"
   ]
  },
  {
   "cell_type": "code",
   "execution_count": 38,
   "id": "83b5b333",
   "metadata": {
    "execution": {
     "iopub.execute_input": "2022-03-05T18:58:41.431515Z",
     "iopub.status.busy": "2022-03-05T18:58:41.430907Z",
     "iopub.status.idle": "2022-03-05T18:58:41.441087Z",
     "shell.execute_reply": "2022-03-05T18:58:41.441497Z",
     "shell.execute_reply.started": "2022-03-05T18:44:39.723839Z"
    },
    "papermill": {
     "duration": 0.055855,
     "end_time": "2022-03-05T18:58:41.441662",
     "exception": false,
     "start_time": "2022-03-05T18:58:41.385807",
     "status": "completed"
    },
    "tags": []
   },
   "outputs": [
    {
     "data": {
      "text/plain": [
       "PassengerId    0\n",
       "Pclass         0\n",
       "Name           0\n",
       "Sex            0\n",
       "Age            0\n",
       "SibSp          0\n",
       "Parch          0\n",
       "Ticket         0\n",
       "Fare           0\n",
       "Embarked       0\n",
       " Col           0\n",
       " Dona          0\n",
       " Dr            0\n",
       " Master        0\n",
       " Miss          0\n",
       " Mr            0\n",
       " Mrs           0\n",
       " Ms            0\n",
       " Rev           0\n",
       "dtype: int64"
      ]
     },
     "execution_count": 38,
     "metadata": {},
     "output_type": "execute_result"
    }
   ],
   "source": [
    "test_data = test_data.drop(columns = 'Cabin')\n",
    "test_data.isnull().sum()"
   ]
  },
  {
   "cell_type": "code",
   "execution_count": 39,
   "id": "61445e87",
   "metadata": {
    "execution": {
     "iopub.execute_input": "2022-03-05T18:58:41.543887Z",
     "iopub.status.busy": "2022-03-05T18:58:41.543052Z",
     "iopub.status.idle": "2022-03-05T18:58:41.546455Z",
     "shell.execute_reply": "2022-03-05T18:58:41.546924Z",
     "shell.execute_reply.started": "2022-03-05T18:44:39.739331Z"
    },
    "papermill": {
     "duration": 0.062111,
     "end_time": "2022-03-05T18:58:41.547087",
     "exception": false,
     "start_time": "2022-03-05T18:58:41.484976",
     "status": "completed"
    },
    "tags": []
   },
   "outputs": [
    {
     "name": "stdout",
     "output_type": "stream",
     "text": [
      "   PassengerId  Pclass                                          Name  Sex  \\\n",
      "0          892       3                              Kelly, Mr. James    1   \n",
      "1          893       3              Wilkes, Mrs. James (Ellen Needs)    0   \n",
      "2          894       2                     Myles, Mr. Thomas Francis    1   \n",
      "3          895       3                              Wirz, Mr. Albert    1   \n",
      "4          896       3  Hirvonen, Mrs. Alexander (Helga E Lindqvist)    0   \n",
      "\n",
      "    Age  SibSp  Parch   Ticket     Fare Embarked   Col   Dona   Dr   Master  \\\n",
      "0  34.5      0      0   330911   7.8292        Q     0      0    0        0   \n",
      "1  47.0      1      0   363272   7.0000        S     0      0    0        0   \n",
      "2  62.0      0      0   240276   9.6875        Q     0      0    0        0   \n",
      "3  27.0      0      0   315154   8.6625        S     0      0    0        0   \n",
      "4  22.0      1      1  3101298  12.2875        S     0      0    0        0   \n",
      "\n",
      "    Miss     Mr   Mrs   Ms   Rev  \n",
      "0      0   True     0    0     0  \n",
      "1      0  False     1    0     0  \n",
      "2      0   True     0    0     0  \n",
      "3      0   True     0    0     0  \n",
      "4      0  False     1    0     0  \n"
     ]
    }
   ],
   "source": [
    "COLUMNS = [col for col in final_train_data.columns]\n",
    "gender_dict = {'female':0, 'male':1}\n",
    "test_data['Sex'] = test_data['Sex'].replace(gender_dict)\n",
    "print(test_data.head())\n",
    "Test_prediction = final_model.predict(test_data[COLUMNS])"
   ]
  },
  {
   "cell_type": "code",
   "execution_count": 40,
   "id": "f0592f12",
   "metadata": {
    "execution": {
     "iopub.execute_input": "2022-03-05T18:58:41.639177Z",
     "iopub.status.busy": "2022-03-05T18:58:41.638447Z",
     "iopub.status.idle": "2022-03-05T18:58:41.642016Z",
     "shell.execute_reply": "2022-03-05T18:58:41.641469Z",
     "shell.execute_reply.started": "2022-03-05T18:44:39.764828Z"
    },
    "papermill": {
     "duration": 0.051442,
     "end_time": "2022-03-05T18:58:41.642147",
     "exception": false,
     "start_time": "2022-03-05T18:58:41.590705",
     "status": "completed"
    },
    "tags": []
   },
   "outputs": [
    {
     "name": "stdout",
     "output_type": "stream",
     "text": [
      "418\n"
     ]
    }
   ],
   "source": [
    "print(len(Test_prediction))"
   ]
  },
  {
   "cell_type": "code",
   "execution_count": 41,
   "id": "27950a70",
   "metadata": {
    "execution": {
     "iopub.execute_input": "2022-03-05T18:58:41.739265Z",
     "iopub.status.busy": "2022-03-05T18:58:41.738656Z",
     "iopub.status.idle": "2022-03-05T18:58:41.741262Z",
     "shell.execute_reply": "2022-03-05T18:58:41.741726Z",
     "shell.execute_reply.started": "2022-03-05T18:48:45.165264Z"
    },
    "papermill": {
     "duration": 0.05463,
     "end_time": "2022-03-05T18:58:41.741882",
     "exception": false,
     "start_time": "2022-03-05T18:58:41.687252",
     "status": "completed"
    },
    "tags": []
   },
   "outputs": [
    {
     "name": "stdout",
     "output_type": "stream",
     "text": [
      "             Survived\n",
      "PassengerId          \n",
      "892                 0\n",
      "893                 0\n",
      "894                 0\n",
      "895                 0\n",
      "896                 1\n",
      "...               ...\n",
      "1305                0\n",
      "1306                1\n",
      "1307                0\n",
      "1308                0\n",
      "1309                0\n",
      "\n",
      "[418 rows x 1 columns]\n"
     ]
    }
   ],
   "source": [
    "prediction = pd.DataFrame(Test_prediction, columns = ['Survived'])\n",
    "submission = prediction.set_index(test_raw['PassengerId'])\n",
    "print(submission)\n",
    "#submission = pd.concat([test_raw['PassengerId'], prediction], axis = 1).reset_index()\n",
    "#print(submission)"
   ]
  },
  {
   "cell_type": "code",
   "execution_count": 42,
   "id": "7793d1cc",
   "metadata": {
    "execution": {
     "iopub.execute_input": "2022-03-05T18:58:41.833098Z",
     "iopub.status.busy": "2022-03-05T18:58:41.832495Z",
     "iopub.status.idle": "2022-03-05T18:58:41.838338Z",
     "shell.execute_reply": "2022-03-05T18:58:41.838804Z",
     "shell.execute_reply.started": "2022-03-05T18:44:39.802929Z"
    },
    "papermill": {
     "duration": 0.052998,
     "end_time": "2022-03-05T18:58:41.838967",
     "exception": false,
     "start_time": "2022-03-05T18:58:41.785969",
     "status": "completed"
    },
    "tags": []
   },
   "outputs": [],
   "source": [
    "submission.to_csv('submission.csv')"
   ]
  },
  {
   "cell_type": "code",
   "execution_count": null,
   "id": "47f8702f",
   "metadata": {
    "papermill": {
     "duration": 0.043839,
     "end_time": "2022-03-05T18:58:41.926629",
     "exception": false,
     "start_time": "2022-03-05T18:58:41.882790",
     "status": "completed"
    },
    "tags": []
   },
   "outputs": [],
   "source": []
  }
 ],
 "metadata": {
  "kernelspec": {
   "display_name": "Python 3",
   "language": "python",
   "name": "python3"
  },
  "language_info": {
   "codemirror_mode": {
    "name": "ipython",
    "version": 3
   },
   "file_extension": ".py",
   "mimetype": "text/x-python",
   "name": "python",
   "nbconvert_exporter": "python",
   "pygments_lexer": "ipython3",
   "version": "3.7.12"
  },
  "papermill": {
   "default_parameters": {},
   "duration": 15.917385,
   "end_time": "2022-03-05T18:58:42.682785",
   "environment_variables": {},
   "exception": null,
   "input_path": "__notebook__.ipynb",
   "output_path": "__notebook__.ipynb",
   "parameters": {},
   "start_time": "2022-03-05T18:58:26.765400",
   "version": "2.3.3"
  }
 },
 "nbformat": 4,
 "nbformat_minor": 5
}
