{
 "cells": [
  {
   "cell_type": "code",
   "execution_count": 1,
   "id": "a3f2c5d8-5c12-47d1-8f36-551ae2cee23b",
   "metadata": {},
   "outputs": [],
   "source": [
    "import os\n",
    "import random\n",
    "import numpy as np\n",
    "import pandas as pd\n",
    "import path\n",
    "import seaborn as sns\n",
    "import sklearn \n",
    "from sklearn.model_selection import train_test_split"
   ]
  },
  {
   "cell_type": "code",
   "execution_count": 2,
   "id": "66174bb4-a6e3-4401-8b3a-1fb09db88c42",
   "metadata": {},
   "outputs": [
    {
     "name": "stdout",
     "output_type": "stream",
     "text": [
      "company_information.csv  ga_signup_information.csv  tmp.csv\n",
      "df_tmp.csv\t\t group.csv\t\t    Untitled.ipynb\n",
      "/home/shiya/Documents/FreeAgent\n"
     ]
    }
   ],
   "source": [
    "! ls\n",
    "print(os.getcwd())"
   ]
  },
  {
   "cell_type": "code",
   "execution_count": 3,
   "id": "3c476d8f-91fa-4ada-8d2b-1a280b8db027",
   "metadata": {},
   "outputs": [
    {
     "data": {
      "text/html": [
       "<div>\n",
       "<style scoped>\n",
       "    .dataframe tbody tr th:only-of-type {\n",
       "        vertical-align: middle;\n",
       "    }\n",
       "\n",
       "    .dataframe tbody tr th {\n",
       "        vertical-align: top;\n",
       "    }\n",
       "\n",
       "    .dataframe thead th {\n",
       "        text-align: right;\n",
       "    }\n",
       "</style>\n",
       "<table border=\"1\" class=\"dataframe\">\n",
       "  <thead>\n",
       "    <tr style=\"text-align: right;\">\n",
       "      <th></th>\n",
       "      <th>app_user</th>\n",
       "      <th>ever_contacted_support</th>\n",
       "      <th>subscription_status</th>\n",
       "      <th>left_trustpilot_review</th>\n",
       "      <th>minutes_activity_last_7_days_mobile</th>\n",
       "      <th>minutes_activity_last_7_days_desktop</th>\n",
       "      <th>minutes_activity_last_7_days_all_devices</th>\n",
       "    </tr>\n",
       "    <tr>\n",
       "      <th>company_id</th>\n",
       "      <th></th>\n",
       "      <th></th>\n",
       "      <th></th>\n",
       "      <th></th>\n",
       "      <th></th>\n",
       "      <th></th>\n",
       "      <th></th>\n",
       "    </tr>\n",
       "  </thead>\n",
       "  <tbody>\n",
       "    <tr>\n",
       "      <th>17729840</th>\n",
       "      <td>True</td>\n",
       "      <td>False</td>\n",
       "      <td>Cancelled</td>\n",
       "      <td>True</td>\n",
       "      <td>0</td>\n",
       "      <td>0</td>\n",
       "      <td>0</td>\n",
       "    </tr>\n",
       "    <tr>\n",
       "      <th>17711836</th>\n",
       "      <td>True</td>\n",
       "      <td>True</td>\n",
       "      <td>Subscribed</td>\n",
       "      <td>False</td>\n",
       "      <td>0</td>\n",
       "      <td>0</td>\n",
       "      <td>0</td>\n",
       "    </tr>\n",
       "    <tr>\n",
       "      <th>17712950</th>\n",
       "      <td>True</td>\n",
       "      <td>True</td>\n",
       "      <td>Subscribed</td>\n",
       "      <td>False</td>\n",
       "      <td>35</td>\n",
       "      <td>0</td>\n",
       "      <td>35</td>\n",
       "    </tr>\n",
       "    <tr>\n",
       "      <th>17723760</th>\n",
       "      <td>False</td>\n",
       "      <td>True</td>\n",
       "      <td>Subscribed</td>\n",
       "      <td>False</td>\n",
       "      <td>0</td>\n",
       "      <td>0</td>\n",
       "      <td>0</td>\n",
       "    </tr>\n",
       "    <tr>\n",
       "      <th>17713380</th>\n",
       "      <td>False</td>\n",
       "      <td>True</td>\n",
       "      <td>Subscribed</td>\n",
       "      <td>False</td>\n",
       "      <td>2</td>\n",
       "      <td>0</td>\n",
       "      <td>13</td>\n",
       "    </tr>\n",
       "  </tbody>\n",
       "</table>\n",
       "</div>"
      ],
      "text/plain": [
       "            app_user  ever_contacted_support subscription_status  \\\n",
       "company_id                                                         \n",
       "17729840        True                   False           Cancelled   \n",
       "17711836        True                    True          Subscribed   \n",
       "17712950        True                    True          Subscribed   \n",
       "17723760       False                    True          Subscribed   \n",
       "17713380       False                    True          Subscribed   \n",
       "\n",
       "            left_trustpilot_review  minutes_activity_last_7_days_mobile  \\\n",
       "company_id                                                                \n",
       "17729840                      True                                    0   \n",
       "17711836                     False                                    0   \n",
       "17712950                     False                                   35   \n",
       "17723760                     False                                    0   \n",
       "17713380                     False                                    2   \n",
       "\n",
       "            minutes_activity_last_7_days_desktop  \\\n",
       "company_id                                         \n",
       "17729840                                       0   \n",
       "17711836                                       0   \n",
       "17712950                                       0   \n",
       "17723760                                       0   \n",
       "17713380                                       0   \n",
       "\n",
       "            minutes_activity_last_7_days_all_devices  \n",
       "company_id                                            \n",
       "17729840                                           0  \n",
       "17711836                                           0  \n",
       "17712950                                          35  \n",
       "17723760                                           0  \n",
       "17713380                                          13  "
      ]
     },
     "metadata": {},
     "output_type": "display_data"
    },
    {
     "name": "stdout",
     "output_type": "stream",
     "text": [
      "<class 'pandas.core.frame.DataFrame'>\n",
      "Int64Index: 6299 entries, 17729840 to 17729856\n",
      "Data columns (total 7 columns):\n",
      " #   Column                                    Non-Null Count  Dtype \n",
      "---  ------                                    --------------  ----- \n",
      " 0   app_user                                  6299 non-null   bool  \n",
      " 1   ever_contacted_support                    6299 non-null   bool  \n",
      " 2   subscription_status                       5960 non-null   object\n",
      " 3   left_trustpilot_review                    6299 non-null   bool  \n",
      " 4   minutes_activity_last_7_days_mobile       6299 non-null   int64 \n",
      " 5   minutes_activity_last_7_days_desktop      6299 non-null   int64 \n",
      " 6   minutes_activity_last_7_days_all_devices  6299 non-null   int64 \n",
      "dtypes: bool(3), int64(3), object(1)\n",
      "memory usage: 264.5+ KB\n"
     ]
    }
   ],
   "source": [
    "raw_info = pd.read_csv('company_information.csv', index_col = 'company_id')\n",
    "display(raw_info.head())\n",
    "raw_info.info()"
   ]
  },
  {
   "cell_type": "code",
   "execution_count": 4,
   "id": "116540f9-2da7-451c-884e-b158a9241954",
   "metadata": {},
   "outputs": [
    {
     "data": {
      "text/html": [
       "<div>\n",
       "<style scoped>\n",
       "    .dataframe tbody tr th:only-of-type {\n",
       "        vertical-align: middle;\n",
       "    }\n",
       "\n",
       "    .dataframe tbody tr th {\n",
       "        vertical-align: top;\n",
       "    }\n",
       "\n",
       "    .dataframe thead th {\n",
       "        text-align: right;\n",
       "    }\n",
       "</style>\n",
       "<table border=\"1\" class=\"dataframe\">\n",
       "  <thead>\n",
       "    <tr style=\"text-align: right;\">\n",
       "      <th></th>\n",
       "      <th>free_trial_signup_date</th>\n",
       "      <th>google_analytics_medium</th>\n",
       "    </tr>\n",
       "    <tr>\n",
       "      <th>company_id</th>\n",
       "      <th></th>\n",
       "      <th></th>\n",
       "    </tr>\n",
       "  </thead>\n",
       "  <tbody>\n",
       "    <tr>\n",
       "      <th>17711836</th>\n",
       "      <td>2020-11-02</td>\n",
       "      <td>cpc</td>\n",
       "    </tr>\n",
       "    <tr>\n",
       "      <th>17712950</th>\n",
       "      <td>2020-11-08</td>\n",
       "      <td>cpc</td>\n",
       "    </tr>\n",
       "    <tr>\n",
       "      <th>17723760</th>\n",
       "      <td>2020-12-12</td>\n",
       "      <td>(none)</td>\n",
       "    </tr>\n",
       "    <tr>\n",
       "      <th>17713380</th>\n",
       "      <td>2020-11-09</td>\n",
       "      <td>cpc</td>\n",
       "    </tr>\n",
       "    <tr>\n",
       "      <th>17724228</th>\n",
       "      <td>2020-12-13</td>\n",
       "      <td>email</td>\n",
       "    </tr>\n",
       "  </tbody>\n",
       "</table>\n",
       "</div>"
      ],
      "text/plain": [
       "           free_trial_signup_date google_analytics_medium\n",
       "company_id                                               \n",
       "17711836               2020-11-02                     cpc\n",
       "17712950               2020-11-08                     cpc\n",
       "17723760               2020-12-12                  (none)\n",
       "17713380               2020-11-09                     cpc\n",
       "17724228               2020-12-13                   email"
      ]
     },
     "metadata": {},
     "output_type": "display_data"
    },
    {
     "name": "stdout",
     "output_type": "stream",
     "text": [
      "<class 'pandas.core.frame.DataFrame'>\n",
      "Int64Index: 6087 entries, 17711836 to 17734730\n",
      "Data columns (total 2 columns):\n",
      " #   Column                   Non-Null Count  Dtype \n",
      "---  ------                   --------------  ----- \n",
      " 0   free_trial_signup_date   6087 non-null   object\n",
      " 1   google_analytics_medium  6087 non-null   object\n",
      "dtypes: object(2)\n",
      "memory usage: 142.7+ KB\n"
     ]
    }
   ],
   "source": [
    "raw_signup = pd.read_csv('ga_signup_information.csv', index_col = 'company_id')\n",
    "display(raw_signup.head())\n",
    "raw_signup.info()"
   ]
  },
  {
   "cell_type": "code",
   "execution_count": 5,
   "id": "6bd590b0-9f76-4430-9844-c647609d6dac",
   "metadata": {},
   "outputs": [
    {
     "data": {
      "text/plain": [
       "<module 'path' from '/home/shiya/anaconda3/lib/python3.9/site-packages/path/__init__.py'>"
      ]
     },
     "execution_count": 5,
     "metadata": {},
     "output_type": "execute_result"
    }
   ],
   "source": [
    "path"
   ]
  },
  {
   "cell_type": "code",
   "execution_count": 6,
   "id": "40764d07-e1ec-44fa-ae12-1b57f608f36c",
   "metadata": {},
   "outputs": [
    {
     "data": {
      "text/html": [
       "<div>\n",
       "<style scoped>\n",
       "    .dataframe tbody tr th:only-of-type {\n",
       "        vertical-align: middle;\n",
       "    }\n",
       "\n",
       "    .dataframe tbody tr th {\n",
       "        vertical-align: top;\n",
       "    }\n",
       "\n",
       "    .dataframe thead th {\n",
       "        text-align: right;\n",
       "    }\n",
       "</style>\n",
       "<table border=\"1\" class=\"dataframe\">\n",
       "  <thead>\n",
       "    <tr style=\"text-align: right;\">\n",
       "      <th></th>\n",
       "      <th>app_user</th>\n",
       "      <th>ever_contacted_support</th>\n",
       "      <th>subscription_status</th>\n",
       "      <th>left_trustpilot_review</th>\n",
       "      <th>minutes_activity_last_7_days_mobile</th>\n",
       "      <th>minutes_activity_last_7_days_desktop</th>\n",
       "      <th>minutes_activity_last_7_days_all_devices</th>\n",
       "      <th>free_trial_signup_date</th>\n",
       "      <th>google_analytics_medium</th>\n",
       "    </tr>\n",
       "    <tr>\n",
       "      <th>company_id</th>\n",
       "      <th></th>\n",
       "      <th></th>\n",
       "      <th></th>\n",
       "      <th></th>\n",
       "      <th></th>\n",
       "      <th></th>\n",
       "      <th></th>\n",
       "      <th></th>\n",
       "      <th></th>\n",
       "    </tr>\n",
       "  </thead>\n",
       "  <tbody>\n",
       "    <tr>\n",
       "      <th>17618213</th>\n",
       "      <td>False</td>\n",
       "      <td>True</td>\n",
       "      <td>Subscribed</td>\n",
       "      <td>False</td>\n",
       "      <td>62</td>\n",
       "      <td>0</td>\n",
       "      <td>155</td>\n",
       "      <td>2019-09-26</td>\n",
       "      <td>organic</td>\n",
       "    </tr>\n",
       "    <tr>\n",
       "      <th>17618220</th>\n",
       "      <td>False</td>\n",
       "      <td>True</td>\n",
       "      <td>Subscribed</td>\n",
       "      <td>False</td>\n",
       "      <td>0</td>\n",
       "      <td>0</td>\n",
       "      <td>0</td>\n",
       "      <td>2019-09-26</td>\n",
       "      <td>organic</td>\n",
       "    </tr>\n",
       "    <tr>\n",
       "      <th>17618245</th>\n",
       "      <td>False</td>\n",
       "      <td>True</td>\n",
       "      <td>Subscribed</td>\n",
       "      <td>False</td>\n",
       "      <td>0</td>\n",
       "      <td>0</td>\n",
       "      <td>0</td>\n",
       "      <td>2019-09-26</td>\n",
       "      <td>organic</td>\n",
       "    </tr>\n",
       "    <tr>\n",
       "      <th>17618260</th>\n",
       "      <td>True</td>\n",
       "      <td>True</td>\n",
       "      <td>Subscribed</td>\n",
       "      <td>False</td>\n",
       "      <td>0</td>\n",
       "      <td>0</td>\n",
       "      <td>0</td>\n",
       "      <td>2019-09-26</td>\n",
       "      <td>organic</td>\n",
       "    </tr>\n",
       "    <tr>\n",
       "      <th>17618265</th>\n",
       "      <td>True</td>\n",
       "      <td>True</td>\n",
       "      <td>Subscribed</td>\n",
       "      <td>False</td>\n",
       "      <td>0</td>\n",
       "      <td>0</td>\n",
       "      <td>0</td>\n",
       "      <td>2019-09-26</td>\n",
       "      <td>organic</td>\n",
       "    </tr>\n",
       "  </tbody>\n",
       "</table>\n",
       "</div>"
      ],
      "text/plain": [
       "            app_user  ever_contacted_support subscription_status  \\\n",
       "company_id                                                         \n",
       "17618213       False                    True          Subscribed   \n",
       "17618220       False                    True          Subscribed   \n",
       "17618245       False                    True          Subscribed   \n",
       "17618260        True                    True          Subscribed   \n",
       "17618265        True                    True          Subscribed   \n",
       "\n",
       "            left_trustpilot_review  minutes_activity_last_7_days_mobile  \\\n",
       "company_id                                                                \n",
       "17618213                     False                                   62   \n",
       "17618220                     False                                    0   \n",
       "17618245                     False                                    0   \n",
       "17618260                     False                                    0   \n",
       "17618265                     False                                    0   \n",
       "\n",
       "            minutes_activity_last_7_days_desktop  \\\n",
       "company_id                                         \n",
       "17618213                                       0   \n",
       "17618220                                       0   \n",
       "17618245                                       0   \n",
       "17618260                                       0   \n",
       "17618265                                       0   \n",
       "\n",
       "            minutes_activity_last_7_days_all_devices free_trial_signup_date  \\\n",
       "company_id                                                                    \n",
       "17618213                                         155             2019-09-26   \n",
       "17618220                                           0             2019-09-26   \n",
       "17618245                                           0             2019-09-26   \n",
       "17618260                                           0             2019-09-26   \n",
       "17618265                                           0             2019-09-26   \n",
       "\n",
       "           google_analytics_medium  \n",
       "company_id                          \n",
       "17618213                   organic  \n",
       "17618220                   organic  \n",
       "17618245                   organic  \n",
       "17618260                   organic  \n",
       "17618265                   organic  "
      ]
     },
     "execution_count": 6,
     "metadata": {},
     "output_type": "execute_result"
    }
   ],
   "source": [
    "raw = pd.concat([raw_info, raw_signup], axis = 1)\n",
    "if not os.path.exists('tmp.csv'):\n",
    "    raw.to_csv('tmp.csv')\n",
    "raw.head()"
   ]
  },
  {
   "cell_type": "code",
   "execution_count": 7,
   "id": "5370d2a1-2d41-4356-ae8f-f99a38878f75",
   "metadata": {},
   "outputs": [
    {
     "name": "stdout",
     "output_type": "stream",
     "text": [
      "<class 'pandas.core.frame.DataFrame'>\n",
      "Int64Index: 6299 entries, 17618213 to 17737658\n",
      "Data columns (total 9 columns):\n",
      " #   Column                                    Non-Null Count  Dtype \n",
      "---  ------                                    --------------  ----- \n",
      " 0   app_user                                  6299 non-null   bool  \n",
      " 1   ever_contacted_support                    6299 non-null   bool  \n",
      " 2   subscription_status                       5960 non-null   object\n",
      " 3   left_trustpilot_review                    6299 non-null   bool  \n",
      " 4   minutes_activity_last_7_days_mobile       6299 non-null   int64 \n",
      " 5   minutes_activity_last_7_days_desktop      6299 non-null   int64 \n",
      " 6   minutes_activity_last_7_days_all_devices  6299 non-null   int64 \n",
      " 7   free_trial_signup_date                    6087 non-null   object\n",
      " 8   google_analytics_medium                   6087 non-null   object\n",
      "dtypes: bool(3), int64(3), object(3)\n",
      "memory usage: 362.9+ KB\n"
     ]
    },
    {
     "data": {
      "text/plain": [
       "None"
      ]
     },
     "metadata": {},
     "output_type": "display_data"
    },
    {
     "data": {
      "text/plain": [
       "app_user                                      0\n",
       "ever_contacted_support                        0\n",
       "subscription_status                         339\n",
       "left_trustpilot_review                        0\n",
       "minutes_activity_last_7_days_mobile           0\n",
       "minutes_activity_last_7_days_desktop          0\n",
       "minutes_activity_last_7_days_all_devices      0\n",
       "free_trial_signup_date                      212\n",
       "google_analytics_medium                     212\n",
       "dtype: int64"
      ]
     },
     "execution_count": 7,
     "metadata": {},
     "output_type": "execute_result"
    }
   ],
   "source": [
    "display(raw.info())\n",
    "raw.isnull().sum()"
   ]
  },
  {
   "cell_type": "code",
   "execution_count": 8,
   "id": "2b5615e3-d75d-408d-8202-21cfea25e631",
   "metadata": {},
   "outputs": [
    {
     "data": {
      "text/plain": [
       "dtype('O')"
      ]
     },
     "execution_count": 8,
     "metadata": {},
     "output_type": "execute_result"
    }
   ],
   "source": [
    "raw.free_trial_signup_date.dtype"
   ]
  },
  {
   "cell_type": "code",
   "execution_count": 9,
   "id": "7c6aa610-2966-4073-aeab-f845ee983b6d",
   "metadata": {},
   "outputs": [],
   "source": [
    "raw['free_trial_signup_date'] = pd.to_datetime(raw['free_trial_signup_date'], format =\n",
    "                                               '%Y-%m-%d')"
   ]
  },
  {
   "cell_type": "code",
   "execution_count": 10,
   "id": "df0e6d09-feae-4dd5-9d03-8fe7c1050c3d",
   "metadata": {},
   "outputs": [
    {
     "data": {
      "text/plain": [
       "dtype('<M8[ns]')"
      ]
     },
     "execution_count": 10,
     "metadata": {},
     "output_type": "execute_result"
    }
   ],
   "source": [
    "raw.free_trial_signup_date.dtype"
   ]
  },
  {
   "cell_type": "code",
   "execution_count": 11,
   "id": "a51af4f8-167c-47ef-98e0-836a183d8b52",
   "metadata": {},
   "outputs": [],
   "source": [
    "raw['day'] = raw['free_trial_signup_date'].dt.day_name()"
   ]
  },
  {
   "cell_type": "code",
   "execution_count": 12,
   "id": "1b21df48-5732-4a3a-8b3c-700cb07332e0",
   "metadata": {},
   "outputs": [
    {
     "data": {
      "text/html": [
       "<div>\n",
       "<style scoped>\n",
       "    .dataframe tbody tr th:only-of-type {\n",
       "        vertical-align: middle;\n",
       "    }\n",
       "\n",
       "    .dataframe tbody tr th {\n",
       "        vertical-align: top;\n",
       "    }\n",
       "\n",
       "    .dataframe thead th {\n",
       "        text-align: right;\n",
       "    }\n",
       "</style>\n",
       "<table border=\"1\" class=\"dataframe\">\n",
       "  <thead>\n",
       "    <tr style=\"text-align: right;\">\n",
       "      <th></th>\n",
       "      <th>app_user</th>\n",
       "      <th>ever_contacted_support</th>\n",
       "      <th>subscription_status</th>\n",
       "      <th>left_trustpilot_review</th>\n",
       "      <th>minutes_activity_last_7_days_mobile</th>\n",
       "      <th>minutes_activity_last_7_days_desktop</th>\n",
       "      <th>minutes_activity_last_7_days_all_devices</th>\n",
       "      <th>free_trial_signup_date</th>\n",
       "      <th>google_analytics_medium</th>\n",
       "      <th>day</th>\n",
       "    </tr>\n",
       "    <tr>\n",
       "      <th>company_id</th>\n",
       "      <th></th>\n",
       "      <th></th>\n",
       "      <th></th>\n",
       "      <th></th>\n",
       "      <th></th>\n",
       "      <th></th>\n",
       "      <th></th>\n",
       "      <th></th>\n",
       "      <th></th>\n",
       "      <th></th>\n",
       "    </tr>\n",
       "  </thead>\n",
       "  <tbody>\n",
       "    <tr>\n",
       "      <th>17618213</th>\n",
       "      <td>False</td>\n",
       "      <td>True</td>\n",
       "      <td>Subscribed</td>\n",
       "      <td>False</td>\n",
       "      <td>62</td>\n",
       "      <td>0</td>\n",
       "      <td>155</td>\n",
       "      <td>2019-09-26</td>\n",
       "      <td>organic</td>\n",
       "      <td>Thursday</td>\n",
       "    </tr>\n",
       "    <tr>\n",
       "      <th>17618220</th>\n",
       "      <td>False</td>\n",
       "      <td>True</td>\n",
       "      <td>Subscribed</td>\n",
       "      <td>False</td>\n",
       "      <td>0</td>\n",
       "      <td>0</td>\n",
       "      <td>0</td>\n",
       "      <td>2019-09-26</td>\n",
       "      <td>organic</td>\n",
       "      <td>Thursday</td>\n",
       "    </tr>\n",
       "    <tr>\n",
       "      <th>17618245</th>\n",
       "      <td>False</td>\n",
       "      <td>True</td>\n",
       "      <td>Subscribed</td>\n",
       "      <td>False</td>\n",
       "      <td>0</td>\n",
       "      <td>0</td>\n",
       "      <td>0</td>\n",
       "      <td>2019-09-26</td>\n",
       "      <td>organic</td>\n",
       "      <td>Thursday</td>\n",
       "    </tr>\n",
       "    <tr>\n",
       "      <th>17618260</th>\n",
       "      <td>True</td>\n",
       "      <td>True</td>\n",
       "      <td>Subscribed</td>\n",
       "      <td>False</td>\n",
       "      <td>0</td>\n",
       "      <td>0</td>\n",
       "      <td>0</td>\n",
       "      <td>2019-09-26</td>\n",
       "      <td>organic</td>\n",
       "      <td>Thursday</td>\n",
       "    </tr>\n",
       "    <tr>\n",
       "      <th>17618265</th>\n",
       "      <td>True</td>\n",
       "      <td>True</td>\n",
       "      <td>Subscribed</td>\n",
       "      <td>False</td>\n",
       "      <td>0</td>\n",
       "      <td>0</td>\n",
       "      <td>0</td>\n",
       "      <td>2019-09-26</td>\n",
       "      <td>organic</td>\n",
       "      <td>Thursday</td>\n",
       "    </tr>\n",
       "  </tbody>\n",
       "</table>\n",
       "</div>"
      ],
      "text/plain": [
       "            app_user  ever_contacted_support subscription_status  \\\n",
       "company_id                                                         \n",
       "17618213       False                    True          Subscribed   \n",
       "17618220       False                    True          Subscribed   \n",
       "17618245       False                    True          Subscribed   \n",
       "17618260        True                    True          Subscribed   \n",
       "17618265        True                    True          Subscribed   \n",
       "\n",
       "            left_trustpilot_review  minutes_activity_last_7_days_mobile  \\\n",
       "company_id                                                                \n",
       "17618213                     False                                   62   \n",
       "17618220                     False                                    0   \n",
       "17618245                     False                                    0   \n",
       "17618260                     False                                    0   \n",
       "17618265                     False                                    0   \n",
       "\n",
       "            minutes_activity_last_7_days_desktop  \\\n",
       "company_id                                         \n",
       "17618213                                       0   \n",
       "17618220                                       0   \n",
       "17618245                                       0   \n",
       "17618260                                       0   \n",
       "17618265                                       0   \n",
       "\n",
       "            minutes_activity_last_7_days_all_devices free_trial_signup_date  \\\n",
       "company_id                                                                    \n",
       "17618213                                         155             2019-09-26   \n",
       "17618220                                           0             2019-09-26   \n",
       "17618245                                           0             2019-09-26   \n",
       "17618260                                           0             2019-09-26   \n",
       "17618265                                           0             2019-09-26   \n",
       "\n",
       "           google_analytics_medium       day  \n",
       "company_id                                    \n",
       "17618213                   organic  Thursday  \n",
       "17618220                   organic  Thursday  \n",
       "17618245                   organic  Thursday  \n",
       "17618260                   organic  Thursday  \n",
       "17618265                   organic  Thursday  "
      ]
     },
     "execution_count": 12,
     "metadata": {},
     "output_type": "execute_result"
    }
   ],
   "source": [
    "raw.head()"
   ]
  },
  {
   "cell_type": "code",
   "execution_count": 13,
   "id": "84929287-11af-40c9-b991-0cff65116ac1",
   "metadata": {},
   "outputs": [
    {
     "data": {
      "text/plain": [
       "Friday       1028\n",
       "Monday       1006\n",
       "Sunday        928\n",
       "Saturday      922\n",
       "Tuesday       904\n",
       "Wednesday     670\n",
       "Thursday      629\n",
       "Name: day, dtype: int64"
      ]
     },
     "execution_count": 13,
     "metadata": {},
     "output_type": "execute_result"
    }
   ],
   "source": [
    "df_daycount = raw['day'].value_counts()\n",
    "df_daycount"
   ]
  },
  {
   "cell_type": "code",
   "execution_count": 14,
   "id": "38f42852-e82d-46dd-a3b8-d5306b074d0a",
   "metadata": {},
   "outputs": [
    {
     "data": {
      "text/plain": [
       "30.392640052571053"
      ]
     },
     "execution_count": 14,
     "metadata": {},
     "output_type": "execute_result"
    }
   ],
   "source": [
    "addlist = ['Saturday', 'Sunday']\n",
    "weekend_percentage = sum([df_daycount[i] for i in addlist])/sum(df_daycount) * 100\n",
    "weekend_percentage"
   ]
  },
  {
   "cell_type": "code",
   "execution_count": 15,
   "id": "e22eb77c-770c-48f8-9cf5-3359929236d8",
   "metadata": {},
   "outputs": [
    {
     "data": {
      "text/html": [
       "<div>\n",
       "<style scoped>\n",
       "    .dataframe tbody tr th:only-of-type {\n",
       "        vertical-align: middle;\n",
       "    }\n",
       "\n",
       "    .dataframe tbody tr th {\n",
       "        vertical-align: top;\n",
       "    }\n",
       "\n",
       "    .dataframe thead th {\n",
       "        text-align: right;\n",
       "    }\n",
       "</style>\n",
       "<table border=\"1\" class=\"dataframe\">\n",
       "  <thead>\n",
       "    <tr style=\"text-align: right;\">\n",
       "      <th></th>\n",
       "      <th>app_user</th>\n",
       "      <th>ever_contacted_support</th>\n",
       "      <th>subscription_status</th>\n",
       "      <th>left_trustpilot_review</th>\n",
       "      <th>minutes_activity_last_7_days_mobile</th>\n",
       "      <th>minutes_activity_last_7_days_desktop</th>\n",
       "      <th>minutes_activity_last_7_days_all_devices</th>\n",
       "      <th>free_trial_signup_date</th>\n",
       "      <th>google_analytics_medium</th>\n",
       "      <th>day</th>\n",
       "    </tr>\n",
       "    <tr>\n",
       "      <th>company_id</th>\n",
       "      <th></th>\n",
       "      <th></th>\n",
       "      <th></th>\n",
       "      <th></th>\n",
       "      <th></th>\n",
       "      <th></th>\n",
       "      <th></th>\n",
       "      <th></th>\n",
       "      <th></th>\n",
       "      <th></th>\n",
       "    </tr>\n",
       "  </thead>\n",
       "  <tbody>\n",
       "    <tr>\n",
       "      <th>17709779</th>\n",
       "      <td>False</td>\n",
       "      <td>True</td>\n",
       "      <td>Subscribed</td>\n",
       "      <td>False</td>\n",
       "      <td>0</td>\n",
       "      <td>0</td>\n",
       "      <td>0</td>\n",
       "      <td>2020-10-26</td>\n",
       "      <td>email</td>\n",
       "      <td>Monday</td>\n",
       "    </tr>\n",
       "    <tr>\n",
       "      <th>17709788</th>\n",
       "      <td>False</td>\n",
       "      <td>True</td>\n",
       "      <td>Subscribed</td>\n",
       "      <td>False</td>\n",
       "      <td>0</td>\n",
       "      <td>0</td>\n",
       "      <td>0</td>\n",
       "      <td>2020-10-26</td>\n",
       "      <td>email</td>\n",
       "      <td>Monday</td>\n",
       "    </tr>\n",
       "    <tr>\n",
       "      <th>17709881</th>\n",
       "      <td>False</td>\n",
       "      <td>True</td>\n",
       "      <td>Subscribed</td>\n",
       "      <td>False</td>\n",
       "      <td>0</td>\n",
       "      <td>0</td>\n",
       "      <td>1</td>\n",
       "      <td>2020-10-26</td>\n",
       "      <td>email</td>\n",
       "      <td>Monday</td>\n",
       "    </tr>\n",
       "    <tr>\n",
       "      <th>17710080</th>\n",
       "      <td>True</td>\n",
       "      <td>True</td>\n",
       "      <td>Subscribed</td>\n",
       "      <td>True</td>\n",
       "      <td>0</td>\n",
       "      <td>0</td>\n",
       "      <td>8</td>\n",
       "      <td>2020-10-06</td>\n",
       "      <td>email</td>\n",
       "      <td>Tuesday</td>\n",
       "    </tr>\n",
       "    <tr>\n",
       "      <th>17710517</th>\n",
       "      <td>True</td>\n",
       "      <td>True</td>\n",
       "      <td>Subscribed</td>\n",
       "      <td>True</td>\n",
       "      <td>0</td>\n",
       "      <td>0</td>\n",
       "      <td>0</td>\n",
       "      <td>2020-10-07</td>\n",
       "      <td>email</td>\n",
       "      <td>Wednesday</td>\n",
       "    </tr>\n",
       "  </tbody>\n",
       "</table>\n",
       "</div>"
      ],
      "text/plain": [
       "            app_user  ever_contacted_support subscription_status  \\\n",
       "company_id                                                         \n",
       "17709779       False                    True          Subscribed   \n",
       "17709788       False                    True          Subscribed   \n",
       "17709881       False                    True          Subscribed   \n",
       "17710080        True                    True          Subscribed   \n",
       "17710517        True                    True          Subscribed   \n",
       "\n",
       "            left_trustpilot_review  minutes_activity_last_7_days_mobile  \\\n",
       "company_id                                                                \n",
       "17709779                     False                                    0   \n",
       "17709788                     False                                    0   \n",
       "17709881                     False                                    0   \n",
       "17710080                      True                                    0   \n",
       "17710517                      True                                    0   \n",
       "\n",
       "            minutes_activity_last_7_days_desktop  \\\n",
       "company_id                                         \n",
       "17709779                                       0   \n",
       "17709788                                       0   \n",
       "17709881                                       0   \n",
       "17710080                                       0   \n",
       "17710517                                       0   \n",
       "\n",
       "            minutes_activity_last_7_days_all_devices free_trial_signup_date  \\\n",
       "company_id                                                                    \n",
       "17709779                                           0             2020-10-26   \n",
       "17709788                                           0             2020-10-26   \n",
       "17709881                                           1             2020-10-26   \n",
       "17710080                                           8             2020-10-06   \n",
       "17710517                                           0             2020-10-07   \n",
       "\n",
       "           google_analytics_medium        day  \n",
       "company_id                                     \n",
       "17709779                     email     Monday  \n",
       "17709788                     email     Monday  \n",
       "17709881                     email     Monday  \n",
       "17710080                     email    Tuesday  \n",
       "17710517                     email  Wednesday  "
      ]
     },
     "execution_count": 15,
     "metadata": {},
     "output_type": "execute_result"
    }
   ],
   "source": [
    "df_email = raw.loc[raw['google_analytics_medium'] == 'email']\n",
    "df_email.head()"
   ]
  },
  {
   "cell_type": "code",
   "execution_count": 16,
   "id": "52c034b3-8cd7-4d9d-8d14-812a88dff078",
   "metadata": {},
   "outputs": [
    {
     "data": {
      "text/plain": [
       "Monday       89\n",
       "Sunday       86\n",
       "Saturday     83\n",
       "Tuesday      70\n",
       "Friday       70\n",
       "Wednesday    66\n",
       "Thursday     58\n",
       "Name: day, dtype: int64"
      ]
     },
     "execution_count": 16,
     "metadata": {},
     "output_type": "execute_result"
    }
   ],
   "source": [
    "df_email_daycount = df_email['day'].value_counts()\n",
    "df_email_daycount"
   ]
  },
  {
   "cell_type": "code",
   "execution_count": 17,
   "id": "e17d0edd-0722-44a2-9df0-a4e4193b28f3",
   "metadata": {},
   "outputs": [
    {
     "name": "stdout",
     "output_type": "stream",
     "text": [
      "_____________________________________\n",
      "The percentage of companies signed up for trials, directed by emails is:  32.38%\n",
      "_____________________________________\n"
     ]
    }
   ],
   "source": [
    "email_percentage = sum([df_email_daycount[i] for i in addlist])/sum(df_email_daycount) * 100\n",
    "print('_____________________________________')\n",
    "print('The percentage of companies signed up for trials, directed by emails is: ', \n",
    "      f'{email_percentage:.2f}%')\n",
    "print('_____________________________________')"
   ]
  },
  {
   "cell_type": "code",
   "execution_count": 18,
   "id": "463fb9df-b334-40a1-acaa-e8586bb41912",
   "metadata": {},
   "outputs": [
    {
     "data": {
      "text/plain": [
       "array(['Subscribed', nan, 'Cancelled'], dtype=object)"
      ]
     },
     "execution_count": 18,
     "metadata": {},
     "output_type": "execute_result"
    }
   ],
   "source": [
    "raw.subscription_status.unique()"
   ]
  },
  {
   "cell_type": "code",
   "execution_count": 19,
   "id": "0370b42a-e9aa-423e-8343-fc1727fd3161",
   "metadata": {},
   "outputs": [
    {
     "data": {
      "text/plain": [
       "array(['Subscribed'], dtype=object)"
      ]
     },
     "execution_count": 19,
     "metadata": {},
     "output_type": "execute_result"
    }
   ],
   "source": [
    "df_sub = raw.loc[raw['subscription_status'] == 'Subscribed']\n",
    "df_sub.subscription_status.unique()"
   ]
  },
  {
   "cell_type": "code",
   "execution_count": 20,
   "id": "1dac6d69-7f33-4ea2-8252-9da113d780cd",
   "metadata": {},
   "outputs": [],
   "source": [
    "df_app_user = df_sub.app_user.value_counts()"
   ]
  },
  {
   "cell_type": "code",
   "execution_count": 21,
   "id": "b43206e6-9f91-45e1-93dc-53f6729357d6",
   "metadata": {},
   "outputs": [
    {
     "name": "stdout",
     "output_type": "stream",
     "text": [
      "_____________________________________\n",
      "The percentage of subsrcribed users who are app user is:         38.57%\n",
      "The percentage of subsrcribed users who are app user is:         61.43%\n",
      "_____________________________________\n"
     ]
    }
   ],
   "source": [
    "print('_____________________________________')\n",
    "print(f\"{'The percentage of subsrcribed users who are app user is: ':<65}\\\n",
    "{df_app_user[True]/df_app_user.sum() *100:.2f}%\")\n",
    "print(f\"{'The percentage of subsrcribed users who are app user is: ':<65}\\\n",
    "{df_app_user[False]/df_app_user.sum() *100:.2f}%\")\n",
    "print('_____________________________________')"
   ]
  },
  {
   "cell_type": "markdown",
   "id": "c9a09fa9-f3e3-4d15-842e-cc571250cf29",
   "metadata": {},
   "source": [
    "# Question 3"
   ]
  },
  {
   "cell_type": "code",
   "execution_count": 22,
   "id": "ec647895-b5cb-4d71-b039-b992b34f46a0",
   "metadata": {},
   "outputs": [
    {
     "data": {
      "text/html": [
       "<div>\n",
       "<style scoped>\n",
       "    .dataframe tbody tr th:only-of-type {\n",
       "        vertical-align: middle;\n",
       "    }\n",
       "\n",
       "    .dataframe tbody tr th {\n",
       "        vertical-align: top;\n",
       "    }\n",
       "\n",
       "    .dataframe thead th {\n",
       "        text-align: right;\n",
       "    }\n",
       "</style>\n",
       "<table border=\"1\" class=\"dataframe\">\n",
       "  <thead>\n",
       "    <tr style=\"text-align: right;\">\n",
       "      <th></th>\n",
       "      <th>minutes_activity_last_7_days_all_devices</th>\n",
       "      <th>google_analytics_medium</th>\n",
       "    </tr>\n",
       "    <tr>\n",
       "      <th>free_trial_signup_date</th>\n",
       "      <th></th>\n",
       "      <th></th>\n",
       "    </tr>\n",
       "  </thead>\n",
       "  <tbody>\n",
       "    <tr>\n",
       "      <th>2020-07-01</th>\n",
       "      <td>0</td>\n",
       "      <td>organic</td>\n",
       "    </tr>\n",
       "    <tr>\n",
       "      <th>2020-07-01</th>\n",
       "      <td>76</td>\n",
       "      <td>organic</td>\n",
       "    </tr>\n",
       "    <tr>\n",
       "      <th>2020-07-01</th>\n",
       "      <td>2</td>\n",
       "      <td>organic</td>\n",
       "    </tr>\n",
       "    <tr>\n",
       "      <th>2020-07-01</th>\n",
       "      <td>0</td>\n",
       "      <td>organic</td>\n",
       "    </tr>\n",
       "    <tr>\n",
       "      <th>2020-07-01</th>\n",
       "      <td>0</td>\n",
       "      <td>organic</td>\n",
       "    </tr>\n",
       "    <tr>\n",
       "      <th>...</th>\n",
       "      <td>...</td>\n",
       "      <td>...</td>\n",
       "    </tr>\n",
       "    <tr>\n",
       "      <th>2021-01-25</th>\n",
       "      <td>9</td>\n",
       "      <td>(none)</td>\n",
       "    </tr>\n",
       "    <tr>\n",
       "      <th>2021-01-25</th>\n",
       "      <td>25</td>\n",
       "      <td>organic</td>\n",
       "    </tr>\n",
       "    <tr>\n",
       "      <th>2021-01-25</th>\n",
       "      <td>52</td>\n",
       "      <td>email</td>\n",
       "    </tr>\n",
       "    <tr>\n",
       "      <th>2021-01-25</th>\n",
       "      <td>2</td>\n",
       "      <td>email</td>\n",
       "    </tr>\n",
       "    <tr>\n",
       "      <th>2021-01-25</th>\n",
       "      <td>2</td>\n",
       "      <td>email</td>\n",
       "    </tr>\n",
       "  </tbody>\n",
       "</table>\n",
       "<p>3412 rows × 2 columns</p>\n",
       "</div>"
      ],
      "text/plain": [
       "                        minutes_activity_last_7_days_all_devices  \\\n",
       "free_trial_signup_date                                             \n",
       "2020-07-01                                                     0   \n",
       "2020-07-01                                                    76   \n",
       "2020-07-01                                                     2   \n",
       "2020-07-01                                                     0   \n",
       "2020-07-01                                                     0   \n",
       "...                                                          ...   \n",
       "2021-01-25                                                     9   \n",
       "2021-01-25                                                    25   \n",
       "2021-01-25                                                    52   \n",
       "2021-01-25                                                     2   \n",
       "2021-01-25                                                     2   \n",
       "\n",
       "                       google_analytics_medium  \n",
       "free_trial_signup_date                          \n",
       "2020-07-01                             organic  \n",
       "2020-07-01                             organic  \n",
       "2020-07-01                             organic  \n",
       "2020-07-01                             organic  \n",
       "2020-07-01                             organic  \n",
       "...                                        ...  \n",
       "2021-01-25                              (none)  \n",
       "2021-01-25                             organic  \n",
       "2021-01-25                               email  \n",
       "2021-01-25                               email  \n",
       "2021-01-25                               email  \n",
       "\n",
       "[3412 rows x 2 columns]"
      ]
     },
     "execution_count": 22,
     "metadata": {},
     "output_type": "execute_result"
    }
   ],
   "source": [
    "df_average_minute = raw.loc[raw['free_trial_signup_date'] >= '2020-07-01']\n",
    "df_average_minute = df_average_minute.reset_index() \\\n",
    "                    .set_index('free_trial_signup_date').sort_index() \\\n",
    "                    [['minutes_activity_last_7_days_all_devices', 'google_analytics_medium']]\n",
    "df_average_minute"
   ]
  },
  {
   "cell_type": "code",
   "execution_count": 23,
   "id": "5ae90e97-3a5c-4ac1-a2f9-058a401b9635",
   "metadata": {},
   "outputs": [],
   "source": [
    "df_average_minute['google_analytics_medium'] = df_average_minute['google_analytics_medium']"
   ]
  },
  {
   "cell_type": "code",
   "execution_count": 24,
   "id": "22f7d2fa-b7d3-4e45-9099-f0b1b25ac140",
   "metadata": {},
   "outputs": [],
   "source": [
    "def to_categorical(data):\n",
    "    data_group = data['google_analytics_medium'].\\\n",
    "                    groupby('free_trial_signup_date').value_counts()\n",
    "    data_group = data_group.unstack().resample('M').mean()\n",
    "    data_group.index = pd.to_datetime(data_group.index).strftime('%Y-%m')\n",
    "    data_group.plot(kind = 'bar', figsize = (8, 8))"
   ]
  },
  {
   "cell_type": "code",
   "execution_count": 25,
   "id": "28a274f6-7357-4195-bb0e-f9225fbf87f4",
   "metadata": {},
   "outputs": [
    {
     "data": {
      "text/plain": [
       "free_trial_signup_date  google_analytics_medium\n",
       "2021-01-24              cpc                        14\n",
       "                        organic                     9\n",
       "2021-01-25              cpc                        16\n",
       "                        email                      13\n",
       "                        organic                     5\n",
       "Name: google_analytics_medium, dtype: int64"
      ]
     },
     "execution_count": 25,
     "metadata": {},
     "output_type": "execute_result"
    }
   ],
   "source": [
    "df_date_group = df_average_minute['google_analytics_medium'].replace('(none)', np.nan). \\\n",
    "                groupby('free_trial_signup_date').value_counts()\n",
    "df_date_group.tail()"
   ]
  },
  {
   "cell_type": "code",
   "execution_count": 26,
   "id": "c185c671-41d2-4ddf-a3ee-e65258616b3d",
   "metadata": {},
   "outputs": [],
   "source": [
    "df_tmp = df_date_group.to_frame().google_analytics_medium.unstack()"
   ]
  },
  {
   "cell_type": "code",
   "execution_count": 27,
   "id": "549b132a-b881-4cc3-a77f-1eef75c92b37",
   "metadata": {},
   "outputs": [],
   "source": [
    "df = df_tmp.resample('M').mean()\n",
    "df.index = pd.to_datetime(df.index).strftime('%Y-%m')"
   ]
  },
  {
   "cell_type": "code",
   "execution_count": 28,
   "id": "8cedabf3-8e36-413f-8b50-97b9250fc160",
   "metadata": {},
   "outputs": [
    {
     "data": {
      "text/plain": [
       "{'2020-07': {'cpc': 0.0, 'email': 0.0, 'organic': 1.0, 'social': 0.0},\n",
       " '2020-08': {'cpc': 0.0, 'email': 0.0, 'organic': 1.0, 'social': 0.0},\n",
       " '2020-09': {'cpc': 0.0, 'email': 0.0, 'organic': 1.0, 'social': 0.0},\n",
       " '2020-10': {'cpc': 0.23912425362524878,\n",
       "  'email': 0.09894796701734432,\n",
       "  'organic': 0.6619277793574069,\n",
       "  'social': 0.0},\n",
       " '2020-11': {'cpc': 0.3457332030025267,\n",
       "  'email': 0.25534387045609636,\n",
       "  'organic': 0.2982239353755925,\n",
       "  'social': 0.10069899116578448},\n",
       " '2020-12': {'cpc': 0.4351084390301623,\n",
       "  'email': 0.24924730334567322,\n",
       "  'organic': 0.23067358602904853,\n",
       "  'social': 0.08497067159511586},\n",
       " '2021-01': {'cpc': 0.3788369382204377,\n",
       "  'email': 0.41497215386607944,\n",
       "  'organic': 0.16085999222898584,\n",
       "  'social': 0.04533091568449682}}"
      ]
     },
     "execution_count": 28,
     "metadata": {},
     "output_type": "execute_result"
    }
   ],
   "source": [
    "cols = ['cpc', 'email', 'organic', 'social']\n",
    "df_dict = df.copy()\n",
    "df_dict[cols] = df_dict[cols].div(df_dict[cols].sum(axis = 1), axis = 0)\n",
    "prob_dict = df_dict.transpose().replace(np.nan, 0).to_dict()\n",
    "prob_dict"
   ]
  },
  {
   "cell_type": "code",
   "execution_count": 29,
   "id": "e637df2c-efcd-4898-86c1-bb56bb651d01",
   "metadata": {},
   "outputs": [
    {
     "data": {
      "image/png": "[encoded data removed]",
      "text/plain": [
       "<Figure size 576x576 with 1 Axes>"
      ]
     },
     "metadata": {
      "needs_background": "light"
     },
     "output_type": "display_data"
    }
   ],
   "source": [
    "to_categorical(df_average_minute)"
   ]
  },
  {
   "cell_type": "code",
   "execution_count": 30,
   "id": "1f18131b-8d87-45d5-afe2-ebcb94a37632",
   "metadata": {},
   "outputs": [],
   "source": [
    "def medium_fill(row, *arg):\n",
    "    if not pd.isnull(row[0]):\n",
    "        return row.item()\n",
    "    else:\n",
    "        date = pd.to_datetime(row.name).strftime('%Y-%m')\n",
    "        return np.random.choice(list(prob_dict[date].keys()), p = list(prob_dict[date].values()))"
   ]
  },
  {
   "cell_type": "code",
   "execution_count": 31,
   "id": "9e070807-0a17-459a-9555-b6e2f48b4bba",
   "metadata": {},
   "outputs": [
    {
     "data": {
      "text/plain": [
       "free_trial_signup_date\n",
       "2020-07-01    organic\n",
       "2020-07-01    organic\n",
       "2020-07-01    organic\n",
       "2020-07-01    organic\n",
       "2020-07-01    organic\n",
       "               ...   \n",
       "2021-01-25     (none)\n",
       "2021-01-25    organic\n",
       "2021-01-25      email\n",
       "2021-01-25      email\n",
       "2021-01-25      email\n",
       "Name: google_analytics_medium, Length: 3412, dtype: object"
      ]
     },
     "execution_count": 31,
     "metadata": {},
     "output_type": "execute_result"
    }
   ],
   "source": [
    "df_average_minute['google_analytics_medium']"
   ]
  },
  {
   "cell_type": "code",
   "execution_count": 32,
   "id": "d8a92018-2427-4b1a-bc66-e15fa036ac8e",
   "metadata": {},
   "outputs": [
    {
     "data": {
      "text/html": [
       "<div>\n",
       "<style scoped>\n",
       "    .dataframe tbody tr th:only-of-type {\n",
       "        vertical-align: middle;\n",
       "    }\n",
       "\n",
       "    .dataframe tbody tr th {\n",
       "        vertical-align: top;\n",
       "    }\n",
       "\n",
       "    .dataframe thead th {\n",
       "        text-align: right;\n",
       "    }\n",
       "</style>\n",
       "<table border=\"1\" class=\"dataframe\">\n",
       "  <thead>\n",
       "    <tr style=\"text-align: right;\">\n",
       "      <th></th>\n",
       "      <th>google_analytics_medium</th>\n",
       "    </tr>\n",
       "    <tr>\n",
       "      <th>free_trial_signup_date</th>\n",
       "      <th></th>\n",
       "    </tr>\n",
       "  </thead>\n",
       "  <tbody>\n",
       "    <tr>\n",
       "      <th>2020-07-01</th>\n",
       "      <td>organic</td>\n",
       "    </tr>\n",
       "    <tr>\n",
       "      <th>2020-07-01</th>\n",
       "      <td>organic</td>\n",
       "    </tr>\n",
       "    <tr>\n",
       "      <th>2020-07-01</th>\n",
       "      <td>organic</td>\n",
       "    </tr>\n",
       "    <tr>\n",
       "      <th>2020-07-01</th>\n",
       "      <td>organic</td>\n",
       "    </tr>\n",
       "    <tr>\n",
       "      <th>2020-07-01</th>\n",
       "      <td>organic</td>\n",
       "    </tr>\n",
       "    <tr>\n",
       "      <th>...</th>\n",
       "      <td>...</td>\n",
       "    </tr>\n",
       "    <tr>\n",
       "      <th>2021-01-25</th>\n",
       "      <td>(none)</td>\n",
       "    </tr>\n",
       "    <tr>\n",
       "      <th>2021-01-25</th>\n",
       "      <td>organic</td>\n",
       "    </tr>\n",
       "    <tr>\n",
       "      <th>2021-01-25</th>\n",
       "      <td>email</td>\n",
       "    </tr>\n",
       "    <tr>\n",
       "      <th>2021-01-25</th>\n",
       "      <td>email</td>\n",
       "    </tr>\n",
       "    <tr>\n",
       "      <th>2021-01-25</th>\n",
       "      <td>email</td>\n",
       "    </tr>\n",
       "  </tbody>\n",
       "</table>\n",
       "<p>3412 rows × 1 columns</p>\n",
       "</div>"
      ],
      "text/plain": [
       "                       google_analytics_medium\n",
       "free_trial_signup_date                        \n",
       "2020-07-01                             organic\n",
       "2020-07-01                             organic\n",
       "2020-07-01                             organic\n",
       "2020-07-01                             organic\n",
       "2020-07-01                             organic\n",
       "...                                        ...\n",
       "2021-01-25                              (none)\n",
       "2021-01-25                             organic\n",
       "2021-01-25                               email\n",
       "2021-01-25                               email\n",
       "2021-01-25                               email\n",
       "\n",
       "[3412 rows x 1 columns]"
      ]
     },
     "execution_count": 32,
     "metadata": {},
     "output_type": "execute_result"
    }
   ],
   "source": [
    "df_average_minute['google_analytics_medium'].to_frame()"
   ]
  },
  {
   "cell_type": "code",
   "execution_count": 33,
   "id": "2caabf79-4fb6-4506-b3f6-7f75ae39d849",
   "metadata": {},
   "outputs": [],
   "source": [
    "df_average_tmp = df_average_minute.copy()"
   ]
  },
  {
   "cell_type": "code",
   "execution_count": 34,
   "id": "af8faa37-cf4c-4e32-9994-e3545f09f8e9",
   "metadata": {},
   "outputs": [
    {
     "data": {
      "text/html": [
       "<div>\n",
       "<style scoped>\n",
       "    .dataframe tbody tr th:only-of-type {\n",
       "        vertical-align: middle;\n",
       "    }\n",
       "\n",
       "    .dataframe tbody tr th {\n",
       "        vertical-align: top;\n",
       "    }\n",
       "\n",
       "    .dataframe thead th {\n",
       "        text-align: right;\n",
       "    }\n",
       "</style>\n",
       "<table border=\"1\" class=\"dataframe\">\n",
       "  <thead>\n",
       "    <tr style=\"text-align: right;\">\n",
       "      <th></th>\n",
       "      <th>minutes_activity_last_7_days_all_devices</th>\n",
       "      <th>google_analytics_medium</th>\n",
       "    </tr>\n",
       "    <tr>\n",
       "      <th>free_trial_signup_date</th>\n",
       "      <th></th>\n",
       "      <th></th>\n",
       "    </tr>\n",
       "  </thead>\n",
       "  <tbody>\n",
       "    <tr>\n",
       "      <th>2020-07-01</th>\n",
       "      <td>0</td>\n",
       "      <td>organic</td>\n",
       "    </tr>\n",
       "    <tr>\n",
       "      <th>2020-07-01</th>\n",
       "      <td>76</td>\n",
       "      <td>organic</td>\n",
       "    </tr>\n",
       "    <tr>\n",
       "      <th>2020-07-01</th>\n",
       "      <td>2</td>\n",
       "      <td>organic</td>\n",
       "    </tr>\n",
       "    <tr>\n",
       "      <th>2020-07-01</th>\n",
       "      <td>0</td>\n",
       "      <td>organic</td>\n",
       "    </tr>\n",
       "    <tr>\n",
       "      <th>2020-07-01</th>\n",
       "      <td>0</td>\n",
       "      <td>organic</td>\n",
       "    </tr>\n",
       "    <tr>\n",
       "      <th>...</th>\n",
       "      <td>...</td>\n",
       "      <td>...</td>\n",
       "    </tr>\n",
       "    <tr>\n",
       "      <th>2021-01-25</th>\n",
       "      <td>9</td>\n",
       "      <td>email</td>\n",
       "    </tr>\n",
       "    <tr>\n",
       "      <th>2021-01-25</th>\n",
       "      <td>25</td>\n",
       "      <td>organic</td>\n",
       "    </tr>\n",
       "    <tr>\n",
       "      <th>2021-01-25</th>\n",
       "      <td>52</td>\n",
       "      <td>email</td>\n",
       "    </tr>\n",
       "    <tr>\n",
       "      <th>2021-01-25</th>\n",
       "      <td>2</td>\n",
       "      <td>email</td>\n",
       "    </tr>\n",
       "    <tr>\n",
       "      <th>2021-01-25</th>\n",
       "      <td>2</td>\n",
       "      <td>email</td>\n",
       "    </tr>\n",
       "  </tbody>\n",
       "</table>\n",
       "<p>3412 rows × 2 columns</p>\n",
       "</div>"
      ],
      "text/plain": [
       "                        minutes_activity_last_7_days_all_devices  \\\n",
       "free_trial_signup_date                                             \n",
       "2020-07-01                                                     0   \n",
       "2020-07-01                                                    76   \n",
       "2020-07-01                                                     2   \n",
       "2020-07-01                                                     0   \n",
       "2020-07-01                                                     0   \n",
       "...                                                          ...   \n",
       "2021-01-25                                                     9   \n",
       "2021-01-25                                                    25   \n",
       "2021-01-25                                                    52   \n",
       "2021-01-25                                                     2   \n",
       "2021-01-25                                                     2   \n",
       "\n",
       "                       google_analytics_medium  \n",
       "free_trial_signup_date                          \n",
       "2020-07-01                             organic  \n",
       "2020-07-01                             organic  \n",
       "2020-07-01                             organic  \n",
       "2020-07-01                             organic  \n",
       "2020-07-01                             organic  \n",
       "...                                        ...  \n",
       "2021-01-25                               email  \n",
       "2021-01-25                             organic  \n",
       "2021-01-25                               email  \n",
       "2021-01-25                               email  \n",
       "2021-01-25                               email  \n",
       "\n",
       "[3412 rows x 2 columns]"
      ]
     },
     "metadata": {},
     "output_type": "display_data"
    }
   ],
   "source": [
    "df_average_tmp['google_analytics_medium'] = df_average_tmp['google_analytics_medium'].to_frame() \\\n",
    ".replace('(none)', np.nan).apply(lambda x: medium_fill(x), axis = 1)\n",
    "display(df_average_tmp)"
   ]
  },
  {
   "cell_type": "code",
   "execution_count": 35,
   "id": "fb4239c6-8f67-4876-857c-ed76bfecd200",
   "metadata": {},
   "outputs": [
    {
     "data": {
      "image/png": "[encoded data removed]",
      "text/plain": [
       "<Figure size 576x576 with 1 Axes>"
      ]
     },
     "metadata": {
      "needs_background": "light"
     },
     "output_type": "display_data"
    }
   ],
   "source": [
    "to_categorical(df_average_tmp)"
   ]
  },
  {
   "cell_type": "code",
   "execution_count": 36,
   "id": "1c42b2ac-c958-4e2b-a0bf-6e3507e0e415",
   "metadata": {},
   "outputs": [
    {
     "data": {
      "text/plain": [
       "minutes_activity_last_7_days_all_devices    0\n",
       "google_analytics_medium                     0\n",
       "dtype: int64"
      ]
     },
     "execution_count": 36,
     "metadata": {},
     "output_type": "execute_result"
    }
   ],
   "source": [
    "df_average_tmp.isnull().sum()"
   ]
  },
  {
   "cell_type": "code",
   "execution_count": 37,
   "id": "3af655e8-25ca-40f4-978d-8d1d07d06907",
   "metadata": {},
   "outputs": [
    {
     "data": {
      "text/html": [
       "<div>\n",
       "<style scoped>\n",
       "    .dataframe tbody tr th:only-of-type {\n",
       "        vertical-align: middle;\n",
       "    }\n",
       "\n",
       "    .dataframe tbody tr th {\n",
       "        vertical-align: top;\n",
       "    }\n",
       "\n",
       "    .dataframe thead th {\n",
       "        text-align: right;\n",
       "    }\n",
       "</style>\n",
       "<table border=\"1\" class=\"dataframe\">\n",
       "  <thead>\n",
       "    <tr style=\"text-align: right;\">\n",
       "      <th></th>\n",
       "      <th>minutes_activity_last_7_days_all_devices</th>\n",
       "    </tr>\n",
       "    <tr>\n",
       "      <th>google_analytics_medium</th>\n",
       "      <th></th>\n",
       "    </tr>\n",
       "  </thead>\n",
       "  <tbody>\n",
       "    <tr>\n",
       "      <th>cpc</th>\n",
       "      <td>4.469231</td>\n",
       "    </tr>\n",
       "    <tr>\n",
       "      <th>email</th>\n",
       "      <td>2.347044</td>\n",
       "    </tr>\n",
       "    <tr>\n",
       "      <th>organic</th>\n",
       "      <td>3.601216</td>\n",
       "    </tr>\n",
       "    <tr>\n",
       "      <th>social</th>\n",
       "      <td>2.797468</td>\n",
       "    </tr>\n",
       "  </tbody>\n",
       "</table>\n",
       "</div>"
      ],
      "text/plain": [
       "                         minutes_activity_last_7_days_all_devices\n",
       "google_analytics_medium                                          \n",
       "cpc                                                      4.469231\n",
       "email                                                    2.347044\n",
       "organic                                                  3.601216\n",
       "social                                                   2.797468"
      ]
     },
     "execution_count": 37,
     "metadata": {},
     "output_type": "execute_result"
    }
   ],
   "source": [
    "df_average = df_average_tmp.groupby('google_analytics_medium').mean()\n",
    "df_average.head()"
   ]
  },
  {
   "cell_type": "code",
   "execution_count": 38,
   "id": "cec1452d-eb0f-4734-af91-d21971cd3d1a",
   "metadata": {},
   "outputs": [
    {
     "name": "stdout",
     "output_type": "stream",
     "text": [
      "The medium with the most activity minutes over the last 7 days is cpc, \n",
      " with an average of  4.47 minutes.\n"
     ]
    }
   ],
   "source": [
    "print('The medium with the most activity minutes over the last 7 days is cpc, \\n', \n",
    "      'with an average of ', f\"{float(df_average.loc['cpc']):.2f} minutes.\")"
   ]
  },
  {
   "cell_type": "code",
   "execution_count": 39,
   "id": "2136c9b9-de9c-4b20-88a7-d1f198b5d64d",
   "metadata": {},
   "outputs": [
    {
     "name": "stdout",
     "output_type": "stream",
     "text": [
      "                        minutes_activity_last_7_days_all_devices  \\\n",
      "free_trial_signup_date                                             \n",
      "2020-07-01                                                     0   \n",
      "2020-07-01                                                    76   \n",
      "2020-07-01                                                     2   \n",
      "2020-07-01                                                     0   \n",
      "2020-07-01                                                     0   \n",
      "...                                                          ...   \n",
      "2021-01-25                                                     9   \n",
      "2021-01-25                                                    25   \n",
      "2021-01-25                                                    52   \n",
      "2021-01-25                                                     2   \n",
      "2021-01-25                                                     2   \n",
      "\n",
      "                       google_analytics_medium  \n",
      "free_trial_signup_date                          \n",
      "2020-07-01                             organic  \n",
      "2020-07-01                             organic  \n",
      "2020-07-01                             organic  \n",
      "2020-07-01                             organic  \n",
      "2020-07-01                             organic  \n",
      "...                                        ...  \n",
      "2021-01-25                              (none)  \n",
      "2021-01-25                             organic  \n",
      "2021-01-25                               email  \n",
      "2021-01-25                               email  \n",
      "2021-01-25                               email  \n",
      "\n",
      "[3412 rows x 2 columns]\n"
     ]
    }
   ],
   "source": [
    "print(df_average_minute)"
   ]
  },
  {
   "cell_type": "code",
   "execution_count": 40,
   "id": "4dcea06a-df67-4f7c-992b-2acc4f0864b2",
   "metadata": {},
   "outputs": [],
   "source": [
    "def average_sim(data = df_average_minute, sim_num = 10, prob = prob_dict):\n",
    "    df_sim = None\n",
    "    for i in range(sim_num):\n",
    "        np.random.seed(i)\n",
    "        tmp = df_average_minute.copy()\n",
    "        tmp['google_analytics_medium'] = tmp['google_analytics_medium'].to_frame() \\\n",
    "            .replace('(none)', np.nan).apply(lambda x: medium_fill(x, i), axis = 1)\n",
    "        tmp = tmp.groupby('google_analytics_medium').mean()\n",
    "        if df_sim is None:\n",
    "            df_sim = tmp \n",
    "        else:\n",
    "            df_sim = df_sim.merge(tmp, left_index = True, right_index = True, how = 'outer',  suffixes = (None, f'_{i}'))\n",
    "    return df_sim\n",
    "        "
   ]
  },
  {
   "cell_type": "code",
   "execution_count": 41,
   "id": "5181b9bd-f3e2-4702-8521-ab1892b87d3c",
   "metadata": {},
   "outputs": [],
   "source": [
    "ave = average_sim(sim_num = 500)"
   ]
  },
  {
   "cell_type": "code",
   "execution_count": 42,
   "id": "8be25038-616d-41d0-8916-a5b709546413",
   "metadata": {},
   "outputs": [
    {
     "data": {
      "text/html": [
       "<div>\n",
       "<style scoped>\n",
       "    .dataframe tbody tr th:only-of-type {\n",
       "        vertical-align: middle;\n",
       "    }\n",
       "\n",
       "    .dataframe tbody tr th {\n",
       "        vertical-align: top;\n",
       "    }\n",
       "\n",
       "    .dataframe thead th {\n",
       "        text-align: right;\n",
       "    }\n",
       "</style>\n",
       "<table border=\"1\" class=\"dataframe\">\n",
       "  <thead>\n",
       "    <tr style=\"text-align: right;\">\n",
       "      <th>google_analytics_medium</th>\n",
       "      <th>cpc</th>\n",
       "      <th>email</th>\n",
       "      <th>organic</th>\n",
       "      <th>social</th>\n",
       "    </tr>\n",
       "  </thead>\n",
       "  <tbody>\n",
       "    <tr>\n",
       "      <th>minutes_activity_last_7_days_all_devices</th>\n",
       "      <td>4.384951</td>\n",
       "      <td>2.456693</td>\n",
       "      <td>3.643769</td>\n",
       "      <td>1.715909</td>\n",
       "    </tr>\n",
       "    <tr>\n",
       "      <th>minutes_activity_last_7_days_all_devices_1</th>\n",
       "      <td>4.316315</td>\n",
       "      <td>2.534615</td>\n",
       "      <td>3.726776</td>\n",
       "      <td>0.404762</td>\n",
       "    </tr>\n",
       "    <tr>\n",
       "      <th>minutes_activity_last_7_days_all_devices_2</th>\n",
       "      <td>3.381421</td>\n",
       "      <td>1.850455</td>\n",
       "      <td>4.528131</td>\n",
       "      <td>0.480000</td>\n",
       "    </tr>\n",
       "    <tr>\n",
       "      <th>minutes_activity_last_7_days_all_devices_3</th>\n",
       "      <td>4.550725</td>\n",
       "      <td>1.915723</td>\n",
       "      <td>3.770681</td>\n",
       "      <td>3.078947</td>\n",
       "    </tr>\n",
       "    <tr>\n",
       "      <th>minutes_activity_last_7_days_all_devices_4</th>\n",
       "      <td>4.254162</td>\n",
       "      <td>2.679124</td>\n",
       "      <td>3.689927</td>\n",
       "      <td>0.517241</td>\n",
       "    </tr>\n",
       "  </tbody>\n",
       "</table>\n",
       "</div>"
      ],
      "text/plain": [
       "google_analytics_medium                          cpc     email   organic  \\\n",
       "minutes_activity_last_7_days_all_devices    4.384951  2.456693  3.643769   \n",
       "minutes_activity_last_7_days_all_devices_1  4.316315  2.534615  3.726776   \n",
       "minutes_activity_last_7_days_all_devices_2  3.381421  1.850455  4.528131   \n",
       "minutes_activity_last_7_days_all_devices_3  4.550725  1.915723  3.770681   \n",
       "minutes_activity_last_7_days_all_devices_4  4.254162  2.679124  3.689927   \n",
       "\n",
       "google_analytics_medium                       social  \n",
       "minutes_activity_last_7_days_all_devices    1.715909  \n",
       "minutes_activity_last_7_days_all_devices_1  0.404762  \n",
       "minutes_activity_last_7_days_all_devices_2  0.480000  \n",
       "minutes_activity_last_7_days_all_devices_3  3.078947  \n",
       "minutes_activity_last_7_days_all_devices_4  0.517241  "
      ]
     },
     "execution_count": 42,
     "metadata": {},
     "output_type": "execute_result"
    }
   ],
   "source": [
    "ave.transpose().head(5)"
   ]
  },
  {
   "cell_type": "code",
   "execution_count": 43,
   "id": "cc8c7f2c-77ca-41fa-b3e0-6d51b206e50d",
   "metadata": {},
   "outputs": [],
   "source": [
    "ave['average'] = ave.mean(axis = 1)"
   ]
  },
  {
   "cell_type": "code",
   "execution_count": 44,
   "id": "8e4b68da-9eb0-40a5-80b7-5d70887b6863",
   "metadata": {},
   "outputs": [
    {
     "data": {
      "text/plain": [
       "google_analytics_medium\n",
       "cpc        3.470893\n",
       "email      2.716682\n",
       "organic    3.972091\n",
       "social     2.860453\n",
       "Name: average, dtype: float64"
      ]
     },
     "execution_count": 44,
     "metadata": {},
     "output_type": "execute_result"
    }
   ],
   "source": [
    "ave['average']"
   ]
  },
  {
   "cell_type": "code",
   "execution_count": 45,
   "id": "5d6f3cea-79e4-4cd6-8262-ae88869efb74",
   "metadata": {},
   "outputs": [
    {
     "name": "stdout",
     "output_type": "stream",
     "text": [
      "After 500 simulation according to the distribution of medium, the users from organic medium tend to spend more time on the services, with an average of  3.97 minutes\n"
     ]
    }
   ],
   "source": [
    "print(\"After 500 simulation according to the distribution of medium, the users from organic medium tend to spend more time on the services, with an average of \", f\"{ave['average'].loc['organic']:.2f}\" , \"minutes\")"
   ]
  },
  {
   "cell_type": "code",
   "execution_count": 46,
   "id": "e9076633-5be0-4506-86ce-83e5e0e93ccf",
   "metadata": {},
   "outputs": [],
   "source": [
    "ave_1000 = average_sim(sim_num = 1000)"
   ]
  },
  {
   "cell_type": "code",
   "execution_count": 47,
   "id": "58cee8cf-caa6-4f84-9bb0-f3414ebcbace",
   "metadata": {},
   "outputs": [],
   "source": [
    "ave_1000['average'] = ave_1000.mean(axis = 1)"
   ]
  },
  {
   "cell_type": "code",
   "execution_count": 48,
   "id": "d5f3bdd8-69c2-46dc-9b20-bec00103e8ee",
   "metadata": {},
   "outputs": [
    {
     "data": {
      "text/plain": [
       "google_analytics_medium\n",
       "cpc        3.454089\n",
       "email      2.735893\n",
       "organic    3.966731\n",
       "social     2.965271\n",
       "Name: average, dtype: float64"
      ]
     },
     "execution_count": 48,
     "metadata": {},
     "output_type": "execute_result"
    }
   ],
   "source": [
    "ave_1000['average']"
   ]
  },
  {
   "cell_type": "markdown",
   "id": "aac0add0-08b8-44bf-96eb-ac3b865d22ff",
   "metadata": {},
   "source": [
    "Similarly, for 1000 simulation, the result is till the organic medium, with average of 3.97 minutes."
   ]
  },
  {
   "cell_type": "code",
   "execution_count": 49,
   "id": "a27c1b30-33ba-43fe-a963-3c36e4e0e527",
   "metadata": {},
   "outputs": [
    {
     "data": {
      "text/html": [
       "<div>\n",
       "<style scoped>\n",
       "    .dataframe tbody tr th:only-of-type {\n",
       "        vertical-align: middle;\n",
       "    }\n",
       "\n",
       "    .dataframe tbody tr th {\n",
       "        vertical-align: top;\n",
       "    }\n",
       "\n",
       "    .dataframe thead th {\n",
       "        text-align: right;\n",
       "    }\n",
       "</style>\n",
       "<table border=\"1\" class=\"dataframe\">\n",
       "  <thead>\n",
       "    <tr style=\"text-align: right;\">\n",
       "      <th></th>\n",
       "      <th>app_user</th>\n",
       "      <th>ever_contacted_support</th>\n",
       "      <th>subscription_status</th>\n",
       "      <th>left_trustpilot_review</th>\n",
       "      <th>minutes_activity_last_7_days_mobile</th>\n",
       "      <th>minutes_activity_last_7_days_desktop</th>\n",
       "      <th>minutes_activity_last_7_days_all_devices</th>\n",
       "      <th>free_trial_signup_date</th>\n",
       "      <th>google_analytics_medium</th>\n",
       "      <th>day</th>\n",
       "    </tr>\n",
       "    <tr>\n",
       "      <th>company_id</th>\n",
       "      <th></th>\n",
       "      <th></th>\n",
       "      <th></th>\n",
       "      <th></th>\n",
       "      <th></th>\n",
       "      <th></th>\n",
       "      <th></th>\n",
       "      <th></th>\n",
       "      <th></th>\n",
       "      <th></th>\n",
       "    </tr>\n",
       "  </thead>\n",
       "  <tbody>\n",
       "    <tr>\n",
       "      <th>17618213</th>\n",
       "      <td>False</td>\n",
       "      <td>True</td>\n",
       "      <td>Subscribed</td>\n",
       "      <td>False</td>\n",
       "      <td>62</td>\n",
       "      <td>0</td>\n",
       "      <td>155</td>\n",
       "      <td>2019-09-26</td>\n",
       "      <td>organic</td>\n",
       "      <td>Thursday</td>\n",
       "    </tr>\n",
       "    <tr>\n",
       "      <th>17618220</th>\n",
       "      <td>False</td>\n",
       "      <td>True</td>\n",
       "      <td>Subscribed</td>\n",
       "      <td>False</td>\n",
       "      <td>0</td>\n",
       "      <td>0</td>\n",
       "      <td>0</td>\n",
       "      <td>2019-09-26</td>\n",
       "      <td>organic</td>\n",
       "      <td>Thursday</td>\n",
       "    </tr>\n",
       "    <tr>\n",
       "      <th>17618245</th>\n",
       "      <td>False</td>\n",
       "      <td>True</td>\n",
       "      <td>Subscribed</td>\n",
       "      <td>False</td>\n",
       "      <td>0</td>\n",
       "      <td>0</td>\n",
       "      <td>0</td>\n",
       "      <td>2019-09-26</td>\n",
       "      <td>organic</td>\n",
       "      <td>Thursday</td>\n",
       "    </tr>\n",
       "    <tr>\n",
       "      <th>17618260</th>\n",
       "      <td>True</td>\n",
       "      <td>True</td>\n",
       "      <td>Subscribed</td>\n",
       "      <td>False</td>\n",
       "      <td>0</td>\n",
       "      <td>0</td>\n",
       "      <td>0</td>\n",
       "      <td>2019-09-26</td>\n",
       "      <td>organic</td>\n",
       "      <td>Thursday</td>\n",
       "    </tr>\n",
       "    <tr>\n",
       "      <th>17618265</th>\n",
       "      <td>True</td>\n",
       "      <td>True</td>\n",
       "      <td>Subscribed</td>\n",
       "      <td>False</td>\n",
       "      <td>0</td>\n",
       "      <td>0</td>\n",
       "      <td>0</td>\n",
       "      <td>2019-09-26</td>\n",
       "      <td>organic</td>\n",
       "      <td>Thursday</td>\n",
       "    </tr>\n",
       "    <tr>\n",
       "      <th>...</th>\n",
       "      <td>...</td>\n",
       "      <td>...</td>\n",
       "      <td>...</td>\n",
       "      <td>...</td>\n",
       "      <td>...</td>\n",
       "      <td>...</td>\n",
       "      <td>...</td>\n",
       "      <td>...</td>\n",
       "      <td>...</td>\n",
       "      <td>...</td>\n",
       "    </tr>\n",
       "    <tr>\n",
       "      <th>17737650</th>\n",
       "      <td>False</td>\n",
       "      <td>False</td>\n",
       "      <td>Cancelled</td>\n",
       "      <td>False</td>\n",
       "      <td>0</td>\n",
       "      <td>0</td>\n",
       "      <td>0</td>\n",
       "      <td>2021-01-25</td>\n",
       "      <td>cpc</td>\n",
       "      <td>Monday</td>\n",
       "    </tr>\n",
       "    <tr>\n",
       "      <th>17737651</th>\n",
       "      <td>True</td>\n",
       "      <td>False</td>\n",
       "      <td>Cancelled</td>\n",
       "      <td>False</td>\n",
       "      <td>13</td>\n",
       "      <td>0</td>\n",
       "      <td>13</td>\n",
       "      <td>2021-01-25</td>\n",
       "      <td>(none)</td>\n",
       "      <td>Monday</td>\n",
       "    </tr>\n",
       "    <tr>\n",
       "      <th>17737652</th>\n",
       "      <td>False</td>\n",
       "      <td>False</td>\n",
       "      <td>Cancelled</td>\n",
       "      <td>False</td>\n",
       "      <td>0</td>\n",
       "      <td>67</td>\n",
       "      <td>67</td>\n",
       "      <td>2021-01-25</td>\n",
       "      <td>email</td>\n",
       "      <td>Monday</td>\n",
       "    </tr>\n",
       "    <tr>\n",
       "      <th>17737654</th>\n",
       "      <td>False</td>\n",
       "      <td>False</td>\n",
       "      <td>Cancelled</td>\n",
       "      <td>False</td>\n",
       "      <td>0</td>\n",
       "      <td>7</td>\n",
       "      <td>7</td>\n",
       "      <td>2021-01-25</td>\n",
       "      <td>email</td>\n",
       "      <td>Monday</td>\n",
       "    </tr>\n",
       "    <tr>\n",
       "      <th>17737658</th>\n",
       "      <td>False</td>\n",
       "      <td>False</td>\n",
       "      <td>Cancelled</td>\n",
       "      <td>False</td>\n",
       "      <td>0</td>\n",
       "      <td>2</td>\n",
       "      <td>2</td>\n",
       "      <td>2021-01-25</td>\n",
       "      <td>email</td>\n",
       "      <td>Monday</td>\n",
       "    </tr>\n",
       "  </tbody>\n",
       "</table>\n",
       "<p>6299 rows × 10 columns</p>\n",
       "</div>"
      ],
      "text/plain": [
       "            app_user  ever_contacted_support subscription_status  \\\n",
       "company_id                                                         \n",
       "17618213       False                    True          Subscribed   \n",
       "17618220       False                    True          Subscribed   \n",
       "17618245       False                    True          Subscribed   \n",
       "17618260        True                    True          Subscribed   \n",
       "17618265        True                    True          Subscribed   \n",
       "...              ...                     ...                 ...   \n",
       "17737650       False                   False           Cancelled   \n",
       "17737651        True                   False           Cancelled   \n",
       "17737652       False                   False           Cancelled   \n",
       "17737654       False                   False           Cancelled   \n",
       "17737658       False                   False           Cancelled   \n",
       "\n",
       "            left_trustpilot_review  minutes_activity_last_7_days_mobile  \\\n",
       "company_id                                                                \n",
       "17618213                     False                                   62   \n",
       "17618220                     False                                    0   \n",
       "17618245                     False                                    0   \n",
       "17618260                     False                                    0   \n",
       "17618265                     False                                    0   \n",
       "...                            ...                                  ...   \n",
       "17737650                     False                                    0   \n",
       "17737651                     False                                   13   \n",
       "17737652                     False                                    0   \n",
       "17737654                     False                                    0   \n",
       "17737658                     False                                    0   \n",
       "\n",
       "            minutes_activity_last_7_days_desktop  \\\n",
       "company_id                                         \n",
       "17618213                                       0   \n",
       "17618220                                       0   \n",
       "17618245                                       0   \n",
       "17618260                                       0   \n",
       "17618265                                       0   \n",
       "...                                          ...   \n",
       "17737650                                       0   \n",
       "17737651                                       0   \n",
       "17737652                                      67   \n",
       "17737654                                       7   \n",
       "17737658                                       2   \n",
       "\n",
       "            minutes_activity_last_7_days_all_devices free_trial_signup_date  \\\n",
       "company_id                                                                    \n",
       "17618213                                         155             2019-09-26   \n",
       "17618220                                           0             2019-09-26   \n",
       "17618245                                           0             2019-09-26   \n",
       "17618260                                           0             2019-09-26   \n",
       "17618265                                           0             2019-09-26   \n",
       "...                                              ...                    ...   \n",
       "17737650                                           0             2021-01-25   \n",
       "17737651                                          13             2021-01-25   \n",
       "17737652                                          67             2021-01-25   \n",
       "17737654                                           7             2021-01-25   \n",
       "17737658                                           2             2021-01-25   \n",
       "\n",
       "           google_analytics_medium       day  \n",
       "company_id                                    \n",
       "17618213                   organic  Thursday  \n",
       "17618220                   organic  Thursday  \n",
       "17618245                   organic  Thursday  \n",
       "17618260                   organic  Thursday  \n",
       "17618265                   organic  Thursday  \n",
       "...                            ...       ...  \n",
       "17737650                       cpc    Monday  \n",
       "17737651                    (none)    Monday  \n",
       "17737652                     email    Monday  \n",
       "17737654                     email    Monday  \n",
       "17737658                     email    Monday  \n",
       "\n",
       "[6299 rows x 10 columns]"
      ]
     },
     "execution_count": 49,
     "metadata": {},
     "output_type": "execute_result"
    }
   ],
   "source": [
    "raw"
   ]
  },
  {
   "cell_type": "code",
   "execution_count": 50,
   "id": "50666b92-a1a0-46a2-be6c-76765a9f8ea9",
   "metadata": {},
   "outputs": [],
   "source": [
    "df_review = raw[['left_trustpilot_review', 'subscription_status']].groupby('left_trustpilot_review')['subscription_status'].value_counts()"
   ]
  },
  {
   "cell_type": "code",
   "execution_count": 51,
   "id": "914238e5-9064-4930-af78-bbbf2c4d7bd9",
   "metadata": {},
   "outputs": [
    {
     "data": {
      "text/plain": [
       "<AxesSubplot:xlabel='left_trustpilot_review'>"
      ]
     },
     "execution_count": 51,
     "metadata": {},
     "output_type": "execute_result"
    },
    {
     "data": {
      "image/png": "[encoded data removed]",
      "text/plain": [
       "<Figure size 432x288 with 1 Axes>"
      ]
     },
     "metadata": {
      "needs_background": "light"
     },
     "output_type": "display_data"
    }
   ],
   "source": [
    "df_review.unstack().plot(kind = 'bar')"
   ]
  },
  {
   "cell_type": "code",
   "execution_count": 52,
   "id": "bb272c65-04db-4220-9fa4-1c928a7c0db8",
   "metadata": {},
   "outputs": [],
   "source": [
    "df_support = raw[['ever_contacted_support', 'subscription_status']].\\\n",
    "                groupby('subscription_status')['ever_contacted_support'].value_counts()"
   ]
  },
  {
   "cell_type": "code",
   "execution_count": 53,
   "id": "bb32eb0a-6825-4c2b-a014-692cdcc47b2a",
   "metadata": {},
   "outputs": [
    {
     "data": {
      "text/plain": [
       "subscription_status  ever_contacted_support\n",
       "Cancelled            False                     1661\n",
       "                     True                        42\n",
       "Subscribed           True                      3905\n",
       "                     False                      352\n",
       "Name: ever_contacted_support, dtype: int64"
      ]
     },
     "execution_count": 53,
     "metadata": {},
     "output_type": "execute_result"
    }
   ],
   "source": [
    "df_support"
   ]
  },
  {
   "cell_type": "code",
   "execution_count": 54,
   "id": "46c9d595-722c-487c-b465-fc3d66e5b3d4",
   "metadata": {},
   "outputs": [
    {
     "data": {
      "text/plain": [
       "<AxesSubplot:xlabel='subscription_status'>"
      ]
     },
     "execution_count": 54,
     "metadata": {},
     "output_type": "execute_result"
    },
    {
     "data": {
      "image/png": "[encoded data removed]",
      "text/plain": [
       "<Figure size 432x288 with 1 Axes>"
      ]
     },
     "metadata": {
      "needs_background": "light"
     },
     "output_type": "display_data"
    }
   ],
   "source": [
    "df_support.unstack().plot(kind = 'bar')"
   ]
  },
  {
   "cell_type": "code",
   "execution_count": 55,
   "id": "5cba4ad3-df4b-4bb6-ac0c-f1da65360ff5",
   "metadata": {},
   "outputs": [
    {
     "data": {
      "text/html": [
       "<div>\n",
       "<style scoped>\n",
       "    .dataframe tbody tr th:only-of-type {\n",
       "        vertical-align: middle;\n",
       "    }\n",
       "\n",
       "    .dataframe tbody tr th {\n",
       "        vertical-align: top;\n",
       "    }\n",
       "\n",
       "    .dataframe thead th {\n",
       "        text-align: right;\n",
       "    }\n",
       "</style>\n",
       "<table border=\"1\" class=\"dataframe\">\n",
       "  <thead>\n",
       "    <tr style=\"text-align: right;\">\n",
       "      <th>ever_contacted_support</th>\n",
       "      <th>False</th>\n",
       "      <th>True</th>\n",
       "    </tr>\n",
       "    <tr>\n",
       "      <th>subscription_status</th>\n",
       "      <th></th>\n",
       "      <th></th>\n",
       "    </tr>\n",
       "  </thead>\n",
       "  <tbody>\n",
       "    <tr>\n",
       "      <th>Cancelled</th>\n",
       "      <td>1661</td>\n",
       "      <td>42</td>\n",
       "    </tr>\n",
       "    <tr>\n",
       "      <th>Subscribed</th>\n",
       "      <td>352</td>\n",
       "      <td>3905</td>\n",
       "    </tr>\n",
       "  </tbody>\n",
       "</table>\n",
       "</div>"
      ],
      "text/plain": [
       "ever_contacted_support  False  True\n",
       "subscription_status                \n",
       "Cancelled                1661    42\n",
       "Subscribed                352  3905"
      ]
     },
     "execution_count": 55,
     "metadata": {},
     "output_type": "execute_result"
    }
   ],
   "source": [
    "df_support.unstack()"
   ]
  },
  {
   "cell_type": "code",
   "execution_count": 56,
   "id": "680f0687-d43d-45ba-9813-1b3ea626be02",
   "metadata": {},
   "outputs": [],
   "source": [
    "df_app = raw[['app_user', 'subscription_status']].\\\n",
    "                groupby('subscription_status')['app_user'].value_counts()"
   ]
  },
  {
   "cell_type": "code",
   "execution_count": 57,
   "id": "39bf5c97-ca8f-4af3-ae3b-244549483928",
   "metadata": {},
   "outputs": [
    {
     "data": {
      "text/plain": [
       "<AxesSubplot:xlabel='subscription_status'>"
      ]
     },
     "execution_count": 57,
     "metadata": {},
     "output_type": "execute_result"
    },
    {
     "data": {
      "image/png": "[encoded data removed]",
      "text/plain": [
       "<Figure size 432x288 with 1 Axes>"
      ]
     },
     "metadata": {
      "needs_background": "light"
     },
     "output_type": "display_data"
    }
   ],
   "source": [
    "df_app.unstack().plot(kind = 'bar')"
   ]
  },
  {
   "cell_type": "code",
   "execution_count": 61,
   "id": "da68d80e-c6be-4e90-8a56-4963fd4d6b32",
   "metadata": {},
   "outputs": [
    {
     "data": {
      "text/html": [
       "<div>\n",
       "<style scoped>\n",
       "    .dataframe tbody tr th:only-of-type {\n",
       "        vertical-align: middle;\n",
       "    }\n",
       "\n",
       "    .dataframe tbody tr th {\n",
       "        vertical-align: top;\n",
       "    }\n",
       "\n",
       "    .dataframe thead th {\n",
       "        text-align: right;\n",
       "    }\n",
       "</style>\n",
       "<table border=\"1\" class=\"dataframe\">\n",
       "  <thead>\n",
       "    <tr style=\"text-align: right;\">\n",
       "      <th></th>\n",
       "      <th>subscription_status</th>\n",
       "      <th>app_user</th>\n",
       "      <th>ever_contacted_support</th>\n",
       "    </tr>\n",
       "    <tr>\n",
       "      <th>company_id</th>\n",
       "      <th></th>\n",
       "      <th></th>\n",
       "      <th></th>\n",
       "    </tr>\n",
       "  </thead>\n",
       "  <tbody>\n",
       "    <tr>\n",
       "      <th>17618213</th>\n",
       "      <td>Subscribed</td>\n",
       "      <td>False</td>\n",
       "      <td>True</td>\n",
       "    </tr>\n",
       "    <tr>\n",
       "      <th>17618220</th>\n",
       "      <td>Subscribed</td>\n",
       "      <td>False</td>\n",
       "      <td>True</td>\n",
       "    </tr>\n",
       "    <tr>\n",
       "      <th>17618245</th>\n",
       "      <td>Subscribed</td>\n",
       "      <td>False</td>\n",
       "      <td>True</td>\n",
       "    </tr>\n",
       "    <tr>\n",
       "      <th>17618260</th>\n",
       "      <td>Subscribed</td>\n",
       "      <td>True</td>\n",
       "      <td>True</td>\n",
       "    </tr>\n",
       "    <tr>\n",
       "      <th>17618265</th>\n",
       "      <td>Subscribed</td>\n",
       "      <td>True</td>\n",
       "      <td>True</td>\n",
       "    </tr>\n",
       "  </tbody>\n",
       "</table>\n",
       "</div>"
      ],
      "text/plain": [
       "           subscription_status  app_user  ever_contacted_support\n",
       "company_id                                                      \n",
       "17618213            Subscribed     False                    True\n",
       "17618220            Subscribed     False                    True\n",
       "17618245            Subscribed     False                    True\n",
       "17618260            Subscribed      True                    True\n",
       "17618265            Subscribed      True                    True"
      ]
     },
     "execution_count": 61,
     "metadata": {},
     "output_type": "execute_result"
    }
   ],
   "source": [
    "df_subscrip = raw[['subscription_status', 'app_user', 'ever_contacted_support']]\n",
    "df_subscrip.head()"
   ]
  },
  {
   "cell_type": "code",
   "execution_count": 63,
   "id": "597cdeb2-0054-4099-a6de-ca9a0b04b9d3",
   "metadata": {},
   "outputs": [],
   "source": [
    "df_train, df_eval = train_test_split(df_subscrip, train_size = 0.7)"
   ]
  },
  {
   "cell_type": "code",
   "execution_count": 64,
   "id": "c6946b1b-6353-4381-9f46-340c43774d99",
   "metadata": {},
   "outputs": [],
   "source": [
    "df_train, df_test = train_test_split(df_train, train_size = 0.8)"
   ]
  },
  {
   "cell_type": "code",
   "execution_count": null,
   "id": "e3fa1397-5bd4-428b-acf7-a33e2d85ecc9",
   "metadata": {},
   "outputs": [],
   "source": [
    "def data_prep(data):\n",
    "    "
   ]
  }
 ],
 "metadata": {
  "kernelspec": {
   "display_name": "Python 3 (ipykernel)",
   "language": "python",
   "name": "python3"
  },
  "language_info": {
   "codemirror_mode": {
    "name": "ipython",
    "version": 3
   },
   "file_extension": ".py",
   "mimetype": "text/x-python",
   "name": "python",
   "nbconvert_exporter": "python",
   "pygments_lexer": "ipython3",
   "version": "3.9.7"
  }
 },
 "nbformat": 4,
 "nbformat_minor": 5
}
