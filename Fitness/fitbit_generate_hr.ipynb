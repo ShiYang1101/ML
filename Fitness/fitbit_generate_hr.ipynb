{
 "cells": [
  {
   "cell_type": "code",
   "execution_count": 20,
   "id": "a57bc08e-9ec0-4d71-9b98-e46bbe9198dd",
   "metadata": {},
   "outputs": [],
   "source": [
    "import os\n",
    "import glob\n",
    "import pandas as pd"
   ]
  },
  {
   "cell_type": "code",
   "execution_count": 21,
   "id": "7fcc23d3-7b11-4dc8-9af9-38ec681b6fc4",
   "metadata": {},
   "outputs": [],
   "source": [
    "# Since raw fitbit data is not in the desired form, we need to write a function \n",
    "# to split the data.\n",
    "def data_split(data):\n",
    "    if 'value' not in data.columns:\n",
    "        print(\"The dataframe is already splitted!\")\n",
    "        return\n",
    "    data['value'] = data['value'].astype('str')\n",
    "    tmp = data.value.str.split(' ', expand = True)\n",
    "    data[['bpm', 'confidence']] = tmp[[1, 3]]\n",
    "    strip_col = ['bpm', 'confidence']\n",
    "    data[strip_col] = data[strip_col].apply(lambda x: x.str.strip(\",} \"))\n",
    "    data.drop(\"value\", axis = 1, inplace = True)"
   ]
  },
  {
   "cell_type": "code",
   "execution_count": 22,
   "id": "596c169d-55dd-4b3f-bdbf-76bf34ee00ef",
   "metadata": {},
   "outputs": [],
   "source": [
    "# The data also require further cleaning\n",
    "def fitbit_dataprep(df_fitbit):\n",
    "    \"\"\"\n",
    "    A function for cleaning fitbit data, converting bpm from string to int.\n",
    "    Also setting dateTime data to indexes with straightforward format.\n",
    "    \"\"\"\n",
    "    if df_fitbit.bpm.dtype == int:\n",
    "        print(\"The dataframe was already prepared!\")\n",
    "        return\n",
    "    df_fitbit = df_fitbit.set_index('dateTime')\n",
    "    df_fitbit['bpm'] = df_fitbit['bpm'].astype('int')\n",
    "    df_fitbit['confidence'] = df_fitbit['confidence'].astype('int')\n",
    "    df_fitbit.index = pd.to_datetime(df_fitbit.index, format = '%Y-%m-%d %H:%M:%S')\n",
    "    return df_fitbit"
   ]
  },
  {
   "cell_type": "code",
   "execution_count": 23,
   "id": "ea798675-25e9-403e-b298-da720926c93a",
   "metadata": {},
   "outputs": [
    {
     "name": "stdout",
     "output_type": "stream",
     "text": [
      "object\n"
     ]
    }
   ],
   "source": [
    "dir_list = glob.glob('./Fitbit/ShiYangLee/Physical Activity/heart_rate-*.json')\n",
    "dfs = []\n",
    "for file in dir_list:\n",
    "    data = pd.read_json(file)\n",
    "    dfs.append(data)\n",
    "temp = pd.concat(dfs, ignore_index=True)\n",
    "data_split(temp)\n",
    "fitbit_raw_df = fitbit_dataprep(temp)\n",
    "fitbit_raw_df = fitbit_raw_df.sort_index()\n",
    "fitbit_raw_df.to_csv('./Fitbit/ShiYangLee/Physical Activity/heart_rate_full.csv')"
   ]
  },
  {
   "cell_type": "code",
   "execution_count": null,
   "id": "924ff314-64b9-4452-97fd-55ca5f41aeee",
   "metadata": {},
   "outputs": [],
   "source": []
  }
 ],
 "metadata": {
  "kernelspec": {
   "display_name": "Python 3 (ipykernel)",
   "language": "python",
   "name": "python3"
  },
  "language_info": {
   "codemirror_mode": {
    "name": "ipython",
    "version": 3
   },
   "file_extension": ".py",
   "mimetype": "text/x-python",
   "name": "python",
   "nbconvert_exporter": "python",
   "pygments_lexer": "ipython3",
   "version": "3.9.7"
  }
 },
 "nbformat": 4,
 "nbformat_minor": 5
}
