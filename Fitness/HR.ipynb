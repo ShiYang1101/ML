{
 "cells": [
  {
   "cell_type": "code",
   "execution_count": 2,
   "id": "c9a15a71-a68a-4c2d-8011-4080f1bc3c2d",
   "metadata": {},
   "outputs": [],
   "source": [
    "import pandas as pd"
   ]
  },
  {
   "cell_type": "code",
   "execution_count": 1,
   "id": "b4111e1b-8573-4855-ba1c-a06f0e30c2cc",
   "metadata": {},
   "outputs": [],
   "source": [
    "Fitbit_dir = \"./Fitbit_05042022/ShiYangLee/Physical Activity/heart_rate-2022-03-29.json\""
   ]
  },
  {
   "cell_type": "code",
   "execution_count": 3,
   "id": "6eb02510-20a3-46fe-a407-ee88e291de7e",
   "metadata": {},
   "outputs": [],
   "source": [
    "df_fitbit = pd.read_json(Fitbit_dir)"
   ]
  },
  {
   "cell_type": "code",
   "execution_count": 11,
   "id": "cf1bc158-2844-4352-800e-b8796633f276",
   "metadata": {},
   "outputs": [
    {
     "data": {
      "text/html": [
       "<div>\n",
       "<style scoped>\n",
       "    .dataframe tbody tr th:only-of-type {\n",
       "        vertical-align: middle;\n",
       "    }\n",
       "\n",
       "    .dataframe tbody tr th {\n",
       "        vertical-align: top;\n",
       "    }\n",
       "\n",
       "    .dataframe thead th {\n",
       "        text-align: right;\n",
       "    }\n",
       "</style>\n",
       "<table border=\"1\" class=\"dataframe\">\n",
       "  <thead>\n",
       "    <tr style=\"text-align: right;\">\n",
       "      <th></th>\n",
       "      <th>dateTime</th>\n",
       "      <th>value</th>\n",
       "    </tr>\n",
       "  </thead>\n",
       "  <tbody>\n",
       "    <tr>\n",
       "      <th>0</th>\n",
       "      <td>2022-03-28 23:00:06</td>\n",
       "      <td>{'bpm': 56, 'confidence': 3}</td>\n",
       "    </tr>\n",
       "    <tr>\n",
       "      <th>1</th>\n",
       "      <td>2022-03-28 23:00:21</td>\n",
       "      <td>{'bpm': 56, 'confidence': 3}</td>\n",
       "    </tr>\n",
       "    <tr>\n",
       "      <th>2</th>\n",
       "      <td>2022-03-28 23:00:31</td>\n",
       "      <td>{'bpm': 57, 'confidence': 3}</td>\n",
       "    </tr>\n",
       "    <tr>\n",
       "      <th>3</th>\n",
       "      <td>2022-03-28 23:00:41</td>\n",
       "      <td>{'bpm': 58, 'confidence': 3}</td>\n",
       "    </tr>\n",
       "    <tr>\n",
       "      <th>4</th>\n",
       "      <td>2022-03-28 23:00:46</td>\n",
       "      <td>{'bpm': 57, 'confidence': 3}</td>\n",
       "    </tr>\n",
       "  </tbody>\n",
       "</table>\n",
       "</div>"
      ],
      "text/plain": [
       "             dateTime                         value\n",
       "0 2022-03-28 23:00:06  {'bpm': 56, 'confidence': 3}\n",
       "1 2022-03-28 23:00:21  {'bpm': 56, 'confidence': 3}\n",
       "2 2022-03-28 23:00:31  {'bpm': 57, 'confidence': 3}\n",
       "3 2022-03-28 23:00:41  {'bpm': 58, 'confidence': 3}\n",
       "4 2022-03-28 23:00:46  {'bpm': 57, 'confidence': 3}"
      ]
     },
     "execution_count": 11,
     "metadata": {},
     "output_type": "execute_result"
    }
   ],
   "source": [
    "df_fitbit.head()"
   ]
  },
  {
   "cell_type": "code",
   "execution_count": 5,
   "id": "8163057b-5af4-4eed-abe0-124735378aed",
   "metadata": {},
   "outputs": [
    {
     "data": {
      "text/plain": [
       "dtype('O')"
      ]
     },
     "execution_count": 5,
     "metadata": {},
     "output_type": "execute_result"
    }
   ],
   "source": [
    "df_fitbit.value.dtype"
   ]
  },
  {
   "cell_type": "code",
   "execution_count": 6,
   "id": "d6c8bed3-775b-4257-89b5-9173f87e07fa",
   "metadata": {},
   "outputs": [
    {
     "data": {
      "text/plain": [
       "dateTime    0\n",
       "value       0\n",
       "dtype: int64"
      ]
     },
     "execution_count": 6,
     "metadata": {},
     "output_type": "execute_result"
    }
   ],
   "source": [
    "df_fitbit.isnull().sum()"
   ]
  },
  {
   "cell_type": "code",
   "execution_count": 22,
   "id": "e3eb6fd7-6833-4f2c-9f8e-6d3872ed8df0",
   "metadata": {},
   "outputs": [],
   "source": [
    "def data_split(data):\n",
    "    data['value'] = data['value'].astype('str')\n",
    "    print(data.value.dtype)\n",
    "    tmp = data.value.str.split(' ', expand = True)\n",
    "    data[['bpm', 'confidence']] = tmp[["
   ]
  },
  {
   "cell_type": "code",
   "execution_count": 23,
   "id": "0aa4615a-9933-4938-89da-317d0c672fa9",
   "metadata": {},
   "outputs": [
    {
     "name": "stdout",
     "output_type": "stream",
     "text": [
      "object\n",
      "             0    1              2   3\n",
      "0      {'bpm':  56,  'confidence':  3}\n",
      "1      {'bpm':  56,  'confidence':  3}\n",
      "2      {'bpm':  57,  'confidence':  3}\n",
      "3      {'bpm':  58,  'confidence':  3}\n",
      "4      {'bpm':  57,  'confidence':  3}\n",
      "...        ...  ...            ...  ..\n",
      "11351  {'bpm':  75,  'confidence':  3}\n",
      "11352  {'bpm':  79,  'confidence':  2}\n",
      "11353  {'bpm':  73,  'confidence':  2}\n",
      "11354  {'bpm':  68,  'confidence':  3}\n",
      "11355  {'bpm':  64,  'confidence':  3}\n",
      "\n",
      "[11356 rows x 4 columns]\n"
     ]
    }
   ],
   "source": [
    "data_split(df_fitbit)"
   ]
  },
  {
   "cell_type": "code",
   "execution_count": null,
   "id": "d09a1e43-1355-4125-b0d2-2b56b4bca6b8",
   "metadata": {},
   "outputs": [],
   "source": []
  }
 ],
 "metadata": {
  "kernelspec": {
   "display_name": "Python 3 (ipykernel)",
   "language": "python",
   "name": "python3"
  },
  "language_info": {
   "codemirror_mode": {
    "name": "ipython",
    "version": 3
   },
   "file_extension": ".py",
   "mimetype": "text/x-python",
   "name": "python",
   "nbconvert_exporter": "python",
   "pygments_lexer": "ipython3",
   "version": "3.9.7"
  }
 },
 "nbformat": 4,
 "nbformat_minor": 5
}
